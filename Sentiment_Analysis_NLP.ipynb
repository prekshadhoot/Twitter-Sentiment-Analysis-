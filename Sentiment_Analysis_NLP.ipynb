{
  "nbformat": 4,
  "nbformat_minor": 0,
  "metadata": {
    "colab": {
      "name": "Sentiment Analysis NLP.ipynb",
      "provenance": [],
      "collapsed_sections": [],
      "toc_visible": true
    },
    "kernelspec": {
      "name": "python3",
      "display_name": "Python 3"
    }
  },
  "cells": [
    {
      "cell_type": "markdown",
      "metadata": {
        "id": "AMJXEY9r4Af6"
      },
      "source": [
        "# General Feature Extraction"
      ]
    },
    {
      "cell_type": "code",
      "metadata": {
        "id": "7SD5VWS44E-Q"
      },
      "source": [
        "# pip install -U spacy\n",
        "# pip install -U spacy-lookups-data\n",
        "# python -m spacy download en_core_web_sm\n",
        "# python -m spacy download en_core_web_md\n",
        "# python -m spacy download en_core_web_lg"
      ],
      "execution_count": null,
      "outputs": []
    },
    {
      "cell_type": "code",
      "metadata": {
        "id": "sbaRRO7u4GOn"
      },
      "source": [
        "import pandas as pd\n",
        "import numpy as np\n",
        "import spacy\n",
        "from spacy.lang.en.stop_words import STOP_WORDS"
      ],
      "execution_count": null,
      "outputs": []
    },
    {
      "cell_type": "code",
      "metadata": {
        "id": "UUipdyM74GU_",
        "colab": {
          "base_uri": "https://localhost:8080/",
          "height": 197
        },
        "outputId": "b9182b33-1ea5-4c70-e921-758b055c888a"
      },
      "source": [
        "df=pd.read_csv('train.csv')\n",
        "\n",
        "#df2=pd.read_csv('train.csv')\n",
        "df.head() "
      ],
      "execution_count": null,
      "outputs": [
        {
          "output_type": "execute_result",
          "data": {
            "text/html": [
              "<div>\n",
              "<style scoped>\n",
              "    .dataframe tbody tr th:only-of-type {\n",
              "        vertical-align: middle;\n",
              "    }\n",
              "\n",
              "    .dataframe tbody tr th {\n",
              "        vertical-align: top;\n",
              "    }\n",
              "\n",
              "    .dataframe thead th {\n",
              "        text-align: right;\n",
              "    }\n",
              "</style>\n",
              "<table border=\"1\" class=\"dataframe\">\n",
              "  <thead>\n",
              "    <tr style=\"text-align: right;\">\n",
              "      <th></th>\n",
              "      <th>tweet_id</th>\n",
              "      <th>sentiment</th>\n",
              "      <th>tweet_text</th>\n",
              "    </tr>\n",
              "  </thead>\n",
              "  <tbody>\n",
              "    <tr>\n",
              "      <th>0</th>\n",
              "      <td>264183816548130816</td>\n",
              "      <td>positive</td>\n",
              "      <td>Gas by my house hit $3.39!!!! I\\u2019m going t...</td>\n",
              "    </tr>\n",
              "    <tr>\n",
              "      <th>1</th>\n",
              "      <td>263405084770172928</td>\n",
              "      <td>negative</td>\n",
              "      <td>Theo Walcott is still shit\\u002c watch Rafa an...</td>\n",
              "    </tr>\n",
              "    <tr>\n",
              "      <th>2</th>\n",
              "      <td>262163168678248449</td>\n",
              "      <td>negative</td>\n",
              "      <td>its not that I\\u2019m a GSP fan\\u002c i just h...</td>\n",
              "    </tr>\n",
              "    <tr>\n",
              "      <th>3</th>\n",
              "      <td>264249301910310912</td>\n",
              "      <td>negative</td>\n",
              "      <td>Iranian general says Israel\\u2019s Iron Dome c...</td>\n",
              "    </tr>\n",
              "    <tr>\n",
              "      <th>4</th>\n",
              "      <td>262682041215234048</td>\n",
              "      <td>neutral</td>\n",
              "      <td>Tehran\\u002c Mon Amour: Obama Tried to Establi...</td>\n",
              "    </tr>\n",
              "  </tbody>\n",
              "</table>\n",
              "</div>"
            ],
            "text/plain": [
              "             tweet_id  ...                                         tweet_text\n",
              "0  264183816548130816  ...  Gas by my house hit $3.39!!!! I\\u2019m going t...\n",
              "1  263405084770172928  ...  Theo Walcott is still shit\\u002c watch Rafa an...\n",
              "2  262163168678248449  ...  its not that I\\u2019m a GSP fan\\u002c i just h...\n",
              "3  264249301910310912  ...  Iranian general says Israel\\u2019s Iron Dome c...\n",
              "4  262682041215234048  ...  Tehran\\u002c Mon Amour: Obama Tried to Establi...\n",
              "\n",
              "[5 rows x 3 columns]"
            ]
          },
          "metadata": {
            "tags": []
          },
          "execution_count": 3
        }
      ]
    },
    {
      "cell_type": "code",
      "metadata": {
        "id": "D6NzQlFTYpR7",
        "colab": {
          "base_uri": "https://localhost:8080/",
          "height": 197
        },
        "outputId": "1f774a28-e9f1-416c-9dc9-271bd618230a"
      },
      "source": [
        "df_test = pd.read_csv('test_samples.csv')\n",
        "df_test.head()"
      ],
      "execution_count": null,
      "outputs": [
        {
          "output_type": "execute_result",
          "data": {
            "text/html": [
              "<div>\n",
              "<style scoped>\n",
              "    .dataframe tbody tr th:only-of-type {\n",
              "        vertical-align: middle;\n",
              "    }\n",
              "\n",
              "    .dataframe tbody tr th {\n",
              "        vertical-align: top;\n",
              "    }\n",
              "\n",
              "    .dataframe thead th {\n",
              "        text-align: right;\n",
              "    }\n",
              "</style>\n",
              "<table border=\"1\" class=\"dataframe\">\n",
              "  <thead>\n",
              "    <tr style=\"text-align: right;\">\n",
              "      <th></th>\n",
              "      <th>tweet_id</th>\n",
              "      <th>tweet_text</th>\n",
              "    </tr>\n",
              "  </thead>\n",
              "  <tbody>\n",
              "    <tr>\n",
              "      <th>0</th>\n",
              "      <td>264238274963451904</td>\n",
              "      <td>@jjuueellzz down in the Atlantic city, ventnor...</td>\n",
              "    </tr>\n",
              "    <tr>\n",
              "      <th>1</th>\n",
              "      <td>218775148495515649</td>\n",
              "      <td>Musical awareness: Great Big Beautiful Tomorro...</td>\n",
              "    </tr>\n",
              "    <tr>\n",
              "      <th>2</th>\n",
              "      <td>258965201766998017</td>\n",
              "      <td>On Radio786 100.4fm 7:10 Fri Oct 19 Labour ana...</td>\n",
              "    </tr>\n",
              "    <tr>\n",
              "      <th>3</th>\n",
              "      <td>262926411352903682</td>\n",
              "      <td>Kapan sih lo ngebuktiin,jan ngomong doang Susa...</td>\n",
              "    </tr>\n",
              "    <tr>\n",
              "      <th>4</th>\n",
              "      <td>171874368908050432</td>\n",
              "      <td>Excuse the connectivity of this live stream, f...</td>\n",
              "    </tr>\n",
              "  </tbody>\n",
              "</table>\n",
              "</div>"
            ],
            "text/plain": [
              "             tweet_id                                         tweet_text\n",
              "0  264238274963451904  @jjuueellzz down in the Atlantic city, ventnor...\n",
              "1  218775148495515649  Musical awareness: Great Big Beautiful Tomorro...\n",
              "2  258965201766998017  On Radio786 100.4fm 7:10 Fri Oct 19 Labour ana...\n",
              "3  262926411352903682  Kapan sih lo ngebuktiin,jan ngomong doang Susa...\n",
              "4  171874368908050432  Excuse the connectivity of this live stream, f..."
            ]
          },
          "metadata": {
            "tags": []
          },
          "execution_count": 4
        }
      ]
    },
    {
      "cell_type": "code",
      "metadata": {
        "id": "zcQDiXcT6lhX"
      },
      "source": [
        "# df=df[[5,0]]\n",
        "# df.columns=['tweet_text','sentiment']\n",
        "# df.head()"
      ],
      "execution_count": null,
      "outputs": []
    },
    {
      "cell_type": "code",
      "metadata": {
        "id": "BuSSHR5A6lfI",
        "colab": {
          "base_uri": "https://localhost:8080/",
          "height": 87
        },
        "outputId": "153ca17a-31f1-4f9f-f6dc-4c75ee2b8eea"
      },
      "source": [
        "df['sentiment'].value_counts()\n"
      ],
      "execution_count": null,
      "outputs": [
        {
          "output_type": "execute_result",
          "data": {
            "text/plain": [
              "positive    9064\n",
              "neutral     9014\n",
              "negative    3387\n",
              "Name: sentiment, dtype: int64"
            ]
          },
          "metadata": {
            "tags": []
          },
          "execution_count": 6
        }
      ]
    },
    {
      "cell_type": "code",
      "metadata": {
        "id": "sfl1IqiR6lXZ",
        "colab": {
          "base_uri": "https://localhost:8080/",
          "height": 197
        },
        "outputId": "71a9190e-4f70-429a-9152-ac4cd435291d"
      },
      "source": [
        "df['word_counts']=df['tweet_text'].apply(lambda x: len(str(x).split()))\n",
        "df.head()"
      ],
      "execution_count": null,
      "outputs": [
        {
          "output_type": "execute_result",
          "data": {
            "text/html": [
              "<div>\n",
              "<style scoped>\n",
              "    .dataframe tbody tr th:only-of-type {\n",
              "        vertical-align: middle;\n",
              "    }\n",
              "\n",
              "    .dataframe tbody tr th {\n",
              "        vertical-align: top;\n",
              "    }\n",
              "\n",
              "    .dataframe thead th {\n",
              "        text-align: right;\n",
              "    }\n",
              "</style>\n",
              "<table border=\"1\" class=\"dataframe\">\n",
              "  <thead>\n",
              "    <tr style=\"text-align: right;\">\n",
              "      <th></th>\n",
              "      <th>tweet_id</th>\n",
              "      <th>sentiment</th>\n",
              "      <th>tweet_text</th>\n",
              "      <th>word_counts</th>\n",
              "    </tr>\n",
              "  </thead>\n",
              "  <tbody>\n",
              "    <tr>\n",
              "      <th>0</th>\n",
              "      <td>264183816548130816</td>\n",
              "      <td>positive</td>\n",
              "      <td>Gas by my house hit $3.39!!!! I\\u2019m going t...</td>\n",
              "      <td>14</td>\n",
              "    </tr>\n",
              "    <tr>\n",
              "      <th>1</th>\n",
              "      <td>263405084770172928</td>\n",
              "      <td>negative</td>\n",
              "      <td>Theo Walcott is still shit\\u002c watch Rafa an...</td>\n",
              "      <td>14</td>\n",
              "    </tr>\n",
              "    <tr>\n",
              "      <th>2</th>\n",
              "      <td>262163168678248449</td>\n",
              "      <td>negative</td>\n",
              "      <td>its not that I\\u2019m a GSP fan\\u002c i just h...</td>\n",
              "      <td>16</td>\n",
              "    </tr>\n",
              "    <tr>\n",
              "      <th>3</th>\n",
              "      <td>264249301910310912</td>\n",
              "      <td>negative</td>\n",
              "      <td>Iranian general says Israel\\u2019s Iron Dome c...</td>\n",
              "      <td>22</td>\n",
              "    </tr>\n",
              "    <tr>\n",
              "      <th>4</th>\n",
              "      <td>262682041215234048</td>\n",
              "      <td>neutral</td>\n",
              "      <td>Tehran\\u002c Mon Amour: Obama Tried to Establi...</td>\n",
              "      <td>21</td>\n",
              "    </tr>\n",
              "  </tbody>\n",
              "</table>\n",
              "</div>"
            ],
            "text/plain": [
              "             tweet_id  ... word_counts\n",
              "0  264183816548130816  ...          14\n",
              "1  263405084770172928  ...          14\n",
              "2  262163168678248449  ...          16\n",
              "3  264249301910310912  ...          22\n",
              "4  262682041215234048  ...          21\n",
              "\n",
              "[5 rows x 4 columns]"
            ]
          },
          "metadata": {
            "tags": []
          },
          "execution_count": 7
        }
      ]
    },
    {
      "cell_type": "code",
      "metadata": {
        "id": "lnYICymG7LN-",
        "colab": {
          "base_uri": "https://localhost:8080/",
          "height": 197
        },
        "outputId": "129b752e-07eb-4406-9b05-299691c25689"
      },
      "source": [
        "df['char_counts']=df['tweet_text'].apply(lambda x: len(x))\n",
        "df.head()"
      ],
      "execution_count": null,
      "outputs": [
        {
          "output_type": "execute_result",
          "data": {
            "text/html": [
              "<div>\n",
              "<style scoped>\n",
              "    .dataframe tbody tr th:only-of-type {\n",
              "        vertical-align: middle;\n",
              "    }\n",
              "\n",
              "    .dataframe tbody tr th {\n",
              "        vertical-align: top;\n",
              "    }\n",
              "\n",
              "    .dataframe thead th {\n",
              "        text-align: right;\n",
              "    }\n",
              "</style>\n",
              "<table border=\"1\" class=\"dataframe\">\n",
              "  <thead>\n",
              "    <tr style=\"text-align: right;\">\n",
              "      <th></th>\n",
              "      <th>tweet_id</th>\n",
              "      <th>sentiment</th>\n",
              "      <th>tweet_text</th>\n",
              "      <th>word_counts</th>\n",
              "      <th>char_counts</th>\n",
              "    </tr>\n",
              "  </thead>\n",
              "  <tbody>\n",
              "    <tr>\n",
              "      <th>0</th>\n",
              "      <td>264183816548130816</td>\n",
              "      <td>positive</td>\n",
              "      <td>Gas by my house hit $3.39!!!! I\\u2019m going t...</td>\n",
              "      <td>14</td>\n",
              "      <td>70</td>\n",
              "    </tr>\n",
              "    <tr>\n",
              "      <th>1</th>\n",
              "      <td>263405084770172928</td>\n",
              "      <td>negative</td>\n",
              "      <td>Theo Walcott is still shit\\u002c watch Rafa an...</td>\n",
              "      <td>14</td>\n",
              "      <td>81</td>\n",
              "    </tr>\n",
              "    <tr>\n",
              "      <th>2</th>\n",
              "      <td>262163168678248449</td>\n",
              "      <td>negative</td>\n",
              "      <td>its not that I\\u2019m a GSP fan\\u002c i just h...</td>\n",
              "      <td>16</td>\n",
              "      <td>90</td>\n",
              "    </tr>\n",
              "    <tr>\n",
              "      <th>3</th>\n",
              "      <td>264249301910310912</td>\n",
              "      <td>negative</td>\n",
              "      <td>Iranian general says Israel\\u2019s Iron Dome c...</td>\n",
              "      <td>22</td>\n",
              "      <td>135</td>\n",
              "    </tr>\n",
              "    <tr>\n",
              "      <th>4</th>\n",
              "      <td>262682041215234048</td>\n",
              "      <td>neutral</td>\n",
              "      <td>Tehran\\u002c Mon Amour: Obama Tried to Establi...</td>\n",
              "      <td>21</td>\n",
              "      <td>143</td>\n",
              "    </tr>\n",
              "  </tbody>\n",
              "</table>\n",
              "</div>"
            ],
            "text/plain": [
              "             tweet_id sentiment  ... word_counts  char_counts\n",
              "0  264183816548130816  positive  ...          14           70\n",
              "1  263405084770172928  negative  ...          14           81\n",
              "2  262163168678248449  negative  ...          16           90\n",
              "3  264249301910310912  negative  ...          22          135\n",
              "4  262682041215234048   neutral  ...          21          143\n",
              "\n",
              "[5 rows x 5 columns]"
            ]
          },
          "metadata": {
            "tags": []
          },
          "execution_count": 8
        }
      ]
    },
    {
      "cell_type": "code",
      "metadata": {
        "id": "Q4QiSgWi7o4z"
      },
      "source": [
        "# Average Word Length\n",
        "def get_avg_word_len(x):\n",
        "    words=x.split()\n",
        "    word_len=0\n",
        "    for word in words:\n",
        "        word_len=word_len +len(word)\n",
        "    return word_len/len(words)\n",
        "\n",
        "df['avg_word_len']=df['tweet_text'].apply(lambda x: get_avg_word_len(x))"
      ],
      "execution_count": null,
      "outputs": []
    },
    {
      "cell_type": "code",
      "metadata": {
        "id": "BfkefEfK7o2w",
        "colab": {
          "base_uri": "https://localhost:8080/",
          "height": 197
        },
        "outputId": "b6f5ddca-71e1-4716-ae83-9e4632910822"
      },
      "source": [
        "df.head()"
      ],
      "execution_count": null,
      "outputs": [
        {
          "output_type": "execute_result",
          "data": {
            "text/html": [
              "<div>\n",
              "<style scoped>\n",
              "    .dataframe tbody tr th:only-of-type {\n",
              "        vertical-align: middle;\n",
              "    }\n",
              "\n",
              "    .dataframe tbody tr th {\n",
              "        vertical-align: top;\n",
              "    }\n",
              "\n",
              "    .dataframe thead th {\n",
              "        text-align: right;\n",
              "    }\n",
              "</style>\n",
              "<table border=\"1\" class=\"dataframe\">\n",
              "  <thead>\n",
              "    <tr style=\"text-align: right;\">\n",
              "      <th></th>\n",
              "      <th>tweet_id</th>\n",
              "      <th>sentiment</th>\n",
              "      <th>tweet_text</th>\n",
              "      <th>word_counts</th>\n",
              "      <th>char_counts</th>\n",
              "      <th>avg_word_len</th>\n",
              "    </tr>\n",
              "  </thead>\n",
              "  <tbody>\n",
              "    <tr>\n",
              "      <th>0</th>\n",
              "      <td>264183816548130816</td>\n",
              "      <td>positive</td>\n",
              "      <td>Gas by my house hit $3.39!!!! I\\u2019m going t...</td>\n",
              "      <td>14</td>\n",
              "      <td>70</td>\n",
              "      <td>4.071429</td>\n",
              "    </tr>\n",
              "    <tr>\n",
              "      <th>1</th>\n",
              "      <td>263405084770172928</td>\n",
              "      <td>negative</td>\n",
              "      <td>Theo Walcott is still shit\\u002c watch Rafa an...</td>\n",
              "      <td>14</td>\n",
              "      <td>81</td>\n",
              "      <td>4.857143</td>\n",
              "    </tr>\n",
              "    <tr>\n",
              "      <th>2</th>\n",
              "      <td>262163168678248449</td>\n",
              "      <td>negative</td>\n",
              "      <td>its not that I\\u2019m a GSP fan\\u002c i just h...</td>\n",
              "      <td>16</td>\n",
              "      <td>90</td>\n",
              "      <td>4.687500</td>\n",
              "    </tr>\n",
              "    <tr>\n",
              "      <th>3</th>\n",
              "      <td>264249301910310912</td>\n",
              "      <td>negative</td>\n",
              "      <td>Iranian general says Israel\\u2019s Iron Dome c...</td>\n",
              "      <td>22</td>\n",
              "      <td>135</td>\n",
              "      <td>5.181818</td>\n",
              "    </tr>\n",
              "    <tr>\n",
              "      <th>4</th>\n",
              "      <td>262682041215234048</td>\n",
              "      <td>neutral</td>\n",
              "      <td>Tehran\\u002c Mon Amour: Obama Tried to Establi...</td>\n",
              "      <td>21</td>\n",
              "      <td>143</td>\n",
              "      <td>5.857143</td>\n",
              "    </tr>\n",
              "  </tbody>\n",
              "</table>\n",
              "</div>"
            ],
            "text/plain": [
              "             tweet_id sentiment  ... char_counts  avg_word_len\n",
              "0  264183816548130816  positive  ...          70      4.071429\n",
              "1  263405084770172928  negative  ...          81      4.857143\n",
              "2  262163168678248449  negative  ...          90      4.687500\n",
              "3  264249301910310912  negative  ...         135      5.181818\n",
              "4  262682041215234048   neutral  ...         143      5.857143\n",
              "\n",
              "[5 rows x 6 columns]"
            ]
          },
          "metadata": {
            "tags": []
          },
          "execution_count": 10
        }
      ]
    },
    {
      "cell_type": "code",
      "metadata": {
        "id": "NL0Xli5Y7oyK",
        "colab": {
          "base_uri": "https://localhost:8080/",
          "height": 54
        },
        "outputId": "4ee1e307-d286-4db2-84ab-9ca227bd656a"
      },
      "source": [
        "print(STOP_WORDS)"
      ],
      "execution_count": null,
      "outputs": [
        {
          "output_type": "stream",
          "text": [
            "{'using', 'herein', 'regarding', 'n‘t', 'where', 'by', '‘m', 'almost', 'can', 'but', 'ten', 'thence', 'hers', 'that', 'thru', 'front', 'hereupon', 'used', 'down', 'yourselves', 'yourself', 'beforehand', 'whole', 'amount', '’ll', 'only', \"'ve\", 'somehow', 'whereafter', 'behind', 'itself', 'upon', 'whither', 'five', 'why', 'sometimes', 'fifteen', 'too', 'became', 'has', 'her', 'wherein', 'move', 'another', 'former', 'moreover', 'rather', 'so', 'them', 'namely', 'thereby', 'to', \"n't\", 'never', 'throughout', 'six', '‘re', 'next', 'during', 'always', 'it', 'neither', 'not', 'via', 'become', 'you', 'serious', '’m', 'go', 'than', 'anyway', 'without', 'made', 'is', 'for', 'between', 'below', 'again', 'herself', 'one', 'please', 'fifty', 'afterwards', 'my', 'two', 'with', 'else', 'have', 'if', 'may', 'doing', 'should', 'the', 'up', 'had', 'since', 'everyone', 'on', '‘d', 'cannot', 'somewhere', 'themselves', 'mostly', 'top', 'as', 'then', 'this', 'are', 'does', 'above', 'someone', 'less', 'back', 'others', 'off', 'myself', 'must', 'just', 'over', 'first', 'per', \"'d\", 'hereafter', 'after', 're', 'an', 'they', '’re', 'mine', 'four', 'therein', 'would', 'about', 'hence', 'quite', 'side', 'your', 'before', 'various', 'amongst', 'name', 'nine', 'put', '’ve', \"'m\", 'of', 'whereupon', 'already', 'its', 'other', 'really', 'see', 'or', 'beside', 'seeming', 'through', 'anywhere', 'anyone', 'part', 'otherwise', 'several', 'show', 'were', 'because', 'make', 'full', 'was', \"'ll\", 'hereby', 'when', 'bottom', 'each', 'whoever', 'within', 'their', 'nothing', 'except', 'wherever', 'seems', 'yet', 'latter', 'such', 'even', 'i', 'though', 'further', 'anything', 'onto', 'something', 'whenever', 'among', 'seemed', 'some', 'towards', 'still', 'few', 'whether', 'a', 'there', 'those', 'very', '’s', 'in', 'which', 'us', 'himself', 'thereafter', 'due', 'twenty', 'noone', 'unless', 'last', 'these', 'across', 'alone', 'whatever', 'how', 'we', 'along', 'sometime', 'might', 'becoming', 'together', 'whom', 'am', 'indeed', 'out', \"'re\", 'our', 'thus', 'own', 'perhaps', '‘s', 'while', 'many', 'what', 'him', 'more', 'sixty', 'nor', 'latterly', 'here', 'much', 'from', 'twelve', 'everywhere', 'being', '’d', 'nobody', 'eight', 'ca', 'three', 'any', 'whence', 'say', 'will', 'least', 'against', 'hundred', 'same', 'yours', '‘ll', 'whereas', 'also', 'been', 'do', 'none', 'often', 'ever', 'ours', 'well', 'everything', 'therefore', 'get', 'formerly', 'most', 'who', 'now', 'call', 'done', 'n’t', 'eleven', 'third', 'once', '‘ve', 'every', 'could', 'seem', 'be', 'whose', 'keep', 'no', 'give', 'at', 'beyond', 'forty', 'becomes', 'he', 'into', 'all', 'me', 'toward', 'under', 'elsewhere', 'and', 'enough', 'his', \"'s\", 'around', 'both', 'either', 'nevertheless', 'ourselves', 'empty', 'she', 'although', 'take', 'meanwhile', 'besides', 'did', 'whereby', 'however', 'until', 'thereupon', 'nowhere', 'anyhow'}\n"
          ],
          "name": "stdout"
        }
      ]
    },
    {
      "cell_type": "code",
      "metadata": {
        "id": "oMmsjsUv7ot-",
        "colab": {
          "base_uri": "https://localhost:8080/",
          "height": 197
        },
        "outputId": "da85984e-5b92-45ff-f61a-b64aa6d2e1d2"
      },
      "source": [
        "df['stop_words_len'] =df['tweet_text'].apply(lambda x: len([t for t in x.split() if t in STOP_WORDS]))\n",
        "df.head()"
      ],
      "execution_count": null,
      "outputs": [
        {
          "output_type": "execute_result",
          "data": {
            "text/html": [
              "<div>\n",
              "<style scoped>\n",
              "    .dataframe tbody tr th:only-of-type {\n",
              "        vertical-align: middle;\n",
              "    }\n",
              "\n",
              "    .dataframe tbody tr th {\n",
              "        vertical-align: top;\n",
              "    }\n",
              "\n",
              "    .dataframe thead th {\n",
              "        text-align: right;\n",
              "    }\n",
              "</style>\n",
              "<table border=\"1\" class=\"dataframe\">\n",
              "  <thead>\n",
              "    <tr style=\"text-align: right;\">\n",
              "      <th></th>\n",
              "      <th>tweet_id</th>\n",
              "      <th>sentiment</th>\n",
              "      <th>tweet_text</th>\n",
              "      <th>word_counts</th>\n",
              "      <th>char_counts</th>\n",
              "      <th>avg_word_len</th>\n",
              "      <th>stop_words_len</th>\n",
              "    </tr>\n",
              "  </thead>\n",
              "  <tbody>\n",
              "    <tr>\n",
              "      <th>0</th>\n",
              "      <td>264183816548130816</td>\n",
              "      <td>positive</td>\n",
              "      <td>Gas by my house hit $3.39!!!! I\\u2019m going t...</td>\n",
              "      <td>14</td>\n",
              "      <td>70</td>\n",
              "      <td>4.071429</td>\n",
              "      <td>4</td>\n",
              "    </tr>\n",
              "    <tr>\n",
              "      <th>1</th>\n",
              "      <td>263405084770172928</td>\n",
              "      <td>negative</td>\n",
              "      <td>Theo Walcott is still shit\\u002c watch Rafa an...</td>\n",
              "      <td>14</td>\n",
              "      <td>81</td>\n",
              "      <td>4.857143</td>\n",
              "      <td>6</td>\n",
              "    </tr>\n",
              "    <tr>\n",
              "      <th>2</th>\n",
              "      <td>262163168678248449</td>\n",
              "      <td>negative</td>\n",
              "      <td>its not that I\\u2019m a GSP fan\\u002c i just h...</td>\n",
              "      <td>16</td>\n",
              "      <td>90</td>\n",
              "      <td>4.687500</td>\n",
              "      <td>7</td>\n",
              "    </tr>\n",
              "    <tr>\n",
              "      <th>3</th>\n",
              "      <td>264249301910310912</td>\n",
              "      <td>negative</td>\n",
              "      <td>Iranian general says Israel\\u2019s Iron Dome c...</td>\n",
              "      <td>22</td>\n",
              "      <td>135</td>\n",
              "      <td>5.181818</td>\n",
              "      <td>7</td>\n",
              "    </tr>\n",
              "    <tr>\n",
              "      <th>4</th>\n",
              "      <td>262682041215234048</td>\n",
              "      <td>neutral</td>\n",
              "      <td>Tehran\\u002c Mon Amour: Obama Tried to Establi...</td>\n",
              "      <td>21</td>\n",
              "      <td>143</td>\n",
              "      <td>5.857143</td>\n",
              "      <td>4</td>\n",
              "    </tr>\n",
              "  </tbody>\n",
              "</table>\n",
              "</div>"
            ],
            "text/plain": [
              "             tweet_id sentiment  ... avg_word_len  stop_words_len\n",
              "0  264183816548130816  positive  ...     4.071429               4\n",
              "1  263405084770172928  negative  ...     4.857143               6\n",
              "2  262163168678248449  negative  ...     4.687500               7\n",
              "3  264249301910310912  negative  ...     5.181818               7\n",
              "4  262682041215234048   neutral  ...     5.857143               4\n",
              "\n",
              "[5 rows x 7 columns]"
            ]
          },
          "metadata": {
            "tags": []
          },
          "execution_count": 12
        }
      ]
    },
    {
      "cell_type": "code",
      "metadata": {
        "id": "K9vZbWur7Nts"
      },
      "source": [
        "#Count #HashTags and @Mentions\n",
        "df['hashtags_count'] = df['tweet_text'].apply(lambda x: len([t for t in x.split() if t.startswith('#')]))\n",
        "df['mentions_ count'] = df['tweet_text'].apply(lambda x: len([t for t in x.split() if t.startswith('@')]))"
      ],
      "execution_count": null,
      "outputs": []
    },
    {
      "cell_type": "code",
      "metadata": {
        "id": "0DjIcrTa846y",
        "colab": {
          "base_uri": "https://localhost:8080/",
          "height": 297
        },
        "outputId": "6b9ea49e-d8fa-4aab-9f46-3c939b8ee649"
      },
      "source": [
        "df.head()"
      ],
      "execution_count": null,
      "outputs": [
        {
          "output_type": "execute_result",
          "data": {
            "text/html": [
              "<div>\n",
              "<style scoped>\n",
              "    .dataframe tbody tr th:only-of-type {\n",
              "        vertical-align: middle;\n",
              "    }\n",
              "\n",
              "    .dataframe tbody tr th {\n",
              "        vertical-align: top;\n",
              "    }\n",
              "\n",
              "    .dataframe thead th {\n",
              "        text-align: right;\n",
              "    }\n",
              "</style>\n",
              "<table border=\"1\" class=\"dataframe\">\n",
              "  <thead>\n",
              "    <tr style=\"text-align: right;\">\n",
              "      <th></th>\n",
              "      <th>tweet_id</th>\n",
              "      <th>sentiment</th>\n",
              "      <th>tweet_text</th>\n",
              "      <th>word_counts</th>\n",
              "      <th>char_counts</th>\n",
              "      <th>avg_word_len</th>\n",
              "      <th>stop_words_len</th>\n",
              "      <th>hashtags_count</th>\n",
              "      <th>mentions_ count</th>\n",
              "    </tr>\n",
              "  </thead>\n",
              "  <tbody>\n",
              "    <tr>\n",
              "      <th>0</th>\n",
              "      <td>264183816548130816</td>\n",
              "      <td>positive</td>\n",
              "      <td>Gas by my house hit $3.39!!!! I\\u2019m going t...</td>\n",
              "      <td>14</td>\n",
              "      <td>70</td>\n",
              "      <td>4.071429</td>\n",
              "      <td>4</td>\n",
              "      <td>0</td>\n",
              "      <td>0</td>\n",
              "    </tr>\n",
              "    <tr>\n",
              "      <th>1</th>\n",
              "      <td>263405084770172928</td>\n",
              "      <td>negative</td>\n",
              "      <td>Theo Walcott is still shit\\u002c watch Rafa an...</td>\n",
              "      <td>14</td>\n",
              "      <td>81</td>\n",
              "      <td>4.857143</td>\n",
              "      <td>6</td>\n",
              "      <td>0</td>\n",
              "      <td>0</td>\n",
              "    </tr>\n",
              "    <tr>\n",
              "      <th>2</th>\n",
              "      <td>262163168678248449</td>\n",
              "      <td>negative</td>\n",
              "      <td>its not that I\\u2019m a GSP fan\\u002c i just h...</td>\n",
              "      <td>16</td>\n",
              "      <td>90</td>\n",
              "      <td>4.687500</td>\n",
              "      <td>7</td>\n",
              "      <td>0</td>\n",
              "      <td>0</td>\n",
              "    </tr>\n",
              "    <tr>\n",
              "      <th>3</th>\n",
              "      <td>264249301910310912</td>\n",
              "      <td>negative</td>\n",
              "      <td>Iranian general says Israel\\u2019s Iron Dome c...</td>\n",
              "      <td>22</td>\n",
              "      <td>135</td>\n",
              "      <td>5.181818</td>\n",
              "      <td>7</td>\n",
              "      <td>0</td>\n",
              "      <td>0</td>\n",
              "    </tr>\n",
              "    <tr>\n",
              "      <th>4</th>\n",
              "      <td>262682041215234048</td>\n",
              "      <td>neutral</td>\n",
              "      <td>Tehran\\u002c Mon Amour: Obama Tried to Establi...</td>\n",
              "      <td>21</td>\n",
              "      <td>143</td>\n",
              "      <td>5.857143</td>\n",
              "      <td>4</td>\n",
              "      <td>0</td>\n",
              "      <td>1</td>\n",
              "    </tr>\n",
              "  </tbody>\n",
              "</table>\n",
              "</div>"
            ],
            "text/plain": [
              "             tweet_id sentiment  ... hashtags_count  mentions_ count\n",
              "0  264183816548130816  positive  ...              0                0\n",
              "1  263405084770172928  negative  ...              0                0\n",
              "2  262163168678248449  negative  ...              0                0\n",
              "3  264249301910310912  negative  ...              0                0\n",
              "4  262682041215234048   neutral  ...              0                1\n",
              "\n",
              "[5 rows x 9 columns]"
            ]
          },
          "metadata": {
            "tags": []
          },
          "execution_count": 14
        }
      ]
    },
    {
      "cell_type": "code",
      "metadata": {
        "id": "25euoIlq86wo",
        "colab": {
          "base_uri": "https://localhost:8080/",
          "height": 551
        },
        "outputId": "1af8e194-82c1-4055-e9fe-9d74e271ceaf"
      },
      "source": [
        "###if numeric digit is present in tweet_text\n",
        "df['numeric_count']=df['tweet_text'].apply(lambda x: len([t for t in x.split() if t.isdigit()]))\n",
        "df.head()"
      ],
      "execution_count": null,
      "outputs": [
        {
          "output_type": "execute_result",
          "data": {
            "text/html": [
              "<div>\n",
              "<style scoped>\n",
              "    .dataframe tbody tr th:only-of-type {\n",
              "        vertical-align: middle;\n",
              "    }\n",
              "\n",
              "    .dataframe tbody tr th {\n",
              "        vertical-align: top;\n",
              "    }\n",
              "\n",
              "    .dataframe thead th {\n",
              "        text-align: right;\n",
              "    }\n",
              "</style>\n",
              "<table border=\"1\" class=\"dataframe\">\n",
              "  <thead>\n",
              "    <tr style=\"text-align: right;\">\n",
              "      <th></th>\n",
              "      <th>tweet_id</th>\n",
              "      <th>sentiment</th>\n",
              "      <th>tweet_text</th>\n",
              "      <th>word_counts</th>\n",
              "      <th>char_counts</th>\n",
              "      <th>avg_word_len</th>\n",
              "      <th>stop_words_len</th>\n",
              "      <th>hashtags_count</th>\n",
              "      <th>mentions_ count</th>\n",
              "      <th>numeric_count</th>\n",
              "    </tr>\n",
              "  </thead>\n",
              "  <tbody>\n",
              "    <tr>\n",
              "      <th>0</th>\n",
              "      <td>264183816548130816</td>\n",
              "      <td>positive</td>\n",
              "      <td>Gas by my house hit $3.39!!!! I\\u2019m going t...</td>\n",
              "      <td>14</td>\n",
              "      <td>70</td>\n",
              "      <td>4.071429</td>\n",
              "      <td>4</td>\n",
              "      <td>0</td>\n",
              "      <td>0</td>\n",
              "      <td>0</td>\n",
              "    </tr>\n",
              "    <tr>\n",
              "      <th>1</th>\n",
              "      <td>263405084770172928</td>\n",
              "      <td>negative</td>\n",
              "      <td>Theo Walcott is still shit\\u002c watch Rafa an...</td>\n",
              "      <td>14</td>\n",
              "      <td>81</td>\n",
              "      <td>4.857143</td>\n",
              "      <td>6</td>\n",
              "      <td>0</td>\n",
              "      <td>0</td>\n",
              "      <td>0</td>\n",
              "    </tr>\n",
              "    <tr>\n",
              "      <th>2</th>\n",
              "      <td>262163168678248449</td>\n",
              "      <td>negative</td>\n",
              "      <td>its not that I\\u2019m a GSP fan\\u002c i just h...</td>\n",
              "      <td>16</td>\n",
              "      <td>90</td>\n",
              "      <td>4.687500</td>\n",
              "      <td>7</td>\n",
              "      <td>0</td>\n",
              "      <td>0</td>\n",
              "      <td>0</td>\n",
              "    </tr>\n",
              "    <tr>\n",
              "      <th>3</th>\n",
              "      <td>264249301910310912</td>\n",
              "      <td>negative</td>\n",
              "      <td>Iranian general says Israel\\u2019s Iron Dome c...</td>\n",
              "      <td>22</td>\n",
              "      <td>135</td>\n",
              "      <td>5.181818</td>\n",
              "      <td>7</td>\n",
              "      <td>0</td>\n",
              "      <td>0</td>\n",
              "      <td>0</td>\n",
              "    </tr>\n",
              "    <tr>\n",
              "      <th>4</th>\n",
              "      <td>262682041215234048</td>\n",
              "      <td>neutral</td>\n",
              "      <td>Tehran\\u002c Mon Amour: Obama Tried to Establi...</td>\n",
              "      <td>21</td>\n",
              "      <td>143</td>\n",
              "      <td>5.857143</td>\n",
              "      <td>4</td>\n",
              "      <td>0</td>\n",
              "      <td>1</td>\n",
              "      <td>0</td>\n",
              "    </tr>\n",
              "  </tbody>\n",
              "</table>\n",
              "</div>"
            ],
            "text/plain": [
              "             tweet_id sentiment  ... mentions_ count  numeric_count\n",
              "0  264183816548130816  positive  ...               0              0\n",
              "1  263405084770172928  negative  ...               0              0\n",
              "2  262163168678248449  negative  ...               0              0\n",
              "3  264249301910310912  negative  ...               0              0\n",
              "4  262682041215234048   neutral  ...               1              0\n",
              "\n",
              "[5 rows x 10 columns]"
            ]
          },
          "metadata": {
            "tags": []
          },
          "execution_count": 15
        }
      ]
    },
    {
      "cell_type": "code",
      "metadata": {
        "id": "4fW39H8R9EgZ",
        "colab": {
          "base_uri": "https://localhost:8080/",
          "height": 551
        },
        "outputId": "63fbb948-59b3-4f87-f3ff-880753727996"
      },
      "source": [
        "#upper case words count\n",
        "df['upper_counts'] = df['tweet_text'].apply(lambda x: len([t for t in x.split() if t.isupper()]))\n",
        "df.head()"
      ],
      "execution_count": null,
      "outputs": [
        {
          "output_type": "execute_result",
          "data": {
            "text/html": [
              "<div>\n",
              "<style scoped>\n",
              "    .dataframe tbody tr th:only-of-type {\n",
              "        vertical-align: middle;\n",
              "    }\n",
              "\n",
              "    .dataframe tbody tr th {\n",
              "        vertical-align: top;\n",
              "    }\n",
              "\n",
              "    .dataframe thead th {\n",
              "        text-align: right;\n",
              "    }\n",
              "</style>\n",
              "<table border=\"1\" class=\"dataframe\">\n",
              "  <thead>\n",
              "    <tr style=\"text-align: right;\">\n",
              "      <th></th>\n",
              "      <th>tweet_id</th>\n",
              "      <th>sentiment</th>\n",
              "      <th>tweet_text</th>\n",
              "      <th>word_counts</th>\n",
              "      <th>char_counts</th>\n",
              "      <th>avg_word_len</th>\n",
              "      <th>stop_words_len</th>\n",
              "      <th>hashtags_count</th>\n",
              "      <th>mentions_ count</th>\n",
              "      <th>numeric_count</th>\n",
              "      <th>upper_counts</th>\n",
              "    </tr>\n",
              "  </thead>\n",
              "  <tbody>\n",
              "    <tr>\n",
              "      <th>0</th>\n",
              "      <td>264183816548130816</td>\n",
              "      <td>positive</td>\n",
              "      <td>Gas by my house hit $3.39!!!! I\\u2019m going t...</td>\n",
              "      <td>14</td>\n",
              "      <td>70</td>\n",
              "      <td>4.071429</td>\n",
              "      <td>4</td>\n",
              "      <td>0</td>\n",
              "      <td>0</td>\n",
              "      <td>0</td>\n",
              "      <td>0</td>\n",
              "    </tr>\n",
              "    <tr>\n",
              "      <th>1</th>\n",
              "      <td>263405084770172928</td>\n",
              "      <td>negative</td>\n",
              "      <td>Theo Walcott is still shit\\u002c watch Rafa an...</td>\n",
              "      <td>14</td>\n",
              "      <td>81</td>\n",
              "      <td>4.857143</td>\n",
              "      <td>6</td>\n",
              "      <td>0</td>\n",
              "      <td>0</td>\n",
              "      <td>0</td>\n",
              "      <td>0</td>\n",
              "    </tr>\n",
              "    <tr>\n",
              "      <th>2</th>\n",
              "      <td>262163168678248449</td>\n",
              "      <td>negative</td>\n",
              "      <td>its not that I\\u2019m a GSP fan\\u002c i just h...</td>\n",
              "      <td>16</td>\n",
              "      <td>90</td>\n",
              "      <td>4.687500</td>\n",
              "      <td>7</td>\n",
              "      <td>0</td>\n",
              "      <td>0</td>\n",
              "      <td>0</td>\n",
              "      <td>1</td>\n",
              "    </tr>\n",
              "    <tr>\n",
              "      <th>3</th>\n",
              "      <td>264249301910310912</td>\n",
              "      <td>negative</td>\n",
              "      <td>Iranian general says Israel\\u2019s Iron Dome c...</td>\n",
              "      <td>22</td>\n",
              "      <td>135</td>\n",
              "      <td>5.181818</td>\n",
              "      <td>7</td>\n",
              "      <td>0</td>\n",
              "      <td>0</td>\n",
              "      <td>0</td>\n",
              "      <td>0</td>\n",
              "    </tr>\n",
              "    <tr>\n",
              "      <th>4</th>\n",
              "      <td>262682041215234048</td>\n",
              "      <td>neutral</td>\n",
              "      <td>Tehran\\u002c Mon Amour: Obama Tried to Establi...</td>\n",
              "      <td>21</td>\n",
              "      <td>143</td>\n",
              "      <td>5.857143</td>\n",
              "      <td>4</td>\n",
              "      <td>0</td>\n",
              "      <td>1</td>\n",
              "      <td>0</td>\n",
              "      <td>0</td>\n",
              "    </tr>\n",
              "  </tbody>\n",
              "</table>\n",
              "</div>"
            ],
            "text/plain": [
              "             tweet_id sentiment  ... numeric_count  upper_counts\n",
              "0  264183816548130816  positive  ...             0             0\n",
              "1  263405084770172928  negative  ...             0             0\n",
              "2  262163168678248449  negative  ...             0             1\n",
              "3  264249301910310912  negative  ...             0             0\n",
              "4  262682041215234048   neutral  ...             0             0\n",
              "\n",
              "[5 rows x 11 columns]"
            ]
          },
          "metadata": {
            "tags": []
          },
          "execution_count": 16
        }
      ]
    },
    {
      "cell_type": "markdown",
      "metadata": {
        "id": "_enKdcTUcaR-"
      },
      "source": [
        "# Preprocessing and Cleaning\n"
      ]
    },
    {
      "cell_type": "code",
      "metadata": {
        "id": "DsXWZOGocY5-"
      },
      "source": [
        "df['tweet_text'] = df['tweet_text'].apply(lambda x: x.lower())"
      ],
      "execution_count": null,
      "outputs": []
    },
    {
      "cell_type": "code",
      "metadata": {
        "id": "hcd5kp9qcubZ",
        "colab": {
          "base_uri": "https://localhost:8080/",
          "height": 551
        },
        "outputId": "59264e38-d604-493e-a9fb-5e80a986f464"
      },
      "source": [
        "df.head()"
      ],
      "execution_count": null,
      "outputs": [
        {
          "output_type": "execute_result",
          "data": {
            "text/html": [
              "<div>\n",
              "<style scoped>\n",
              "    .dataframe tbody tr th:only-of-type {\n",
              "        vertical-align: middle;\n",
              "    }\n",
              "\n",
              "    .dataframe tbody tr th {\n",
              "        vertical-align: top;\n",
              "    }\n",
              "\n",
              "    .dataframe thead th {\n",
              "        text-align: right;\n",
              "    }\n",
              "</style>\n",
              "<table border=\"1\" class=\"dataframe\">\n",
              "  <thead>\n",
              "    <tr style=\"text-align: right;\">\n",
              "      <th></th>\n",
              "      <th>tweet_id</th>\n",
              "      <th>sentiment</th>\n",
              "      <th>tweet_text</th>\n",
              "      <th>word_counts</th>\n",
              "      <th>char_counts</th>\n",
              "      <th>avg_word_len</th>\n",
              "      <th>stop_words_len</th>\n",
              "      <th>hashtags_count</th>\n",
              "      <th>mentions_ count</th>\n",
              "      <th>numeric_count</th>\n",
              "      <th>upper_counts</th>\n",
              "    </tr>\n",
              "  </thead>\n",
              "  <tbody>\n",
              "    <tr>\n",
              "      <th>0</th>\n",
              "      <td>264183816548130816</td>\n",
              "      <td>positive</td>\n",
              "      <td>gas by my house hit $3.39!!!! i\\u2019m going t...</td>\n",
              "      <td>14</td>\n",
              "      <td>70</td>\n",
              "      <td>4.071429</td>\n",
              "      <td>4</td>\n",
              "      <td>0</td>\n",
              "      <td>0</td>\n",
              "      <td>0</td>\n",
              "      <td>0</td>\n",
              "    </tr>\n",
              "    <tr>\n",
              "      <th>1</th>\n",
              "      <td>263405084770172928</td>\n",
              "      <td>negative</td>\n",
              "      <td>theo walcott is still shit\\u002c watch rafa an...</td>\n",
              "      <td>14</td>\n",
              "      <td>81</td>\n",
              "      <td>4.857143</td>\n",
              "      <td>6</td>\n",
              "      <td>0</td>\n",
              "      <td>0</td>\n",
              "      <td>0</td>\n",
              "      <td>0</td>\n",
              "    </tr>\n",
              "    <tr>\n",
              "      <th>2</th>\n",
              "      <td>262163168678248449</td>\n",
              "      <td>negative</td>\n",
              "      <td>its not that i\\u2019m a gsp fan\\u002c i just h...</td>\n",
              "      <td>16</td>\n",
              "      <td>90</td>\n",
              "      <td>4.687500</td>\n",
              "      <td>7</td>\n",
              "      <td>0</td>\n",
              "      <td>0</td>\n",
              "      <td>0</td>\n",
              "      <td>1</td>\n",
              "    </tr>\n",
              "    <tr>\n",
              "      <th>3</th>\n",
              "      <td>264249301910310912</td>\n",
              "      <td>negative</td>\n",
              "      <td>iranian general says israel\\u2019s iron dome c...</td>\n",
              "      <td>22</td>\n",
              "      <td>135</td>\n",
              "      <td>5.181818</td>\n",
              "      <td>7</td>\n",
              "      <td>0</td>\n",
              "      <td>0</td>\n",
              "      <td>0</td>\n",
              "      <td>0</td>\n",
              "    </tr>\n",
              "    <tr>\n",
              "      <th>4</th>\n",
              "      <td>262682041215234048</td>\n",
              "      <td>neutral</td>\n",
              "      <td>tehran\\u002c mon amour: obama tried to establi...</td>\n",
              "      <td>21</td>\n",
              "      <td>143</td>\n",
              "      <td>5.857143</td>\n",
              "      <td>4</td>\n",
              "      <td>0</td>\n",
              "      <td>1</td>\n",
              "      <td>0</td>\n",
              "      <td>0</td>\n",
              "    </tr>\n",
              "  </tbody>\n",
              "</table>\n",
              "</div>"
            ],
            "text/plain": [
              "             tweet_id sentiment  ... numeric_count  upper_counts\n",
              "0  264183816548130816  positive  ...             0             0\n",
              "1  263405084770172928  negative  ...             0             0\n",
              "2  262163168678248449  negative  ...             0             1\n",
              "3  264249301910310912  negative  ...             0             0\n",
              "4  262682041215234048   neutral  ...             0             0\n",
              "\n",
              "[5 rows x 11 columns]"
            ]
          },
          "metadata": {
            "tags": []
          },
          "execution_count": 18
        }
      ]
    },
    {
      "cell_type": "code",
      "metadata": {
        "id": "TnJPkgp3dKCJ"
      },
      "source": [
        "contractions = {\n",
        "\"ain't\": \"am not\",    \n",
        "\"aren't\": \"are not\",\n",
        "\"can't\": \"cannot\",\n",
        "\"can't have\": \"cannot have\",\n",
        "\"'cause\":\"because\",\n",
        "\"could've\": \"could have\",\n",
        "\"couldn't've\": \"could not have\",\n",
        "\"didn't\": \"did not\",\n",
        "\"doesn't\": \"does not\",\n",
        "\"don't\": \"do not\",\n",
        "\"hadn't\": \"had not\",\n",
        "\"hadn't've\": \"had not have\",\n",
        "\"hasn't\": \"has not\",\n",
        "\"haven't\": \"have not\",\n",
        "\"he'd\": \"he would\",\n",
        "\"he'd've\": \"he would have\",\n",
        "\"he'll\": \"he will\",\n",
        "\"he'll've\": \"he will have\",\n",
        "\"he's\": \"he is\",\n",
        "\"how'd\": \"how did\",\n",
        "\"how'd'y\": \"how do you\",\n",
        "\"how'll\": \"how will\",\n",
        "\"how's\": \"how does\",\n",
        "\"i'd\": \"I would\",\n",
        "\"i'd've\": \"I would have\",\n",
        "\"i'll\": \"I will\",\n",
        "\"i'll've\": \"I will have\",\n",
        "\"i'm\": \"I am\",\n",
        "\"i've\": \"I have\",\n",
        "\"isn't\": \"is not\",\n",
        "\"it'd\": \"it would\",\n",
        "\"it'd've\": \"it would have\",\n",
        "\"it'll\": \"it will\",\n",
        "\"it'll've\": \"it will have\",\n",
        "\"it's\": \"it is\",\n",
        "\"let's\": \"let us\",\n",
        "\"ma'am\": \"madam\",\n",
        "\"mayn't\": \"may not\",\n",
        "\"might've\": \"might have\",\n",
        "\"mightn't\": \"might not\",\n",
        "\"mightn't've\": \"might not have\",\n",
        "\"must've\": \"must have\",\n",
        "\"mustn't\": \"must not\",\n",
        "\"musn't've\": \"must not have\",\n",
        "\"needn't\": \"need not\",\n",
        "\"needn't've\": \"need not have\",\n",
        "\"o'clock\": \"of the clock\",\n",
        "\"oughtn't\": \"ought not\",\n",
        "\"oughtn't've\": \"ought not have\",\n",
        "\"shan't\": \"shall not\",\n",
        "\"sha'n't\": \"shall not have\",\n",
        "\"she'd\": \"she would\",\n",
        "\"she'd've\": \"she would have\",\n",
        "\"she'll\": \"she will\",\n",
        "\"she'll've\": \"she will have\",\n",
        "\"she's\": \"she is\",\n",
        "\"should've\": \"should have\",\n",
        "\"shouldn't\": \"should not\",\n",
        "\"shouldn't've\": \"should not have\",\n",
        "\"so've\": \"so have\",\n",
        "\"so's\": \"so is\",\n",
        "\"that'd\": \"that would\",\n",
        "\"that'd've\": \"that would have\",\n",
        "\"that's\": \"that is\",\n",
        "\"there'd\": \"there would\",\n",
        "\"there'd've\": \"there would have\",\n",
        "\"there's\": \"there is\",\n",
        "\"they'll\": \"they will\",\n",
        "\"they'll've\": \"they will have\",\n",
        "\"they're\": \"they are\",\n",
        "\"they've\": \"they have\",\n",
        "\"to've\": \"to have\",\n",
        "\"wasn't\": \"was not\",\n",
        "\" u \": \"you\",\n",
        "\" ur \": \"your\",\n",
        "\" n \": \"and\",\n",
        "}"
      ],
      "execution_count": null,
      "outputs": []
    },
    {
      "cell_type": "code",
      "metadata": {
        "id": "sZRhYD_PiPm0"
      },
      "source": [
        "def cont_to_exp(x):\n",
        "  if type(x) is str:\n",
        "    for key in contractions:\n",
        "      value = contractions[key]\n",
        "      x = x.replace(key, value)\n",
        "    return x\n",
        "  else:\n",
        "    return x"
      ],
      "execution_count": null,
      "outputs": []
    },
    {
      "cell_type": "code",
      "metadata": {
        "id": "oKeYZJsDkDh6"
      },
      "source": [
        "import re"
      ],
      "execution_count": null,
      "outputs": []
    },
    {
      "cell_type": "code",
      "metadata": {
        "id": "FnamwyPi_pPs",
        "colab": {
          "base_uri": "https://localhost:8080/",
          "height": 551
        },
        "outputId": "4cfa7bcf-72c5-434e-daea-66171184ca62"
      },
      "source": [
        "df.head()"
      ],
      "execution_count": null,
      "outputs": [
        {
          "output_type": "execute_result",
          "data": {
            "text/html": [
              "<div>\n",
              "<style scoped>\n",
              "    .dataframe tbody tr th:only-of-type {\n",
              "        vertical-align: middle;\n",
              "    }\n",
              "\n",
              "    .dataframe tbody tr th {\n",
              "        vertical-align: top;\n",
              "    }\n",
              "\n",
              "    .dataframe thead th {\n",
              "        text-align: right;\n",
              "    }\n",
              "</style>\n",
              "<table border=\"1\" class=\"dataframe\">\n",
              "  <thead>\n",
              "    <tr style=\"text-align: right;\">\n",
              "      <th></th>\n",
              "      <th>tweet_id</th>\n",
              "      <th>sentiment</th>\n",
              "      <th>tweet_text</th>\n",
              "      <th>word_counts</th>\n",
              "      <th>char_counts</th>\n",
              "      <th>avg_word_len</th>\n",
              "      <th>stop_words_len</th>\n",
              "      <th>hashtags_count</th>\n",
              "      <th>mentions_ count</th>\n",
              "      <th>numeric_count</th>\n",
              "      <th>upper_counts</th>\n",
              "    </tr>\n",
              "  </thead>\n",
              "  <tbody>\n",
              "    <tr>\n",
              "      <th>0</th>\n",
              "      <td>264183816548130816</td>\n",
              "      <td>positive</td>\n",
              "      <td>gas by my house hit $3.39!!!! i\\u2019m going t...</td>\n",
              "      <td>14</td>\n",
              "      <td>70</td>\n",
              "      <td>4.071429</td>\n",
              "      <td>4</td>\n",
              "      <td>0</td>\n",
              "      <td>0</td>\n",
              "      <td>0</td>\n",
              "      <td>0</td>\n",
              "    </tr>\n",
              "    <tr>\n",
              "      <th>1</th>\n",
              "      <td>263405084770172928</td>\n",
              "      <td>negative</td>\n",
              "      <td>theo walcott is still shit\\u002c watch rafa an...</td>\n",
              "      <td>14</td>\n",
              "      <td>81</td>\n",
              "      <td>4.857143</td>\n",
              "      <td>6</td>\n",
              "      <td>0</td>\n",
              "      <td>0</td>\n",
              "      <td>0</td>\n",
              "      <td>0</td>\n",
              "    </tr>\n",
              "    <tr>\n",
              "      <th>2</th>\n",
              "      <td>262163168678248449</td>\n",
              "      <td>negative</td>\n",
              "      <td>its not that i\\u2019m a gsp fan\\u002c i just h...</td>\n",
              "      <td>16</td>\n",
              "      <td>90</td>\n",
              "      <td>4.687500</td>\n",
              "      <td>7</td>\n",
              "      <td>0</td>\n",
              "      <td>0</td>\n",
              "      <td>0</td>\n",
              "      <td>1</td>\n",
              "    </tr>\n",
              "    <tr>\n",
              "      <th>3</th>\n",
              "      <td>264249301910310912</td>\n",
              "      <td>negative</td>\n",
              "      <td>iranian general says israel\\u2019s iron dome c...</td>\n",
              "      <td>22</td>\n",
              "      <td>135</td>\n",
              "      <td>5.181818</td>\n",
              "      <td>7</td>\n",
              "      <td>0</td>\n",
              "      <td>0</td>\n",
              "      <td>0</td>\n",
              "      <td>0</td>\n",
              "    </tr>\n",
              "    <tr>\n",
              "      <th>4</th>\n",
              "      <td>262682041215234048</td>\n",
              "      <td>neutral</td>\n",
              "      <td>tehran\\u002c mon amour: obama tried to establi...</td>\n",
              "      <td>21</td>\n",
              "      <td>143</td>\n",
              "      <td>5.857143</td>\n",
              "      <td>4</td>\n",
              "      <td>0</td>\n",
              "      <td>1</td>\n",
              "      <td>0</td>\n",
              "      <td>0</td>\n",
              "    </tr>\n",
              "  </tbody>\n",
              "</table>\n",
              "</div>"
            ],
            "text/plain": [
              "             tweet_id sentiment  ... numeric_count  upper_counts\n",
              "0  264183816548130816  positive  ...             0             0\n",
              "1  263405084770172928  negative  ...             0             0\n",
              "2  262163168678248449  negative  ...             0             1\n",
              "3  264249301910310912  negative  ...             0             0\n",
              "4  262682041215234048   neutral  ...             0             0\n",
              "\n",
              "[5 rows x 11 columns]"
            ]
          },
          "metadata": {
            "tags": []
          },
          "execution_count": 22
        }
      ]
    },
    {
      "cell_type": "code",
      "metadata": {
        "id": "JIc1mO18lEX9",
        "colab": {
          "base_uri": "https://localhost:8080/",
          "height": 551
        },
        "outputId": "29bc30d4-6ac9-44da-93d7-487158ce8bb5"
      },
      "source": [
        "df['tweet_text'] = df['tweet_text'].apply(lambda x: re.sub(r'([a-zA-Z0-9+._-]+@[a-zA-Z0-9+._-]+\\.[a-zA-Z0-9+._-]+)',\"\",x))\n",
        "df.head()"
      ],
      "execution_count": null,
      "outputs": [
        {
          "output_type": "execute_result",
          "data": {
            "text/html": [
              "<div>\n",
              "<style scoped>\n",
              "    .dataframe tbody tr th:only-of-type {\n",
              "        vertical-align: middle;\n",
              "    }\n",
              "\n",
              "    .dataframe tbody tr th {\n",
              "        vertical-align: top;\n",
              "    }\n",
              "\n",
              "    .dataframe thead th {\n",
              "        text-align: right;\n",
              "    }\n",
              "</style>\n",
              "<table border=\"1\" class=\"dataframe\">\n",
              "  <thead>\n",
              "    <tr style=\"text-align: right;\">\n",
              "      <th></th>\n",
              "      <th>tweet_id</th>\n",
              "      <th>sentiment</th>\n",
              "      <th>tweet_text</th>\n",
              "      <th>word_counts</th>\n",
              "      <th>char_counts</th>\n",
              "      <th>avg_word_len</th>\n",
              "      <th>stop_words_len</th>\n",
              "      <th>hashtags_count</th>\n",
              "      <th>mentions_ count</th>\n",
              "      <th>numeric_count</th>\n",
              "      <th>upper_counts</th>\n",
              "    </tr>\n",
              "  </thead>\n",
              "  <tbody>\n",
              "    <tr>\n",
              "      <th>0</th>\n",
              "      <td>264183816548130816</td>\n",
              "      <td>positive</td>\n",
              "      <td>gas by my house hit $3.39!!!! i\\u2019m going t...</td>\n",
              "      <td>14</td>\n",
              "      <td>70</td>\n",
              "      <td>4.071429</td>\n",
              "      <td>4</td>\n",
              "      <td>0</td>\n",
              "      <td>0</td>\n",
              "      <td>0</td>\n",
              "      <td>0</td>\n",
              "    </tr>\n",
              "    <tr>\n",
              "      <th>1</th>\n",
              "      <td>263405084770172928</td>\n",
              "      <td>negative</td>\n",
              "      <td>theo walcott is still shit\\u002c watch rafa an...</td>\n",
              "      <td>14</td>\n",
              "      <td>81</td>\n",
              "      <td>4.857143</td>\n",
              "      <td>6</td>\n",
              "      <td>0</td>\n",
              "      <td>0</td>\n",
              "      <td>0</td>\n",
              "      <td>0</td>\n",
              "    </tr>\n",
              "    <tr>\n",
              "      <th>2</th>\n",
              "      <td>262163168678248449</td>\n",
              "      <td>negative</td>\n",
              "      <td>its not that i\\u2019m a gsp fan\\u002c i just h...</td>\n",
              "      <td>16</td>\n",
              "      <td>90</td>\n",
              "      <td>4.687500</td>\n",
              "      <td>7</td>\n",
              "      <td>0</td>\n",
              "      <td>0</td>\n",
              "      <td>0</td>\n",
              "      <td>1</td>\n",
              "    </tr>\n",
              "    <tr>\n",
              "      <th>3</th>\n",
              "      <td>264249301910310912</td>\n",
              "      <td>negative</td>\n",
              "      <td>iranian general says israel\\u2019s iron dome c...</td>\n",
              "      <td>22</td>\n",
              "      <td>135</td>\n",
              "      <td>5.181818</td>\n",
              "      <td>7</td>\n",
              "      <td>0</td>\n",
              "      <td>0</td>\n",
              "      <td>0</td>\n",
              "      <td>0</td>\n",
              "    </tr>\n",
              "    <tr>\n",
              "      <th>4</th>\n",
              "      <td>262682041215234048</td>\n",
              "      <td>neutral</td>\n",
              "      <td>tehran\\u002c mon amour: obama tried to establi...</td>\n",
              "      <td>21</td>\n",
              "      <td>143</td>\n",
              "      <td>5.857143</td>\n",
              "      <td>4</td>\n",
              "      <td>0</td>\n",
              "      <td>1</td>\n",
              "      <td>0</td>\n",
              "      <td>0</td>\n",
              "    </tr>\n",
              "  </tbody>\n",
              "</table>\n",
              "</div>"
            ],
            "text/plain": [
              "             tweet_id sentiment  ... numeric_count  upper_counts\n",
              "0  264183816548130816  positive  ...             0             0\n",
              "1  263405084770172928  negative  ...             0             0\n",
              "2  262163168678248449  negative  ...             0             1\n",
              "3  264249301910310912  negative  ...             0             0\n",
              "4  262682041215234048   neutral  ...             0             0\n",
              "\n",
              "[5 rows x 11 columns]"
            ]
          },
          "metadata": {
            "tags": []
          },
          "execution_count": 23
        }
      ]
    },
    {
      "cell_type": "code",
      "metadata": {
        "id": "KgOjIRM6oIHg",
        "colab": {
          "base_uri": "https://localhost:8080/",
          "height": 551
        },
        "outputId": "6e3075c8-45f2-467c-dbf0-1c8bd9851fbe"
      },
      "source": [
        "df['tweet_text'] = df['tweet_text'].apply(lambda x: re.sub(r'(http|ftp|https)://([\\w_-]+(?:(?:\\.[\\w_-]+)+))([\\w.,@?^=%&:/~+#-]*[\\w@?^=%&/~+#-])?',\"\", x)) \n",
        "df.head()"
      ],
      "execution_count": null,
      "outputs": [
        {
          "output_type": "execute_result",
          "data": {
            "text/html": [
              "<div>\n",
              "<style scoped>\n",
              "    .dataframe tbody tr th:only-of-type {\n",
              "        vertical-align: middle;\n",
              "    }\n",
              "\n",
              "    .dataframe tbody tr th {\n",
              "        vertical-align: top;\n",
              "    }\n",
              "\n",
              "    .dataframe thead th {\n",
              "        text-align: right;\n",
              "    }\n",
              "</style>\n",
              "<table border=\"1\" class=\"dataframe\">\n",
              "  <thead>\n",
              "    <tr style=\"text-align: right;\">\n",
              "      <th></th>\n",
              "      <th>tweet_id</th>\n",
              "      <th>sentiment</th>\n",
              "      <th>tweet_text</th>\n",
              "      <th>word_counts</th>\n",
              "      <th>char_counts</th>\n",
              "      <th>avg_word_len</th>\n",
              "      <th>stop_words_len</th>\n",
              "      <th>hashtags_count</th>\n",
              "      <th>mentions_ count</th>\n",
              "      <th>numeric_count</th>\n",
              "      <th>upper_counts</th>\n",
              "    </tr>\n",
              "  </thead>\n",
              "  <tbody>\n",
              "    <tr>\n",
              "      <th>0</th>\n",
              "      <td>264183816548130816</td>\n",
              "      <td>positive</td>\n",
              "      <td>gas by my house hit $3.39!!!! i\\u2019m going t...</td>\n",
              "      <td>14</td>\n",
              "      <td>70</td>\n",
              "      <td>4.071429</td>\n",
              "      <td>4</td>\n",
              "      <td>0</td>\n",
              "      <td>0</td>\n",
              "      <td>0</td>\n",
              "      <td>0</td>\n",
              "    </tr>\n",
              "    <tr>\n",
              "      <th>1</th>\n",
              "      <td>263405084770172928</td>\n",
              "      <td>negative</td>\n",
              "      <td>theo walcott is still shit\\u002c watch rafa an...</td>\n",
              "      <td>14</td>\n",
              "      <td>81</td>\n",
              "      <td>4.857143</td>\n",
              "      <td>6</td>\n",
              "      <td>0</td>\n",
              "      <td>0</td>\n",
              "      <td>0</td>\n",
              "      <td>0</td>\n",
              "    </tr>\n",
              "    <tr>\n",
              "      <th>2</th>\n",
              "      <td>262163168678248449</td>\n",
              "      <td>negative</td>\n",
              "      <td>its not that i\\u2019m a gsp fan\\u002c i just h...</td>\n",
              "      <td>16</td>\n",
              "      <td>90</td>\n",
              "      <td>4.687500</td>\n",
              "      <td>7</td>\n",
              "      <td>0</td>\n",
              "      <td>0</td>\n",
              "      <td>0</td>\n",
              "      <td>1</td>\n",
              "    </tr>\n",
              "    <tr>\n",
              "      <th>3</th>\n",
              "      <td>264249301910310912</td>\n",
              "      <td>negative</td>\n",
              "      <td>iranian general says israel\\u2019s iron dome c...</td>\n",
              "      <td>22</td>\n",
              "      <td>135</td>\n",
              "      <td>5.181818</td>\n",
              "      <td>7</td>\n",
              "      <td>0</td>\n",
              "      <td>0</td>\n",
              "      <td>0</td>\n",
              "      <td>0</td>\n",
              "    </tr>\n",
              "    <tr>\n",
              "      <th>4</th>\n",
              "      <td>262682041215234048</td>\n",
              "      <td>neutral</td>\n",
              "      <td>tehran\\u002c mon amour: obama tried to establi...</td>\n",
              "      <td>21</td>\n",
              "      <td>143</td>\n",
              "      <td>5.857143</td>\n",
              "      <td>4</td>\n",
              "      <td>0</td>\n",
              "      <td>1</td>\n",
              "      <td>0</td>\n",
              "      <td>0</td>\n",
              "    </tr>\n",
              "  </tbody>\n",
              "</table>\n",
              "</div>"
            ],
            "text/plain": [
              "             tweet_id sentiment  ... numeric_count  upper_counts\n",
              "0  264183816548130816  positive  ...             0             0\n",
              "1  263405084770172928  negative  ...             0             0\n",
              "2  262163168678248449  negative  ...             0             1\n",
              "3  264249301910310912  negative  ...             0             0\n",
              "4  262682041215234048   neutral  ...             0             0\n",
              "\n",
              "[5 rows x 11 columns]"
            ]
          },
          "metadata": {
            "tags": []
          },
          "execution_count": 24
        }
      ]
    },
    {
      "cell_type": "code",
      "metadata": {
        "id": "rscg5wOGojbn",
        "colab": {
          "base_uri": "https://localhost:8080/",
          "height": 551
        },
        "outputId": "db0e3d23-2990-43cb-a51c-78602adcde3c"
      },
      "source": [
        "df['tweet_text']=df['tweet_text'].apply(lambda x: re.sub('RT',\"\",x))\n",
        "df.head()"
      ],
      "execution_count": null,
      "outputs": [
        {
          "output_type": "execute_result",
          "data": {
            "text/html": [
              "<div>\n",
              "<style scoped>\n",
              "    .dataframe tbody tr th:only-of-type {\n",
              "        vertical-align: middle;\n",
              "    }\n",
              "\n",
              "    .dataframe tbody tr th {\n",
              "        vertical-align: top;\n",
              "    }\n",
              "\n",
              "    .dataframe thead th {\n",
              "        text-align: right;\n",
              "    }\n",
              "</style>\n",
              "<table border=\"1\" class=\"dataframe\">\n",
              "  <thead>\n",
              "    <tr style=\"text-align: right;\">\n",
              "      <th></th>\n",
              "      <th>tweet_id</th>\n",
              "      <th>sentiment</th>\n",
              "      <th>tweet_text</th>\n",
              "      <th>word_counts</th>\n",
              "      <th>char_counts</th>\n",
              "      <th>avg_word_len</th>\n",
              "      <th>stop_words_len</th>\n",
              "      <th>hashtags_count</th>\n",
              "      <th>mentions_ count</th>\n",
              "      <th>numeric_count</th>\n",
              "      <th>upper_counts</th>\n",
              "    </tr>\n",
              "  </thead>\n",
              "  <tbody>\n",
              "    <tr>\n",
              "      <th>0</th>\n",
              "      <td>264183816548130816</td>\n",
              "      <td>positive</td>\n",
              "      <td>gas by my house hit $3.39!!!! i\\u2019m going t...</td>\n",
              "      <td>14</td>\n",
              "      <td>70</td>\n",
              "      <td>4.071429</td>\n",
              "      <td>4</td>\n",
              "      <td>0</td>\n",
              "      <td>0</td>\n",
              "      <td>0</td>\n",
              "      <td>0</td>\n",
              "    </tr>\n",
              "    <tr>\n",
              "      <th>1</th>\n",
              "      <td>263405084770172928</td>\n",
              "      <td>negative</td>\n",
              "      <td>theo walcott is still shit\\u002c watch rafa an...</td>\n",
              "      <td>14</td>\n",
              "      <td>81</td>\n",
              "      <td>4.857143</td>\n",
              "      <td>6</td>\n",
              "      <td>0</td>\n",
              "      <td>0</td>\n",
              "      <td>0</td>\n",
              "      <td>0</td>\n",
              "    </tr>\n",
              "    <tr>\n",
              "      <th>2</th>\n",
              "      <td>262163168678248449</td>\n",
              "      <td>negative</td>\n",
              "      <td>its not that i\\u2019m a gsp fan\\u002c i just h...</td>\n",
              "      <td>16</td>\n",
              "      <td>90</td>\n",
              "      <td>4.687500</td>\n",
              "      <td>7</td>\n",
              "      <td>0</td>\n",
              "      <td>0</td>\n",
              "      <td>0</td>\n",
              "      <td>1</td>\n",
              "    </tr>\n",
              "    <tr>\n",
              "      <th>3</th>\n",
              "      <td>264249301910310912</td>\n",
              "      <td>negative</td>\n",
              "      <td>iranian general says israel\\u2019s iron dome c...</td>\n",
              "      <td>22</td>\n",
              "      <td>135</td>\n",
              "      <td>5.181818</td>\n",
              "      <td>7</td>\n",
              "      <td>0</td>\n",
              "      <td>0</td>\n",
              "      <td>0</td>\n",
              "      <td>0</td>\n",
              "    </tr>\n",
              "    <tr>\n",
              "      <th>4</th>\n",
              "      <td>262682041215234048</td>\n",
              "      <td>neutral</td>\n",
              "      <td>tehran\\u002c mon amour: obama tried to establi...</td>\n",
              "      <td>21</td>\n",
              "      <td>143</td>\n",
              "      <td>5.857143</td>\n",
              "      <td>4</td>\n",
              "      <td>0</td>\n",
              "      <td>1</td>\n",
              "      <td>0</td>\n",
              "      <td>0</td>\n",
              "    </tr>\n",
              "  </tbody>\n",
              "</table>\n",
              "</div>"
            ],
            "text/plain": [
              "             tweet_id sentiment  ... numeric_count  upper_counts\n",
              "0  264183816548130816  positive  ...             0             0\n",
              "1  263405084770172928  negative  ...             0             0\n",
              "2  262163168678248449  negative  ...             0             1\n",
              "3  264249301910310912  negative  ...             0             0\n",
              "4  262682041215234048   neutral  ...             0             0\n",
              "\n",
              "[5 rows x 11 columns]"
            ]
          },
          "metadata": {
            "tags": []
          },
          "execution_count": 25
        }
      ]
    },
    {
      "cell_type": "code",
      "metadata": {
        "id": "zs-u0i5Ho82D",
        "colab": {
          "base_uri": "https://localhost:8080/",
          "height": 551
        },
        "outputId": "4f9dd5f1-42c7-47fd-da63-dd92a31d4d42"
      },
      "source": [
        "df['tweet_text']=df['tweet_text'].apply(lambda x: re.sub('[^A-Z a-z 0-9-]+', '', x))\n",
        "df['tweet_text']=df['tweet_text'].apply(lambda x: re.sub('[0-9]', '', x))\n",
        "df.head()"
      ],
      "execution_count": null,
      "outputs": [
        {
          "output_type": "execute_result",
          "data": {
            "text/html": [
              "<div>\n",
              "<style scoped>\n",
              "    .dataframe tbody tr th:only-of-type {\n",
              "        vertical-align: middle;\n",
              "    }\n",
              "\n",
              "    .dataframe tbody tr th {\n",
              "        vertical-align: top;\n",
              "    }\n",
              "\n",
              "    .dataframe thead th {\n",
              "        text-align: right;\n",
              "    }\n",
              "</style>\n",
              "<table border=\"1\" class=\"dataframe\">\n",
              "  <thead>\n",
              "    <tr style=\"text-align: right;\">\n",
              "      <th></th>\n",
              "      <th>tweet_id</th>\n",
              "      <th>sentiment</th>\n",
              "      <th>tweet_text</th>\n",
              "      <th>word_counts</th>\n",
              "      <th>char_counts</th>\n",
              "      <th>avg_word_len</th>\n",
              "      <th>stop_words_len</th>\n",
              "      <th>hashtags_count</th>\n",
              "      <th>mentions_ count</th>\n",
              "      <th>numeric_count</th>\n",
              "      <th>upper_counts</th>\n",
              "    </tr>\n",
              "  </thead>\n",
              "  <tbody>\n",
              "    <tr>\n",
              "      <th>0</th>\n",
              "      <td>264183816548130816</td>\n",
              "      <td>positive</td>\n",
              "      <td>gas by my house hit  ium going to chapel hill ...</td>\n",
              "      <td>14</td>\n",
              "      <td>70</td>\n",
              "      <td>4.071429</td>\n",
              "      <td>4</td>\n",
              "      <td>0</td>\n",
              "      <td>0</td>\n",
              "      <td>0</td>\n",
              "      <td>0</td>\n",
              "    </tr>\n",
              "    <tr>\n",
              "      <th>1</th>\n",
              "      <td>263405084770172928</td>\n",
              "      <td>negative</td>\n",
              "      <td>theo walcott is still shituc watch rafa and jo...</td>\n",
              "      <td>14</td>\n",
              "      <td>81</td>\n",
              "      <td>4.857143</td>\n",
              "      <td>6</td>\n",
              "      <td>0</td>\n",
              "      <td>0</td>\n",
              "      <td>0</td>\n",
              "      <td>0</td>\n",
              "    </tr>\n",
              "    <tr>\n",
              "      <th>2</th>\n",
              "      <td>262163168678248449</td>\n",
              "      <td>negative</td>\n",
              "      <td>its not that ium a gsp fanuc i just hate nick ...</td>\n",
              "      <td>16</td>\n",
              "      <td>90</td>\n",
              "      <td>4.687500</td>\n",
              "      <td>7</td>\n",
              "      <td>0</td>\n",
              "      <td>0</td>\n",
              "      <td>0</td>\n",
              "      <td>1</td>\n",
              "    </tr>\n",
              "    <tr>\n",
              "      <th>3</th>\n",
              "      <td>264249301910310912</td>\n",
              "      <td>negative</td>\n",
              "      <td>iranian general says israelus iron dome canut ...</td>\n",
              "      <td>22</td>\n",
              "      <td>135</td>\n",
              "      <td>5.181818</td>\n",
              "      <td>7</td>\n",
              "      <td>0</td>\n",
              "      <td>0</td>\n",
              "      <td>0</td>\n",
              "      <td>0</td>\n",
              "    </tr>\n",
              "    <tr>\n",
              "      <th>4</th>\n",
              "      <td>262682041215234048</td>\n",
              "      <td>neutral</td>\n",
              "      <td>tehranuc mon amour obama tried to establish ti...</td>\n",
              "      <td>21</td>\n",
              "      <td>143</td>\n",
              "      <td>5.857143</td>\n",
              "      <td>4</td>\n",
              "      <td>0</td>\n",
              "      <td>1</td>\n",
              "      <td>0</td>\n",
              "      <td>0</td>\n",
              "    </tr>\n",
              "  </tbody>\n",
              "</table>\n",
              "</div>"
            ],
            "text/plain": [
              "             tweet_id sentiment  ... numeric_count  upper_counts\n",
              "0  264183816548130816  positive  ...             0             0\n",
              "1  263405084770172928  negative  ...             0             0\n",
              "2  262163168678248449  negative  ...             0             1\n",
              "3  264249301910310912  negative  ...             0             0\n",
              "4  262682041215234048   neutral  ...             0             0\n",
              "\n",
              "[5 rows x 11 columns]"
            ]
          },
          "metadata": {
            "tags": []
          },
          "execution_count": 26
        }
      ]
    },
    {
      "cell_type": "code",
      "metadata": {
        "id": "a1eOZYKJs0am"
      },
      "source": [
        "# abc= pd.DataFrame(dfr['tweet_text'])\n",
        "# abc['tweet_text']=abc['tweet_text'].apply(lambda x: re.sub('[0-9]', '', x))\n",
        "# abc.head()"
      ],
      "execution_count": null,
      "outputs": []
    },
    {
      "cell_type": "code",
      "metadata": {
        "id": "kSA38QPApYLA",
        "colab": {
          "base_uri": "https://localhost:8080/",
          "height": 551
        },
        "outputId": "f85013f3-c7fd-4616-e3a7-822a7820c1c9"
      },
      "source": [
        "df['tweet_text']=df['tweet_text'].apply(lambda x: \" \".join(x.split()))\n",
        "df.head()"
      ],
      "execution_count": null,
      "outputs": [
        {
          "output_type": "execute_result",
          "data": {
            "text/html": [
              "<div>\n",
              "<style scoped>\n",
              "    .dataframe tbody tr th:only-of-type {\n",
              "        vertical-align: middle;\n",
              "    }\n",
              "\n",
              "    .dataframe tbody tr th {\n",
              "        vertical-align: top;\n",
              "    }\n",
              "\n",
              "    .dataframe thead th {\n",
              "        text-align: right;\n",
              "    }\n",
              "</style>\n",
              "<table border=\"1\" class=\"dataframe\">\n",
              "  <thead>\n",
              "    <tr style=\"text-align: right;\">\n",
              "      <th></th>\n",
              "      <th>tweet_id</th>\n",
              "      <th>sentiment</th>\n",
              "      <th>tweet_text</th>\n",
              "      <th>word_counts</th>\n",
              "      <th>char_counts</th>\n",
              "      <th>avg_word_len</th>\n",
              "      <th>stop_words_len</th>\n",
              "      <th>hashtags_count</th>\n",
              "      <th>mentions_ count</th>\n",
              "      <th>numeric_count</th>\n",
              "      <th>upper_counts</th>\n",
              "    </tr>\n",
              "  </thead>\n",
              "  <tbody>\n",
              "    <tr>\n",
              "      <th>0</th>\n",
              "      <td>264183816548130816</td>\n",
              "      <td>positive</td>\n",
              "      <td>gas by my house hit ium going to chapel hill o...</td>\n",
              "      <td>14</td>\n",
              "      <td>70</td>\n",
              "      <td>4.071429</td>\n",
              "      <td>4</td>\n",
              "      <td>0</td>\n",
              "      <td>0</td>\n",
              "      <td>0</td>\n",
              "      <td>0</td>\n",
              "    </tr>\n",
              "    <tr>\n",
              "      <th>1</th>\n",
              "      <td>263405084770172928</td>\n",
              "      <td>negative</td>\n",
              "      <td>theo walcott is still shituc watch rafa and jo...</td>\n",
              "      <td>14</td>\n",
              "      <td>81</td>\n",
              "      <td>4.857143</td>\n",
              "      <td>6</td>\n",
              "      <td>0</td>\n",
              "      <td>0</td>\n",
              "      <td>0</td>\n",
              "      <td>0</td>\n",
              "    </tr>\n",
              "    <tr>\n",
              "      <th>2</th>\n",
              "      <td>262163168678248449</td>\n",
              "      <td>negative</td>\n",
              "      <td>its not that ium a gsp fanuc i just hate nick ...</td>\n",
              "      <td>16</td>\n",
              "      <td>90</td>\n",
              "      <td>4.687500</td>\n",
              "      <td>7</td>\n",
              "      <td>0</td>\n",
              "      <td>0</td>\n",
              "      <td>0</td>\n",
              "      <td>1</td>\n",
              "    </tr>\n",
              "    <tr>\n",
              "      <th>3</th>\n",
              "      <td>264249301910310912</td>\n",
              "      <td>negative</td>\n",
              "      <td>iranian general says israelus iron dome canut ...</td>\n",
              "      <td>22</td>\n",
              "      <td>135</td>\n",
              "      <td>5.181818</td>\n",
              "      <td>7</td>\n",
              "      <td>0</td>\n",
              "      <td>0</td>\n",
              "      <td>0</td>\n",
              "      <td>0</td>\n",
              "    </tr>\n",
              "    <tr>\n",
              "      <th>4</th>\n",
              "      <td>262682041215234048</td>\n",
              "      <td>neutral</td>\n",
              "      <td>tehranuc mon amour obama tried to establish ti...</td>\n",
              "      <td>21</td>\n",
              "      <td>143</td>\n",
              "      <td>5.857143</td>\n",
              "      <td>4</td>\n",
              "      <td>0</td>\n",
              "      <td>1</td>\n",
              "      <td>0</td>\n",
              "      <td>0</td>\n",
              "    </tr>\n",
              "  </tbody>\n",
              "</table>\n",
              "</div>"
            ],
            "text/plain": [
              "             tweet_id sentiment  ... numeric_count  upper_counts\n",
              "0  264183816548130816  positive  ...             0             0\n",
              "1  263405084770172928  negative  ...             0             0\n",
              "2  262163168678248449  negative  ...             0             1\n",
              "3  264249301910310912  negative  ...             0             0\n",
              "4  262682041215234048   neutral  ...             0             0\n",
              "\n",
              "[5 rows x 11 columns]"
            ]
          },
          "metadata": {
            "tags": []
          },
          "execution_count": 28
        }
      ]
    },
    {
      "cell_type": "code",
      "metadata": {
        "id": "EAhFfzlgpyqh"
      },
      "source": [
        "from bs4 import BeautifulSoup"
      ],
      "execution_count": null,
      "outputs": []
    },
    {
      "cell_type": "code",
      "metadata": {
        "id": "gZLrJs2Pp4vo",
        "colab": {
          "base_uri": "https://localhost:8080/",
          "height": 551
        },
        "outputId": "2f09e6d2-9610-4c44-9165-d4f25da47701"
      },
      "source": [
        "df['tweet_text']=df['tweet_text'].apply(lambda x: BeautifulSoup(x, 'lxml').get_text())\n",
        "df.head()"
      ],
      "execution_count": null,
      "outputs": [
        {
          "output_type": "execute_result",
          "data": {
            "text/html": [
              "<div>\n",
              "<style scoped>\n",
              "    .dataframe tbody tr th:only-of-type {\n",
              "        vertical-align: middle;\n",
              "    }\n",
              "\n",
              "    .dataframe tbody tr th {\n",
              "        vertical-align: top;\n",
              "    }\n",
              "\n",
              "    .dataframe thead th {\n",
              "        text-align: right;\n",
              "    }\n",
              "</style>\n",
              "<table border=\"1\" class=\"dataframe\">\n",
              "  <thead>\n",
              "    <tr style=\"text-align: right;\">\n",
              "      <th></th>\n",
              "      <th>tweet_id</th>\n",
              "      <th>sentiment</th>\n",
              "      <th>tweet_text</th>\n",
              "      <th>word_counts</th>\n",
              "      <th>char_counts</th>\n",
              "      <th>avg_word_len</th>\n",
              "      <th>stop_words_len</th>\n",
              "      <th>hashtags_count</th>\n",
              "      <th>mentions_ count</th>\n",
              "      <th>numeric_count</th>\n",
              "      <th>upper_counts</th>\n",
              "    </tr>\n",
              "  </thead>\n",
              "  <tbody>\n",
              "    <tr>\n",
              "      <th>0</th>\n",
              "      <td>264183816548130816</td>\n",
              "      <td>positive</td>\n",
              "      <td>gas by my house hit ium going to chapel hill o...</td>\n",
              "      <td>14</td>\n",
              "      <td>70</td>\n",
              "      <td>4.071429</td>\n",
              "      <td>4</td>\n",
              "      <td>0</td>\n",
              "      <td>0</td>\n",
              "      <td>0</td>\n",
              "      <td>0</td>\n",
              "    </tr>\n",
              "    <tr>\n",
              "      <th>1</th>\n",
              "      <td>263405084770172928</td>\n",
              "      <td>negative</td>\n",
              "      <td>theo walcott is still shituc watch rafa and jo...</td>\n",
              "      <td>14</td>\n",
              "      <td>81</td>\n",
              "      <td>4.857143</td>\n",
              "      <td>6</td>\n",
              "      <td>0</td>\n",
              "      <td>0</td>\n",
              "      <td>0</td>\n",
              "      <td>0</td>\n",
              "    </tr>\n",
              "    <tr>\n",
              "      <th>2</th>\n",
              "      <td>262163168678248449</td>\n",
              "      <td>negative</td>\n",
              "      <td>its not that ium a gsp fanuc i just hate nick ...</td>\n",
              "      <td>16</td>\n",
              "      <td>90</td>\n",
              "      <td>4.687500</td>\n",
              "      <td>7</td>\n",
              "      <td>0</td>\n",
              "      <td>0</td>\n",
              "      <td>0</td>\n",
              "      <td>1</td>\n",
              "    </tr>\n",
              "    <tr>\n",
              "      <th>3</th>\n",
              "      <td>264249301910310912</td>\n",
              "      <td>negative</td>\n",
              "      <td>iranian general says israelus iron dome canut ...</td>\n",
              "      <td>22</td>\n",
              "      <td>135</td>\n",
              "      <td>5.181818</td>\n",
              "      <td>7</td>\n",
              "      <td>0</td>\n",
              "      <td>0</td>\n",
              "      <td>0</td>\n",
              "      <td>0</td>\n",
              "    </tr>\n",
              "    <tr>\n",
              "      <th>4</th>\n",
              "      <td>262682041215234048</td>\n",
              "      <td>neutral</td>\n",
              "      <td>tehranuc mon amour obama tried to establish ti...</td>\n",
              "      <td>21</td>\n",
              "      <td>143</td>\n",
              "      <td>5.857143</td>\n",
              "      <td>4</td>\n",
              "      <td>0</td>\n",
              "      <td>1</td>\n",
              "      <td>0</td>\n",
              "      <td>0</td>\n",
              "    </tr>\n",
              "  </tbody>\n",
              "</table>\n",
              "</div>"
            ],
            "text/plain": [
              "             tweet_id sentiment  ... numeric_count  upper_counts\n",
              "0  264183816548130816  positive  ...             0             0\n",
              "1  263405084770172928  negative  ...             0             0\n",
              "2  262163168678248449  negative  ...             0             1\n",
              "3  264249301910310912  negative  ...             0             0\n",
              "4  262682041215234048   neutral  ...             0             0\n",
              "\n",
              "[5 rows x 11 columns]"
            ]
          },
          "metadata": {
            "tags": []
          },
          "execution_count": 30
        }
      ]
    },
    {
      "cell_type": "code",
      "metadata": {
        "id": "_eG5rzaKrE3w"
      },
      "source": [
        "import unicodedata"
      ],
      "execution_count": null,
      "outputs": []
    },
    {
      "cell_type": "code",
      "metadata": {
        "id": "ppj8jpXtqYs5"
      },
      "source": [
        "def remove_accented_chars(x):\n",
        "  x = unicodedata.normalized('NFKD', x).encode('ascii', 'ignore').decode('utf-8','ignore')\n",
        "  return x"
      ],
      "execution_count": null,
      "outputs": []
    },
    {
      "cell_type": "code",
      "metadata": {
        "id": "7soQNVliq011"
      },
      "source": [
        "import spacy"
      ],
      "execution_count": null,
      "outputs": []
    },
    {
      "cell_type": "code",
      "metadata": {
        "id": "XH76lbd2rf44",
        "colab": {
          "base_uri": "https://localhost:8080/",
          "height": 567
        },
        "outputId": "fafa8222-6e36-4a7f-bcdb-7d5eb6158b11"
      },
      "source": [
        "df['tweet_text']=df['tweet_text'].apply(lambda x: \" \".join([t for t in x.split() if t not in STOP_WORDS]))\n",
        "df.head()"
      ],
      "execution_count": null,
      "outputs": [
        {
          "output_type": "execute_result",
          "data": {
            "text/html": [
              "<div>\n",
              "<style scoped>\n",
              "    .dataframe tbody tr th:only-of-type {\n",
              "        vertical-align: middle;\n",
              "    }\n",
              "\n",
              "    .dataframe tbody tr th {\n",
              "        vertical-align: top;\n",
              "    }\n",
              "\n",
              "    .dataframe thead th {\n",
              "        text-align: right;\n",
              "    }\n",
              "</style>\n",
              "<table border=\"1\" class=\"dataframe\">\n",
              "  <thead>\n",
              "    <tr style=\"text-align: right;\">\n",
              "      <th></th>\n",
              "      <th>tweet_id</th>\n",
              "      <th>sentiment</th>\n",
              "      <th>tweet_text</th>\n",
              "      <th>word_counts</th>\n",
              "      <th>char_counts</th>\n",
              "      <th>avg_word_len</th>\n",
              "      <th>stop_words_len</th>\n",
              "      <th>hashtags_count</th>\n",
              "      <th>mentions_ count</th>\n",
              "      <th>numeric_count</th>\n",
              "      <th>upper_counts</th>\n",
              "    </tr>\n",
              "  </thead>\n",
              "  <tbody>\n",
              "    <tr>\n",
              "      <th>0</th>\n",
              "      <td>264183816548130816</td>\n",
              "      <td>positive</td>\n",
              "      <td>gas house hit ium going chapel hill sat</td>\n",
              "      <td>14</td>\n",
              "      <td>70</td>\n",
              "      <td>4.071429</td>\n",
              "      <td>4</td>\n",
              "      <td>0</td>\n",
              "      <td>0</td>\n",
              "      <td>0</td>\n",
              "      <td>0</td>\n",
              "    </tr>\n",
              "    <tr>\n",
              "      <th>1</th>\n",
              "      <td>263405084770172928</td>\n",
              "      <td>negative</td>\n",
              "      <td>theo walcott shituc watch rafa johnny deal sat...</td>\n",
              "      <td>14</td>\n",
              "      <td>81</td>\n",
              "      <td>4.857143</td>\n",
              "      <td>6</td>\n",
              "      <td>0</td>\n",
              "      <td>0</td>\n",
              "      <td>0</td>\n",
              "      <td>0</td>\n",
              "    </tr>\n",
              "    <tr>\n",
              "      <th>2</th>\n",
              "      <td>262163168678248449</td>\n",
              "      <td>negative</td>\n",
              "      <td>ium gsp fanuc hate nick diaz canut wait february</td>\n",
              "      <td>16</td>\n",
              "      <td>90</td>\n",
              "      <td>4.687500</td>\n",
              "      <td>7</td>\n",
              "      <td>0</td>\n",
              "      <td>0</td>\n",
              "      <td>0</td>\n",
              "      <td>1</td>\n",
              "    </tr>\n",
              "    <tr>\n",
              "      <th>3</th>\n",
              "      <td>264249301910310912</td>\n",
              "      <td>negative</td>\n",
              "      <td>iranian general says israelus iron dome canut ...</td>\n",
              "      <td>22</td>\n",
              "      <td>135</td>\n",
              "      <td>5.181818</td>\n",
              "      <td>7</td>\n",
              "      <td>0</td>\n",
              "      <td>0</td>\n",
              "      <td>0</td>\n",
              "      <td>0</td>\n",
              "    </tr>\n",
              "    <tr>\n",
              "      <th>4</th>\n",
              "      <td>262682041215234048</td>\n",
              "      <td>neutral</td>\n",
              "      <td>tehranuc mon amour obama tried establish ties ...</td>\n",
              "      <td>21</td>\n",
              "      <td>143</td>\n",
              "      <td>5.857143</td>\n",
              "      <td>4</td>\n",
              "      <td>0</td>\n",
              "      <td>1</td>\n",
              "      <td>0</td>\n",
              "      <td>0</td>\n",
              "    </tr>\n",
              "  </tbody>\n",
              "</table>\n",
              "</div>"
            ],
            "text/plain": [
              "             tweet_id sentiment  ... numeric_count  upper_counts\n",
              "0  264183816548130816  positive  ...             0             0\n",
              "1  263405084770172928  negative  ...             0             0\n",
              "2  262163168678248449  negative  ...             0             1\n",
              "3  264249301910310912  negative  ...             0             0\n",
              "4  262682041215234048   neutral  ...             0             0\n",
              "\n",
              "[5 rows x 11 columns]"
            ]
          },
          "metadata": {
            "tags": []
          },
          "execution_count": 34
        }
      ]
    },
    {
      "cell_type": "code",
      "metadata": {
        "id": "4tW4h697BdLQ"
      },
      "source": [
        "#df2.head()"
      ],
      "execution_count": null,
      "outputs": []
    },
    {
      "cell_type": "code",
      "metadata": {
        "id": "EpDuDfvNrqFG"
      },
      "source": [
        "nlp = spacy.load('en_core_web_sm')\n",
        "#DOWNLOAD THIS FIRST"
      ],
      "execution_count": null,
      "outputs": []
    },
    {
      "cell_type": "code",
      "metadata": {
        "id": "w9K0lha8rtJd"
      },
      "source": [
        "#5 min\n",
        "def make_to_base(x):\n",
        "  x_list = []\n",
        "  doc = nlp(x)\n",
        "\n",
        "  for token in doc:\n",
        "    lemma = str(token.lemma_)\n",
        "    if lemma == '-PRON-' or lemma == 'be':\n",
        "      lemma = token.text\n",
        "    x_list.append(lemma)\n",
        "\n",
        "  return (\" \".join(x_list))\n",
        "\n",
        "#DIDN'T APPLY THIS TO THE DATAFRAME SAYING THAT IT WILL TAKE ALOT OF TIME IF THE DATASET IS HUGE\n",
        "#CAN BE APPLIED USING THE LAMBDA FUNCTION\n",
        "#Maybe it can be applied like this:-\n",
        "\n",
        "\n",
        "df['tweet_text']=df['tweet_text'].apply(lambda x: make_to_base(x))\n",
        "\n"
      ],
      "execution_count": null,
      "outputs": []
    },
    {
      "cell_type": "code",
      "metadata": {
        "id": "ym8jerODuyoy",
        "colab": {
          "base_uri": "https://localhost:8080/",
          "height": 534
        },
        "outputId": "c467be19-03a5-4a45-fcf4-38ffafce9afa"
      },
      "source": [
        "df.head()\n"
      ],
      "execution_count": null,
      "outputs": [
        {
          "output_type": "execute_result",
          "data": {
            "text/html": [
              "<div>\n",
              "<style scoped>\n",
              "    .dataframe tbody tr th:only-of-type {\n",
              "        vertical-align: middle;\n",
              "    }\n",
              "\n",
              "    .dataframe tbody tr th {\n",
              "        vertical-align: top;\n",
              "    }\n",
              "\n",
              "    .dataframe thead th {\n",
              "        text-align: right;\n",
              "    }\n",
              "</style>\n",
              "<table border=\"1\" class=\"dataframe\">\n",
              "  <thead>\n",
              "    <tr style=\"text-align: right;\">\n",
              "      <th></th>\n",
              "      <th>tweet_id</th>\n",
              "      <th>sentiment</th>\n",
              "      <th>tweet_text</th>\n",
              "      <th>word_counts</th>\n",
              "      <th>char_counts</th>\n",
              "      <th>avg_word_len</th>\n",
              "      <th>stop_words_len</th>\n",
              "      <th>hashtags_count</th>\n",
              "      <th>mentions_ count</th>\n",
              "      <th>numeric_count</th>\n",
              "      <th>upper_counts</th>\n",
              "    </tr>\n",
              "  </thead>\n",
              "  <tbody>\n",
              "    <tr>\n",
              "      <th>0</th>\n",
              "      <td>264183816548130816</td>\n",
              "      <td>positive</td>\n",
              "      <td>gas house hit ium go chapel hill sit</td>\n",
              "      <td>14</td>\n",
              "      <td>70</td>\n",
              "      <td>4.071429</td>\n",
              "      <td>4</td>\n",
              "      <td>0</td>\n",
              "      <td>0</td>\n",
              "      <td>0</td>\n",
              "      <td>0</td>\n",
              "    </tr>\n",
              "    <tr>\n",
              "      <th>1</th>\n",
              "      <td>263405084770172928</td>\n",
              "      <td>negative</td>\n",
              "      <td>theo walcott shituc watch rafa johnny deal sat...</td>\n",
              "      <td>14</td>\n",
              "      <td>81</td>\n",
              "      <td>4.857143</td>\n",
              "      <td>6</td>\n",
              "      <td>0</td>\n",
              "      <td>0</td>\n",
              "      <td>0</td>\n",
              "      <td>0</td>\n",
              "    </tr>\n",
              "    <tr>\n",
              "      <th>2</th>\n",
              "      <td>262163168678248449</td>\n",
              "      <td>negative</td>\n",
              "      <td>ium gsp fanuc hate nick diaz canut wait february</td>\n",
              "      <td>16</td>\n",
              "      <td>90</td>\n",
              "      <td>4.687500</td>\n",
              "      <td>7</td>\n",
              "      <td>0</td>\n",
              "      <td>0</td>\n",
              "      <td>0</td>\n",
              "      <td>1</td>\n",
              "    </tr>\n",
              "    <tr>\n",
              "      <th>3</th>\n",
              "      <td>264249301910310912</td>\n",
              "      <td>negative</td>\n",
              "      <td>iranian general say israelus iron dome canut d...</td>\n",
              "      <td>22</td>\n",
              "      <td>135</td>\n",
              "      <td>5.181818</td>\n",
              "      <td>7</td>\n",
              "      <td>0</td>\n",
              "      <td>0</td>\n",
              "      <td>0</td>\n",
              "      <td>0</td>\n",
              "    </tr>\n",
              "    <tr>\n",
              "      <th>4</th>\n",
              "      <td>262682041215234048</td>\n",
              "      <td>neutral</td>\n",
              "      <td>tehranuc mon amour obama try establish tie mul...</td>\n",
              "      <td>21</td>\n",
              "      <td>143</td>\n",
              "      <td>5.857143</td>\n",
              "      <td>4</td>\n",
              "      <td>0</td>\n",
              "      <td>1</td>\n",
              "      <td>0</td>\n",
              "      <td>0</td>\n",
              "    </tr>\n",
              "  </tbody>\n",
              "</table>\n",
              "</div>"
            ],
            "text/plain": [
              "             tweet_id sentiment  ... numeric_count  upper_counts\n",
              "0  264183816548130816  positive  ...             0             0\n",
              "1  263405084770172928  negative  ...             0             0\n",
              "2  262163168678248449  negative  ...             0             1\n",
              "3  264249301910310912  negative  ...             0             0\n",
              "4  262682041215234048   neutral  ...             0             0\n",
              "\n",
              "[5 rows x 11 columns]"
            ]
          },
          "metadata": {
            "tags": []
          },
          "execution_count": 38
        }
      ]
    },
    {
      "cell_type": "code",
      "metadata": {
        "id": "PsHqg-est_ST"
      },
      "source": [
        "# t=df.iloc[0,2]\n",
        "#print(make_to_base(t))"
      ],
      "execution_count": null,
      "outputs": []
    },
    {
      "cell_type": "code",
      "metadata": {
        "id": "X_DQqSoctVKh",
        "colab": {
          "base_uri": "https://localhost:8080/",
          "height": 534
        },
        "outputId": "26135bec-052f-4214-be08-81828707bfef"
      },
      "source": [
        "df.head()"
      ],
      "execution_count": null,
      "outputs": [
        {
          "output_type": "execute_result",
          "data": {
            "text/html": [
              "<div>\n",
              "<style scoped>\n",
              "    .dataframe tbody tr th:only-of-type {\n",
              "        vertical-align: middle;\n",
              "    }\n",
              "\n",
              "    .dataframe tbody tr th {\n",
              "        vertical-align: top;\n",
              "    }\n",
              "\n",
              "    .dataframe thead th {\n",
              "        text-align: right;\n",
              "    }\n",
              "</style>\n",
              "<table border=\"1\" class=\"dataframe\">\n",
              "  <thead>\n",
              "    <tr style=\"text-align: right;\">\n",
              "      <th></th>\n",
              "      <th>tweet_id</th>\n",
              "      <th>sentiment</th>\n",
              "      <th>tweet_text</th>\n",
              "      <th>word_counts</th>\n",
              "      <th>char_counts</th>\n",
              "      <th>avg_word_len</th>\n",
              "      <th>stop_words_len</th>\n",
              "      <th>hashtags_count</th>\n",
              "      <th>mentions_ count</th>\n",
              "      <th>numeric_count</th>\n",
              "      <th>upper_counts</th>\n",
              "    </tr>\n",
              "  </thead>\n",
              "  <tbody>\n",
              "    <tr>\n",
              "      <th>0</th>\n",
              "      <td>264183816548130816</td>\n",
              "      <td>positive</td>\n",
              "      <td>gas house hit ium go chapel hill sit</td>\n",
              "      <td>14</td>\n",
              "      <td>70</td>\n",
              "      <td>4.071429</td>\n",
              "      <td>4</td>\n",
              "      <td>0</td>\n",
              "      <td>0</td>\n",
              "      <td>0</td>\n",
              "      <td>0</td>\n",
              "    </tr>\n",
              "    <tr>\n",
              "      <th>1</th>\n",
              "      <td>263405084770172928</td>\n",
              "      <td>negative</td>\n",
              "      <td>theo walcott shituc watch rafa johnny deal sat...</td>\n",
              "      <td>14</td>\n",
              "      <td>81</td>\n",
              "      <td>4.857143</td>\n",
              "      <td>6</td>\n",
              "      <td>0</td>\n",
              "      <td>0</td>\n",
              "      <td>0</td>\n",
              "      <td>0</td>\n",
              "    </tr>\n",
              "    <tr>\n",
              "      <th>2</th>\n",
              "      <td>262163168678248449</td>\n",
              "      <td>negative</td>\n",
              "      <td>ium gsp fanuc hate nick diaz canut wait february</td>\n",
              "      <td>16</td>\n",
              "      <td>90</td>\n",
              "      <td>4.687500</td>\n",
              "      <td>7</td>\n",
              "      <td>0</td>\n",
              "      <td>0</td>\n",
              "      <td>0</td>\n",
              "      <td>1</td>\n",
              "    </tr>\n",
              "    <tr>\n",
              "      <th>3</th>\n",
              "      <td>264249301910310912</td>\n",
              "      <td>negative</td>\n",
              "      <td>iranian general say israelus iron dome canut d...</td>\n",
              "      <td>22</td>\n",
              "      <td>135</td>\n",
              "      <td>5.181818</td>\n",
              "      <td>7</td>\n",
              "      <td>0</td>\n",
              "      <td>0</td>\n",
              "      <td>0</td>\n",
              "      <td>0</td>\n",
              "    </tr>\n",
              "    <tr>\n",
              "      <th>4</th>\n",
              "      <td>262682041215234048</td>\n",
              "      <td>neutral</td>\n",
              "      <td>tehranuc mon amour obama try establish tie mul...</td>\n",
              "      <td>21</td>\n",
              "      <td>143</td>\n",
              "      <td>5.857143</td>\n",
              "      <td>4</td>\n",
              "      <td>0</td>\n",
              "      <td>1</td>\n",
              "      <td>0</td>\n",
              "      <td>0</td>\n",
              "    </tr>\n",
              "  </tbody>\n",
              "</table>\n",
              "</div>"
            ],
            "text/plain": [
              "             tweet_id sentiment  ... numeric_count  upper_counts\n",
              "0  264183816548130816  positive  ...             0             0\n",
              "1  263405084770172928  negative  ...             0             0\n",
              "2  262163168678248449  negative  ...             0             1\n",
              "3  264249301910310912  negative  ...             0             0\n",
              "4  262682041215234048   neutral  ...             0             0\n",
              "\n",
              "[5 rows x 11 columns]"
            ]
          },
          "metadata": {
            "tags": []
          },
          "execution_count": 40
        }
      ]
    },
    {
      "cell_type": "code",
      "metadata": {
        "id": "jrQ_p3wIsWlO"
      },
      "source": [
        "text = ' '.join(df['tweet_text'])"
      ],
      "execution_count": null,
      "outputs": []
    },
    {
      "cell_type": "code",
      "metadata": {
        "id": "faw4Ib_1sW14"
      },
      "source": [
        "text = text.split()"
      ],
      "execution_count": null,
      "outputs": []
    },
    {
      "cell_type": "code",
      "metadata": {
        "id": "XiSsHlnct3vM"
      },
      "source": [
        "freq_comm = pd.Series(text).value_counts()"
      ],
      "execution_count": null,
      "outputs": []
    },
    {
      "cell_type": "code",
      "metadata": {
        "id": "lLuw_TsvvAod"
      },
      "source": [
        "f20 = freq_comm[:20] #CHECK THIS PART ONCE AGAIN"
      ],
      "execution_count": null,
      "outputs": []
    },
    {
      "cell_type": "code",
      "metadata": {
        "id": "-i-a95q_t-D0",
        "colab": {
          "base_uri": "https://localhost:8080/",
          "height": 517
        },
        "outputId": "e96fe094-d7d9-4524-a054-aef94b912a66"
      },
      "source": [
        "df['tweet_text']=df['tweet_text'].apply(lambda x: \" \".join([t for t in x.split() if t not in f20]))\n",
        "df.head()"
      ],
      "execution_count": null,
      "outputs": [
        {
          "output_type": "execute_result",
          "data": {
            "text/html": [
              "<div>\n",
              "<style scoped>\n",
              "    .dataframe tbody tr th:only-of-type {\n",
              "        vertical-align: middle;\n",
              "    }\n",
              "\n",
              "    .dataframe tbody tr th {\n",
              "        vertical-align: top;\n",
              "    }\n",
              "\n",
              "    .dataframe thead th {\n",
              "        text-align: right;\n",
              "    }\n",
              "</style>\n",
              "<table border=\"1\" class=\"dataframe\">\n",
              "  <thead>\n",
              "    <tr style=\"text-align: right;\">\n",
              "      <th></th>\n",
              "      <th>tweet_id</th>\n",
              "      <th>sentiment</th>\n",
              "      <th>tweet_text</th>\n",
              "      <th>word_counts</th>\n",
              "      <th>char_counts</th>\n",
              "      <th>avg_word_len</th>\n",
              "      <th>stop_words_len</th>\n",
              "      <th>hashtags_count</th>\n",
              "      <th>mentions_ count</th>\n",
              "      <th>numeric_count</th>\n",
              "      <th>upper_counts</th>\n",
              "    </tr>\n",
              "  </thead>\n",
              "  <tbody>\n",
              "    <tr>\n",
              "      <th>0</th>\n",
              "      <td>264183816548130816</td>\n",
              "      <td>positive</td>\n",
              "      <td>gas house hit ium chapel hill sit</td>\n",
              "      <td>14</td>\n",
              "      <td>70</td>\n",
              "      <td>4.071429</td>\n",
              "      <td>4</td>\n",
              "      <td>0</td>\n",
              "      <td>0</td>\n",
              "      <td>0</td>\n",
              "      <td>0</td>\n",
              "    </tr>\n",
              "    <tr>\n",
              "      <th>1</th>\n",
              "      <td>263405084770172928</td>\n",
              "      <td>negative</td>\n",
              "      <td>theo walcott shituc rafa johnny deal</td>\n",
              "      <td>14</td>\n",
              "      <td>81</td>\n",
              "      <td>4.857143</td>\n",
              "      <td>6</td>\n",
              "      <td>0</td>\n",
              "      <td>0</td>\n",
              "      <td>0</td>\n",
              "      <td>0</td>\n",
              "    </tr>\n",
              "    <tr>\n",
              "      <th>2</th>\n",
              "      <td>262163168678248449</td>\n",
              "      <td>negative</td>\n",
              "      <td>ium gsp fanuc hate nick diaz canut wait february</td>\n",
              "      <td>16</td>\n",
              "      <td>90</td>\n",
              "      <td>4.687500</td>\n",
              "      <td>7</td>\n",
              "      <td>0</td>\n",
              "      <td>0</td>\n",
              "      <td>0</td>\n",
              "      <td>1</td>\n",
              "    </tr>\n",
              "    <tr>\n",
              "      <th>3</th>\n",
              "      <td>264249301910310912</td>\n",
              "      <td>negative</td>\n",
              "      <td>iranian general say israelus iron dome canut d...</td>\n",
              "      <td>22</td>\n",
              "      <td>135</td>\n",
              "      <td>5.181818</td>\n",
              "      <td>7</td>\n",
              "      <td>0</td>\n",
              "      <td>0</td>\n",
              "      <td>0</td>\n",
              "      <td>0</td>\n",
              "    </tr>\n",
              "    <tr>\n",
              "      <th>4</th>\n",
              "      <td>262682041215234048</td>\n",
              "      <td>neutral</td>\n",
              "      <td>tehranuc mon amour obama try establish tie mul...</td>\n",
              "      <td>21</td>\n",
              "      <td>143</td>\n",
              "      <td>5.857143</td>\n",
              "      <td>4</td>\n",
              "      <td>0</td>\n",
              "      <td>1</td>\n",
              "      <td>0</td>\n",
              "      <td>0</td>\n",
              "    </tr>\n",
              "  </tbody>\n",
              "</table>\n",
              "</div>"
            ],
            "text/plain": [
              "             tweet_id sentiment  ... numeric_count  upper_counts\n",
              "0  264183816548130816  positive  ...             0             0\n",
              "1  263405084770172928  negative  ...             0             0\n",
              "2  262163168678248449  negative  ...             0             1\n",
              "3  264249301910310912  negative  ...             0             0\n",
              "4  262682041215234048   neutral  ...             0             0\n",
              "\n",
              "[5 rows x 11 columns]"
            ]
          },
          "metadata": {
            "tags": []
          },
          "execution_count": 45
        }
      ]
    },
    {
      "cell_type": "code",
      "metadata": {
        "id": "O8uyFs39uzgD",
        "colab": {
          "base_uri": "https://localhost:8080/",
          "height": 517
        },
        "outputId": "faa30404-fa30-4ae2-88d9-a451c6ad23e2"
      },
      "source": [
        "rare20 = freq_comm[-20:] #CHECK THIS PART ONCE AGAIN AT 1:30:10\n",
        "df.head()"
      ],
      "execution_count": null,
      "outputs": [
        {
          "output_type": "execute_result",
          "data": {
            "text/html": [
              "<div>\n",
              "<style scoped>\n",
              "    .dataframe tbody tr th:only-of-type {\n",
              "        vertical-align: middle;\n",
              "    }\n",
              "\n",
              "    .dataframe tbody tr th {\n",
              "        vertical-align: top;\n",
              "    }\n",
              "\n",
              "    .dataframe thead th {\n",
              "        text-align: right;\n",
              "    }\n",
              "</style>\n",
              "<table border=\"1\" class=\"dataframe\">\n",
              "  <thead>\n",
              "    <tr style=\"text-align: right;\">\n",
              "      <th></th>\n",
              "      <th>tweet_id</th>\n",
              "      <th>sentiment</th>\n",
              "      <th>tweet_text</th>\n",
              "      <th>word_counts</th>\n",
              "      <th>char_counts</th>\n",
              "      <th>avg_word_len</th>\n",
              "      <th>stop_words_len</th>\n",
              "      <th>hashtags_count</th>\n",
              "      <th>mentions_ count</th>\n",
              "      <th>numeric_count</th>\n",
              "      <th>upper_counts</th>\n",
              "    </tr>\n",
              "  </thead>\n",
              "  <tbody>\n",
              "    <tr>\n",
              "      <th>0</th>\n",
              "      <td>264183816548130816</td>\n",
              "      <td>positive</td>\n",
              "      <td>gas house hit ium chapel hill sit</td>\n",
              "      <td>14</td>\n",
              "      <td>70</td>\n",
              "      <td>4.071429</td>\n",
              "      <td>4</td>\n",
              "      <td>0</td>\n",
              "      <td>0</td>\n",
              "      <td>0</td>\n",
              "      <td>0</td>\n",
              "    </tr>\n",
              "    <tr>\n",
              "      <th>1</th>\n",
              "      <td>263405084770172928</td>\n",
              "      <td>negative</td>\n",
              "      <td>theo walcott shituc rafa johnny deal</td>\n",
              "      <td>14</td>\n",
              "      <td>81</td>\n",
              "      <td>4.857143</td>\n",
              "      <td>6</td>\n",
              "      <td>0</td>\n",
              "      <td>0</td>\n",
              "      <td>0</td>\n",
              "      <td>0</td>\n",
              "    </tr>\n",
              "    <tr>\n",
              "      <th>2</th>\n",
              "      <td>262163168678248449</td>\n",
              "      <td>negative</td>\n",
              "      <td>ium gsp fanuc hate nick diaz canut wait february</td>\n",
              "      <td>16</td>\n",
              "      <td>90</td>\n",
              "      <td>4.687500</td>\n",
              "      <td>7</td>\n",
              "      <td>0</td>\n",
              "      <td>0</td>\n",
              "      <td>0</td>\n",
              "      <td>1</td>\n",
              "    </tr>\n",
              "    <tr>\n",
              "      <th>3</th>\n",
              "      <td>264249301910310912</td>\n",
              "      <td>negative</td>\n",
              "      <td>iranian general say israelus iron dome canut d...</td>\n",
              "      <td>22</td>\n",
              "      <td>135</td>\n",
              "      <td>5.181818</td>\n",
              "      <td>7</td>\n",
              "      <td>0</td>\n",
              "      <td>0</td>\n",
              "      <td>0</td>\n",
              "      <td>0</td>\n",
              "    </tr>\n",
              "    <tr>\n",
              "      <th>4</th>\n",
              "      <td>262682041215234048</td>\n",
              "      <td>neutral</td>\n",
              "      <td>tehranuc mon amour obama try establish tie mul...</td>\n",
              "      <td>21</td>\n",
              "      <td>143</td>\n",
              "      <td>5.857143</td>\n",
              "      <td>4</td>\n",
              "      <td>0</td>\n",
              "      <td>1</td>\n",
              "      <td>0</td>\n",
              "      <td>0</td>\n",
              "    </tr>\n",
              "  </tbody>\n",
              "</table>\n",
              "</div>"
            ],
            "text/plain": [
              "             tweet_id sentiment  ... numeric_count  upper_counts\n",
              "0  264183816548130816  positive  ...             0             0\n",
              "1  263405084770172928  negative  ...             0             0\n",
              "2  262163168678248449  negative  ...             0             1\n",
              "3  264249301910310912  negative  ...             0             0\n",
              "4  262682041215234048   neutral  ...             0             0\n",
              "\n",
              "[5 rows x 11 columns]"
            ]
          },
          "metadata": {
            "tags": []
          },
          "execution_count": 46
        }
      ]
    },
    {
      "cell_type": "code",
      "metadata": {
        "id": "1W6lwD9au-W7"
      },
      "source": [
        "#rare = freq_comm[freq_comm.values == 1]\n",
        "#DIDN'T USE THIS AS IT WILL TAKE TIME AS THE DATA SET IS BIG\n",
        "#WE CAN USE IT AS:\n",
        "\n",
        "#df['tweet_text']=df['tweet_text'].apply(lambda x: \" \".join([t for t in x.split() if t not in rare]))"
      ],
      "execution_count": null,
      "outputs": []
    },
    {
      "cell_type": "code",
      "metadata": {
        "id": "Y52oYDf_vWaF",
        "colab": {
          "base_uri": "https://localhost:8080/",
          "height": 517
        },
        "outputId": "5021943b-4031-4663-b600-41dace51e44e"
      },
      "source": [
        "\n",
        "\n",
        "df['tweet_text']=df['tweet_text'].apply(lambda x: \" \".join([t for t in x.split() if t not in rare20]))\n",
        "df.head()"
      ],
      "execution_count": null,
      "outputs": [
        {
          "output_type": "execute_result",
          "data": {
            "text/html": [
              "<div>\n",
              "<style scoped>\n",
              "    .dataframe tbody tr th:only-of-type {\n",
              "        vertical-align: middle;\n",
              "    }\n",
              "\n",
              "    .dataframe tbody tr th {\n",
              "        vertical-align: top;\n",
              "    }\n",
              "\n",
              "    .dataframe thead th {\n",
              "        text-align: right;\n",
              "    }\n",
              "</style>\n",
              "<table border=\"1\" class=\"dataframe\">\n",
              "  <thead>\n",
              "    <tr style=\"text-align: right;\">\n",
              "      <th></th>\n",
              "      <th>tweet_id</th>\n",
              "      <th>sentiment</th>\n",
              "      <th>tweet_text</th>\n",
              "      <th>word_counts</th>\n",
              "      <th>char_counts</th>\n",
              "      <th>avg_word_len</th>\n",
              "      <th>stop_words_len</th>\n",
              "      <th>hashtags_count</th>\n",
              "      <th>mentions_ count</th>\n",
              "      <th>numeric_count</th>\n",
              "      <th>upper_counts</th>\n",
              "    </tr>\n",
              "  </thead>\n",
              "  <tbody>\n",
              "    <tr>\n",
              "      <th>0</th>\n",
              "      <td>264183816548130816</td>\n",
              "      <td>positive</td>\n",
              "      <td>gas house hit ium chapel hill sit</td>\n",
              "      <td>14</td>\n",
              "      <td>70</td>\n",
              "      <td>4.071429</td>\n",
              "      <td>4</td>\n",
              "      <td>0</td>\n",
              "      <td>0</td>\n",
              "      <td>0</td>\n",
              "      <td>0</td>\n",
              "    </tr>\n",
              "    <tr>\n",
              "      <th>1</th>\n",
              "      <td>263405084770172928</td>\n",
              "      <td>negative</td>\n",
              "      <td>theo walcott shituc rafa johnny deal</td>\n",
              "      <td>14</td>\n",
              "      <td>81</td>\n",
              "      <td>4.857143</td>\n",
              "      <td>6</td>\n",
              "      <td>0</td>\n",
              "      <td>0</td>\n",
              "      <td>0</td>\n",
              "      <td>0</td>\n",
              "    </tr>\n",
              "    <tr>\n",
              "      <th>2</th>\n",
              "      <td>262163168678248449</td>\n",
              "      <td>negative</td>\n",
              "      <td>ium gsp fanuc hate nick diaz canut wait february</td>\n",
              "      <td>16</td>\n",
              "      <td>90</td>\n",
              "      <td>4.687500</td>\n",
              "      <td>7</td>\n",
              "      <td>0</td>\n",
              "      <td>0</td>\n",
              "      <td>0</td>\n",
              "      <td>1</td>\n",
              "    </tr>\n",
              "    <tr>\n",
              "      <th>3</th>\n",
              "      <td>264249301910310912</td>\n",
              "      <td>negative</td>\n",
              "      <td>iranian general say israelus iron dome canut d...</td>\n",
              "      <td>22</td>\n",
              "      <td>135</td>\n",
              "      <td>5.181818</td>\n",
              "      <td>7</td>\n",
              "      <td>0</td>\n",
              "      <td>0</td>\n",
              "      <td>0</td>\n",
              "      <td>0</td>\n",
              "    </tr>\n",
              "    <tr>\n",
              "      <th>4</th>\n",
              "      <td>262682041215234048</td>\n",
              "      <td>neutral</td>\n",
              "      <td>tehranuc mon amour obama try establish tie mul...</td>\n",
              "      <td>21</td>\n",
              "      <td>143</td>\n",
              "      <td>5.857143</td>\n",
              "      <td>4</td>\n",
              "      <td>0</td>\n",
              "      <td>1</td>\n",
              "      <td>0</td>\n",
              "      <td>0</td>\n",
              "    </tr>\n",
              "  </tbody>\n",
              "</table>\n",
              "</div>"
            ],
            "text/plain": [
              "             tweet_id sentiment  ... numeric_count  upper_counts\n",
              "0  264183816548130816  positive  ...             0             0\n",
              "1  263405084770172928  negative  ...             0             0\n",
              "2  262163168678248449  negative  ...             0             1\n",
              "3  264249301910310912  negative  ...             0             0\n",
              "4  262682041215234048   neutral  ...             0             0\n",
              "\n",
              "[5 rows x 11 columns]"
            ]
          },
          "metadata": {
            "tags": []
          },
          "execution_count": 48
        }
      ]
    },
    {
      "cell_type": "code",
      "metadata": {
        "id": "o-kdTwc9v08g",
        "colab": {
          "base_uri": "https://localhost:8080/",
          "height": 70
        },
        "outputId": "a9b0fba4-0006-4aca-8b4d-1450269e076d"
      },
      "source": [
        "!pip install wordcloud"
      ],
      "execution_count": null,
      "outputs": [
        {
          "output_type": "stream",
          "text": [
            "Requirement already satisfied: wordcloud in /usr/local/lib/python3.6/dist-packages (1.5.0)\n",
            "Requirement already satisfied: pillow in /usr/local/lib/python3.6/dist-packages (from wordcloud) (7.0.0)\n",
            "Requirement already satisfied: numpy>=1.6.1 in /usr/local/lib/python3.6/dist-packages (from wordcloud) (1.18.5)\n"
          ],
          "name": "stdout"
        }
      ]
    },
    {
      "cell_type": "code",
      "metadata": {
        "id": "qmIkYFquweEy"
      },
      "source": [
        "from wordcloud import WordCloud\n",
        "import matplotlib.pyplot as plt\n",
        "%matplotlib inline"
      ],
      "execution_count": null,
      "outputs": []
    },
    {
      "cell_type": "code",
      "metadata": {
        "id": "b_Eyf2Cnwov-"
      },
      "source": [
        "x = ' '.join(text)"
      ],
      "execution_count": null,
      "outputs": []
    },
    {
      "cell_type": "code",
      "metadata": {
        "id": "0n-JGbAZwxsp",
        "colab": {
          "base_uri": "https://localhost:8080/",
          "height": 34
        },
        "outputId": "10998be3-3ab9-46ad-f4ef-14ec5438e941"
      },
      "source": [
        "len(text)"
      ],
      "execution_count": null,
      "outputs": [
        {
          "output_type": "execute_result",
          "data": {
            "text/plain": [
              "240987"
            ]
          },
          "metadata": {
            "tags": []
          },
          "execution_count": 52
        }
      ]
    },
    {
      "cell_type": "code",
      "metadata": {
        "id": "0ypkffPxwza4",
        "colab": {
          "base_uri": "https://localhost:8080/",
          "height": 197
        },
        "outputId": "82337273-5e0e-43ee-d693-3429f86381dd"
      },
      "source": [
        "wc = WordCloud(width = 800, height = 400).generate(x)\n",
        "plt.imshow(wc)\n",
        "plt.axis('off')\n",
        "plt.show()"
      ],
      "execution_count": null,
      "outputs": [
        {
          "output_type": "display_data",
          "data": {
            "image/png": "[encoded data removed]",
            "text/plain": [
              "<Figure size 432x288 with 1 Axes>"
            ]
          },
          "metadata": {
            "tags": [],
            "needs_background": "light"
          }
        }
      ]
    },
    {
      "cell_type": "code",
      "metadata": {
        "id": "nW_pB3maw8IE",
        "colab": {
          "base_uri": "https://localhost:8080/",
          "height": 336
        },
        "outputId": "88005d21-218e-42d5-bca7-d17ac839ed3b"
      },
      "source": [
        "!pip install -U textblob\n",
        "!python -m textblob.download_corpora"
      ],
      "execution_count": null,
      "outputs": [
        {
          "output_type": "stream",
          "text": [
            "Requirement already up-to-date: textblob in /usr/local/lib/python3.6/dist-packages (0.15.3)\n",
            "Requirement already satisfied, skipping upgrade: nltk>=3.1 in /usr/local/lib/python3.6/dist-packages (from textblob) (3.2.5)\n",
            "Requirement already satisfied, skipping upgrade: six in /usr/local/lib/python3.6/dist-packages (from nltk>=3.1->textblob) (1.12.0)\n",
            "[nltk_data] Downloading package brown to /root/nltk_data...\n",
            "[nltk_data]   Package brown is already up-to-date!\n",
            "[nltk_data] Downloading package punkt to /root/nltk_data...\n",
            "[nltk_data]   Package punkt is already up-to-date!\n",
            "[nltk_data] Downloading package wordnet to /root/nltk_data...\n",
            "[nltk_data]   Package wordnet is already up-to-date!\n",
            "[nltk_data] Downloading package averaged_perceptron_tagger to\n",
            "[nltk_data]     /root/nltk_data...\n",
            "[nltk_data]   Package averaged_perceptron_tagger is already up-to-\n",
            "[nltk_data]       date!\n",
            "[nltk_data] Downloading package conll2000 to /root/nltk_data...\n",
            "[nltk_data]   Package conll2000 is already up-to-date!\n",
            "[nltk_data] Downloading package movie_reviews to /root/nltk_data...\n",
            "[nltk_data]   Package movie_reviews is already up-to-date!\n",
            "Finished.\n"
          ],
          "name": "stdout"
        }
      ]
    },
    {
      "cell_type": "code",
      "metadata": {
        "id": "cJUZYKWVZBFk",
        "colab": {
          "base_uri": "https://localhost:8080/",
          "height": 1000
        },
        "outputId": "9eaf8c99-11b5-4658-de87-c37f8a221202"
      },
      "source": [
        "df_new = df.iloc[0:15,:]\n",
        "df_new['tweet_text']= df_new['tweet_text'].apply(lambda x: \" \".join(x))\n",
        "df_new"
      ],
      "execution_count": null,
      "outputs": [
        {
          "output_type": "stream",
          "text": [
            "/usr/local/lib/python3.6/dist-packages/ipykernel_launcher.py:2: SettingWithCopyWarning: \n",
            "A value is trying to be set on a copy of a slice from a DataFrame.\n",
            "Try using .loc[row_indexer,col_indexer] = value instead\n",
            "\n",
            "See the caveats in the documentation: https://pandas.pydata.org/pandas-docs/stable/user_guide/indexing.html#returning-a-view-versus-a-copy\n",
            "  \n"
          ],
          "name": "stderr"
        },
        {
          "output_type": "execute_result",
          "data": {
            "text/html": [
              "<div>\n",
              "<style scoped>\n",
              "    .dataframe tbody tr th:only-of-type {\n",
              "        vertical-align: middle;\n",
              "    }\n",
              "\n",
              "    .dataframe tbody tr th {\n",
              "        vertical-align: top;\n",
              "    }\n",
              "\n",
              "    .dataframe thead th {\n",
              "        text-align: right;\n",
              "    }\n",
              "</style>\n",
              "<table border=\"1\" class=\"dataframe\">\n",
              "  <thead>\n",
              "    <tr style=\"text-align: right;\">\n",
              "      <th></th>\n",
              "      <th>tweet_id</th>\n",
              "      <th>sentiment</th>\n",
              "      <th>tweet_text</th>\n",
              "      <th>word_counts</th>\n",
              "      <th>char_counts</th>\n",
              "      <th>avg_word_len</th>\n",
              "      <th>stop_words_len</th>\n",
              "      <th>hashtags_count</th>\n",
              "      <th>mentions_ count</th>\n",
              "      <th>numeric_count</th>\n",
              "      <th>upper_counts</th>\n",
              "    </tr>\n",
              "  </thead>\n",
              "  <tbody>\n",
              "    <tr>\n",
              "      <th>0</th>\n",
              "      <td>264183816548130816</td>\n",
              "      <td>positive</td>\n",
              "      <td>gas house hit ium chapel hill sit</td>\n",
              "      <td>14</td>\n",
              "      <td>70</td>\n",
              "      <td>4.071429</td>\n",
              "      <td>4</td>\n",
              "      <td>0</td>\n",
              "      <td>0</td>\n",
              "      <td>0</td>\n",
              "      <td>0</td>\n",
              "    </tr>\n",
              "    <tr>\n",
              "      <th>1</th>\n",
              "      <td>263405084770172928</td>\n",
              "      <td>negative</td>\n",
              "      <td>theo walcott shituc rafa johnny deal</td>\n",
              "      <td>14</td>\n",
              "      <td>81</td>\n",
              "      <td>4.857143</td>\n",
              "      <td>6</td>\n",
              "      <td>0</td>\n",
              "      <td>0</td>\n",
              "      <td>0</td>\n",
              "      <td>0</td>\n",
              "    </tr>\n",
              "    <tr>\n",
              "      <th>2</th>\n",
              "      <td>262163168678248449</td>\n",
              "      <td>negative</td>\n",
              "      <td>ium gsp fanuc hate nick diaz canut wait february</td>\n",
              "      <td>16</td>\n",
              "      <td>90</td>\n",
              "      <td>4.687500</td>\n",
              "      <td>7</td>\n",
              "      <td>0</td>\n",
              "      <td>0</td>\n",
              "      <td>0</td>\n",
              "      <td>1</td>\n",
              "    </tr>\n",
              "    <tr>\n",
              "      <th>3</th>\n",
              "      <td>264249301910310912</td>\n",
              "      <td>negative</td>\n",
              "      <td>iranian general say israelus iron dome canut d...</td>\n",
              "      <td>22</td>\n",
              "      <td>135</td>\n",
              "      <td>5.181818</td>\n",
              "      <td>7</td>\n",
              "      <td>0</td>\n",
              "      <td>0</td>\n",
              "      <td>0</td>\n",
              "      <td>0</td>\n",
              "    </tr>\n",
              "    <tr>\n",
              "      <th>4</th>\n",
              "      <td>262682041215234048</td>\n",
              "      <td>neutral</td>\n",
              "      <td>tehranuc mon amour obama try establish tie mul...</td>\n",
              "      <td>21</td>\n",
              "      <td>143</td>\n",
              "      <td>5.857143</td>\n",
              "      <td>4</td>\n",
              "      <td>0</td>\n",
              "      <td>1</td>\n",
              "      <td>0</td>\n",
              "      <td>0</td>\n",
              "    </tr>\n",
              "    <tr>\n",
              "      <th>5</th>\n",
              "      <td>264229576773861376</td>\n",
              "      <td>neutral</td>\n",
              "      <td>sat movie harry ron christmas ohlawd</td>\n",
              "      <td>14</td>\n",
              "      <td>74</td>\n",
              "      <td>4.357143</td>\n",
              "      <td>7</td>\n",
              "      <td>0</td>\n",
              "      <td>0</td>\n",
              "      <td>0</td>\n",
              "      <td>1</td>\n",
              "    </tr>\n",
              "    <tr>\n",
              "      <th>6</th>\n",
              "      <td>264105751826538497</td>\n",
              "      <td>positive</td>\n",
              "      <td>j davlar main rival team poland hopefully succ...</td>\n",
              "      <td>24</td>\n",
              "      <td>127</td>\n",
              "      <td>4.333333</td>\n",
              "      <td>10</td>\n",
              "      <td>0</td>\n",
              "      <td>0</td>\n",
              "      <td>0</td>\n",
              "      <td>1</td>\n",
              "    </tr>\n",
              "    <tr>\n",
              "      <th>7</th>\n",
              "      <td>264094586689953794</td>\n",
              "      <td>negative</td>\n",
              "      <td>talk actus satusuc decide want collegeuc apply...</td>\n",
              "      <td>23</td>\n",
              "      <td>156</td>\n",
              "      <td>5.826087</td>\n",
              "      <td>10</td>\n",
              "      <td>0</td>\n",
              "      <td>0</td>\n",
              "      <td>0</td>\n",
              "      <td>1</td>\n",
              "    </tr>\n",
              "    <tr>\n",
              "      <th>8</th>\n",
              "      <td>212392538055778304</td>\n",
              "      <td>neutral</td>\n",
              "      <td>happy valentines trending itus february june smh</td>\n",
              "      <td>17</td>\n",
              "      <td>100</td>\n",
              "      <td>4.941176</td>\n",
              "      <td>6</td>\n",
              "      <td>0</td>\n",
              "      <td>0</td>\n",
              "      <td>0</td>\n",
              "      <td>0</td>\n",
              "    </tr>\n",
              "    <tr>\n",
              "      <th>9</th>\n",
              "      <td>254941790757601280</td>\n",
              "      <td>negative</td>\n",
              "      <td>superbowl dallasuc dallas ainut win superbowl ...</td>\n",
              "      <td>21</td>\n",
              "      <td>143</td>\n",
              "      <td>5.857143</td>\n",
              "      <td>9</td>\n",
              "      <td>0</td>\n",
              "      <td>2</td>\n",
              "      <td>0</td>\n",
              "      <td>1</td>\n",
              "    </tr>\n",
              "    <tr>\n",
              "      <th>10</th>\n",
              "      <td>264169034155696130</td>\n",
              "      <td>neutral</td>\n",
              "      <td>bring monster load candy tomorrowuc hope doesn...</td>\n",
              "      <td>16</td>\n",
              "      <td>97</td>\n",
              "      <td>5.125000</td>\n",
              "      <td>6</td>\n",
              "      <td>0</td>\n",
              "      <td>0</td>\n",
              "      <td>0</td>\n",
              "      <td>1</td>\n",
              "    </tr>\n",
              "    <tr>\n",
              "      <th>11</th>\n",
              "      <td>263192091700654080</td>\n",
              "      <td>neutral</td>\n",
              "      <td>apple softwareuc retail chiefs overhaul san fr...</td>\n",
              "      <td>20</td>\n",
              "      <td>141</td>\n",
              "      <td>6.100000</td>\n",
              "      <td>4</td>\n",
              "      <td>0</td>\n",
              "      <td>0</td>\n",
              "      <td>0</td>\n",
              "      <td>3</td>\n",
              "    </tr>\n",
              "    <tr>\n",
              "      <th>12</th>\n",
              "      <td>263398998675693568</td>\n",
              "      <td>positive</td>\n",
              "      <td>oluoch victorotti kunjand sridevius comeback u...</td>\n",
              "      <td>20</td>\n",
              "      <td>129</td>\n",
              "      <td>5.500000</td>\n",
              "      <td>5</td>\n",
              "      <td>0</td>\n",
              "      <td>3</td>\n",
              "      <td>0</td>\n",
              "      <td>3</td>\n",
              "    </tr>\n",
              "    <tr>\n",
              "      <th>13</th>\n",
              "      <td>263650552167157762</td>\n",
              "      <td>positive</td>\n",
              "      <td>grader kory excite touchdown today victor cruzlol</td>\n",
              "      <td>19</td>\n",
              "      <td>120</td>\n",
              "      <td>5.368421</td>\n",
              "      <td>7</td>\n",
              "      <td>0</td>\n",
              "      <td>0</td>\n",
              "      <td>0</td>\n",
              "      <td>0</td>\n",
              "    </tr>\n",
              "    <tr>\n",
              "      <th>14</th>\n",
              "      <td>260200142420992000</td>\n",
              "      <td>neutral</td>\n",
              "      <td>livewire nadal confirm mexican open february r...</td>\n",
              "      <td>19</td>\n",
              "      <td>136</td>\n",
              "      <td>6.210526</td>\n",
              "      <td>6</td>\n",
              "      <td>2</td>\n",
              "      <td>0</td>\n",
              "      <td>0</td>\n",
              "      <td>0</td>\n",
              "    </tr>\n",
              "  </tbody>\n",
              "</table>\n",
              "</div>"
            ],
            "text/plain": [
              "              tweet_id sentiment  ... numeric_count  upper_counts\n",
              "0   264183816548130816  positive  ...             0             0\n",
              "1   263405084770172928  negative  ...             0             0\n",
              "2   262163168678248449  negative  ...             0             1\n",
              "3   264249301910310912  negative  ...             0             0\n",
              "4   262682041215234048   neutral  ...             0             0\n",
              "5   264229576773861376   neutral  ...             0             1\n",
              "6   264105751826538497  positive  ...             0             1\n",
              "7   264094586689953794  negative  ...             0             1\n",
              "8   212392538055778304   neutral  ...             0             0\n",
              "9   254941790757601280  negative  ...             0             1\n",
              "10  264169034155696130   neutral  ...             0             1\n",
              "11  263192091700654080   neutral  ...             0             3\n",
              "12  263398998675693568  positive  ...             0             3\n",
              "13  263650552167157762  positive  ...             0             0\n",
              "14  260200142420992000   neutral  ...             0             0\n",
              "\n",
              "[15 rows x 11 columns]"
            ]
          },
          "metadata": {
            "tags": []
          },
          "execution_count": 166
        }
      ]
    },
    {
      "cell_type": "code",
      "metadata": {
        "id": "Te842BEYyDni"
      },
      "source": [
        "from textblob import TextBlob"
      ],
      "execution_count": null,
      "outputs": []
    },
    {
      "cell_type": "code",
      "metadata": {
        "id": "amYG9iv5yLia",
        "colab": {
          "base_uri": "https://localhost:8080/",
          "height": 212
        },
        "outputId": "6b7e4b4e-05d1-414e-a367-1252d228471e"
      },
      "source": [
        "# #TAKES 50MINS\n",
        "# type(x)\n",
        "# df['tweet_text']=df.iloc[:,2].apply(lambda x: str(TextBlob(x).correct()))\n",
        "tb = Blobber(analyzer=NaiveBayesAnalyzer())\n",
        "abc=df_new.iloc[0:10,2].apply(lambda x: str(TextBlob(x).correct()))\n",
        "abc"
      ],
      "execution_count": null,
      "outputs": [
        {
          "output_type": "execute_result",
          "data": {
            "text/plain": [
              "0                    gas house hit sum chapel hill sit\n",
              "1                    the walcott situ raft johnny deal\n",
              "2     sum gap fancy hate nick diaz canst wait february\n",
              "3    italian general say israel iron dome canst dea...\n",
              "4    tehranuc mon amour drama try establish tie mil...\n",
              "5                  sat movie harry on christmas ohlawd\n",
              "6    j dollar main rival team poland hopefully succ...\n",
              "7    talk acts satusuc decide want college apply co...\n",
              "8         happy valentine treading its february june s\n",
              "9    superbowl dallas dallas about win superbowl qu...\n",
              "Name: tweet_text, dtype: object"
            ]
          },
          "metadata": {
            "tags": []
          },
          "execution_count": 167
        }
      ]
    },
    {
      "cell_type": "markdown",
      "metadata": {
        "id": "PPjXOdsZiwJW"
      },
      "source": [
        ""
      ]
    },
    {
      "cell_type": "code",
      "metadata": {
        "id": "LVR9XmdElUoX",
        "colab": {
          "base_uri": "https://localhost:8080/",
          "height": 517
        },
        "outputId": "1123fb2d-1e93-4c02-dee8-7e96674fc50c"
      },
      "source": [
        "df.head()"
      ],
      "execution_count": null,
      "outputs": [
        {
          "output_type": "execute_result",
          "data": {
            "text/html": [
              "<div>\n",
              "<style scoped>\n",
              "    .dataframe tbody tr th:only-of-type {\n",
              "        vertical-align: middle;\n",
              "    }\n",
              "\n",
              "    .dataframe tbody tr th {\n",
              "        vertical-align: top;\n",
              "    }\n",
              "\n",
              "    .dataframe thead th {\n",
              "        text-align: right;\n",
              "    }\n",
              "</style>\n",
              "<table border=\"1\" class=\"dataframe\">\n",
              "  <thead>\n",
              "    <tr style=\"text-align: right;\">\n",
              "      <th></th>\n",
              "      <th>tweet_id</th>\n",
              "      <th>sentiment</th>\n",
              "      <th>tweet_text</th>\n",
              "      <th>word_counts</th>\n",
              "      <th>char_counts</th>\n",
              "      <th>avg_word_len</th>\n",
              "      <th>stop_words_len</th>\n",
              "      <th>hashtags_count</th>\n",
              "      <th>mentions_ count</th>\n",
              "      <th>numeric_count</th>\n",
              "      <th>upper_counts</th>\n",
              "    </tr>\n",
              "  </thead>\n",
              "  <tbody>\n",
              "    <tr>\n",
              "      <th>0</th>\n",
              "      <td>264183816548130816</td>\n",
              "      <td>positive</td>\n",
              "      <td>gas house hit ium chapel hill sit</td>\n",
              "      <td>14</td>\n",
              "      <td>70</td>\n",
              "      <td>4.071429</td>\n",
              "      <td>4</td>\n",
              "      <td>0</td>\n",
              "      <td>0</td>\n",
              "      <td>0</td>\n",
              "      <td>0</td>\n",
              "    </tr>\n",
              "    <tr>\n",
              "      <th>1</th>\n",
              "      <td>263405084770172928</td>\n",
              "      <td>negative</td>\n",
              "      <td>theo walcott shituc rafa johnny deal</td>\n",
              "      <td>14</td>\n",
              "      <td>81</td>\n",
              "      <td>4.857143</td>\n",
              "      <td>6</td>\n",
              "      <td>0</td>\n",
              "      <td>0</td>\n",
              "      <td>0</td>\n",
              "      <td>0</td>\n",
              "    </tr>\n",
              "    <tr>\n",
              "      <th>2</th>\n",
              "      <td>262163168678248449</td>\n",
              "      <td>negative</td>\n",
              "      <td>ium gsp fanuc hate nick diaz canut wait february</td>\n",
              "      <td>16</td>\n",
              "      <td>90</td>\n",
              "      <td>4.687500</td>\n",
              "      <td>7</td>\n",
              "      <td>0</td>\n",
              "      <td>0</td>\n",
              "      <td>0</td>\n",
              "      <td>1</td>\n",
              "    </tr>\n",
              "    <tr>\n",
              "      <th>3</th>\n",
              "      <td>264249301910310912</td>\n",
              "      <td>negative</td>\n",
              "      <td>iranian general say israelus iron dome canut d...</td>\n",
              "      <td>22</td>\n",
              "      <td>135</td>\n",
              "      <td>5.181818</td>\n",
              "      <td>7</td>\n",
              "      <td>0</td>\n",
              "      <td>0</td>\n",
              "      <td>0</td>\n",
              "      <td>0</td>\n",
              "    </tr>\n",
              "    <tr>\n",
              "      <th>4</th>\n",
              "      <td>262682041215234048</td>\n",
              "      <td>neutral</td>\n",
              "      <td>tehranuc mon amour obama try establish tie mul...</td>\n",
              "      <td>21</td>\n",
              "      <td>143</td>\n",
              "      <td>5.857143</td>\n",
              "      <td>4</td>\n",
              "      <td>0</td>\n",
              "      <td>1</td>\n",
              "      <td>0</td>\n",
              "      <td>0</td>\n",
              "    </tr>\n",
              "  </tbody>\n",
              "</table>\n",
              "</div>"
            ],
            "text/plain": [
              "             tweet_id sentiment  ... numeric_count  upper_counts\n",
              "0  264183816548130816  positive  ...             0             0\n",
              "1  263405084770172928  negative  ...             0             0\n",
              "2  262163168678248449  negative  ...             0             1\n",
              "3  264249301910310912  negative  ...             0             0\n",
              "4  262682041215234048   neutral  ...             0             0\n",
              "\n",
              "[5 rows x 11 columns]"
            ]
          },
          "metadata": {
            "tags": []
          },
          "execution_count": 58
        }
      ]
    },
    {
      "cell_type": "code",
      "metadata": {
        "id": "z_vZt6Zfywt_",
        "colab": {
          "base_uri": "https://localhost:8080/",
          "height": 551
        },
        "outputId": "15007704-783a-47ed-a0c0-aa1b5fff92b2"
      },
      "source": [
        "df['tweet_text']=df['tweet_text'].apply(lambda x: TextBlob(str(x)).words)\n",
        "df.head()"
      ],
      "execution_count": null,
      "outputs": [
        {
          "output_type": "execute_result",
          "data": {
            "text/html": [
              "<div>\n",
              "<style scoped>\n",
              "    .dataframe tbody tr th:only-of-type {\n",
              "        vertical-align: middle;\n",
              "    }\n",
              "\n",
              "    .dataframe tbody tr th {\n",
              "        vertical-align: top;\n",
              "    }\n",
              "\n",
              "    .dataframe thead th {\n",
              "        text-align: right;\n",
              "    }\n",
              "</style>\n",
              "<table border=\"1\" class=\"dataframe\">\n",
              "  <thead>\n",
              "    <tr style=\"text-align: right;\">\n",
              "      <th></th>\n",
              "      <th>tweet_id</th>\n",
              "      <th>sentiment</th>\n",
              "      <th>tweet_text</th>\n",
              "      <th>word_counts</th>\n",
              "      <th>char_counts</th>\n",
              "      <th>avg_word_len</th>\n",
              "      <th>stop_words_len</th>\n",
              "      <th>hashtags_count</th>\n",
              "      <th>mentions_ count</th>\n",
              "      <th>numeric_count</th>\n",
              "      <th>upper_counts</th>\n",
              "    </tr>\n",
              "  </thead>\n",
              "  <tbody>\n",
              "    <tr>\n",
              "      <th>0</th>\n",
              "      <td>264183816548130816</td>\n",
              "      <td>positive</td>\n",
              "      <td>[gas, house, hit, ium, chapel, hill, sit]</td>\n",
              "      <td>14</td>\n",
              "      <td>70</td>\n",
              "      <td>4.071429</td>\n",
              "      <td>4</td>\n",
              "      <td>0</td>\n",
              "      <td>0</td>\n",
              "      <td>0</td>\n",
              "      <td>0</td>\n",
              "    </tr>\n",
              "    <tr>\n",
              "      <th>1</th>\n",
              "      <td>263405084770172928</td>\n",
              "      <td>negative</td>\n",
              "      <td>[theo, walcott, shituc, rafa, johnny, deal]</td>\n",
              "      <td>14</td>\n",
              "      <td>81</td>\n",
              "      <td>4.857143</td>\n",
              "      <td>6</td>\n",
              "      <td>0</td>\n",
              "      <td>0</td>\n",
              "      <td>0</td>\n",
              "      <td>0</td>\n",
              "    </tr>\n",
              "    <tr>\n",
              "      <th>2</th>\n",
              "      <td>262163168678248449</td>\n",
              "      <td>negative</td>\n",
              "      <td>[ium, gsp, fanuc, hate, nick, diaz, canut, wai...</td>\n",
              "      <td>16</td>\n",
              "      <td>90</td>\n",
              "      <td>4.687500</td>\n",
              "      <td>7</td>\n",
              "      <td>0</td>\n",
              "      <td>0</td>\n",
              "      <td>0</td>\n",
              "      <td>1</td>\n",
              "    </tr>\n",
              "    <tr>\n",
              "      <th>3</th>\n",
              "      <td>264249301910310912</td>\n",
              "      <td>negative</td>\n",
              "      <td>[iranian, general, say, israelus, iron, dome, ...</td>\n",
              "      <td>22</td>\n",
              "      <td>135</td>\n",
              "      <td>5.181818</td>\n",
              "      <td>7</td>\n",
              "      <td>0</td>\n",
              "      <td>0</td>\n",
              "      <td>0</td>\n",
              "      <td>0</td>\n",
              "    </tr>\n",
              "    <tr>\n",
              "      <th>4</th>\n",
              "      <td>262682041215234048</td>\n",
              "      <td>neutral</td>\n",
              "      <td>[tehranuc, mon, amour, obama, try, establish, ...</td>\n",
              "      <td>21</td>\n",
              "      <td>143</td>\n",
              "      <td>5.857143</td>\n",
              "      <td>4</td>\n",
              "      <td>0</td>\n",
              "      <td>1</td>\n",
              "      <td>0</td>\n",
              "      <td>0</td>\n",
              "    </tr>\n",
              "  </tbody>\n",
              "</table>\n",
              "</div>"
            ],
            "text/plain": [
              "             tweet_id sentiment  ... numeric_count  upper_counts\n",
              "0  264183816548130816  positive  ...             0             0\n",
              "1  263405084770172928  negative  ...             0             0\n",
              "2  262163168678248449  negative  ...             0             1\n",
              "3  264249301910310912  negative  ...             0             0\n",
              "4  262682041215234048   neutral  ...             0             0\n",
              "\n",
              "[5 rows x 11 columns]"
            ]
          },
          "metadata": {
            "tags": []
          },
          "execution_count": 59
        }
      ]
    },
    {
      "cell_type": "code",
      "metadata": {
        "id": "m0SCx_MR09bb",
        "colab": {
          "base_uri": "https://localhost:8080/",
          "height": 34
        },
        "outputId": "8a35d14f-a29a-46b0-c346-20fe9f51923a"
      },
      "source": [
        "df2=df.iloc[:,:]\n",
        "df2.shape\n",
        "\n"
      ],
      "execution_count": null,
      "outputs": [
        {
          "output_type": "execute_result",
          "data": {
            "text/plain": [
              "(21465, 11)"
            ]
          },
          "metadata": {
            "tags": []
          },
          "execution_count": 60
        }
      ]
    },
    {
      "cell_type": "code",
      "metadata": {
        "id": "NBQ7mzmu0L8P"
      },
      "source": [
        "#6mins\n",
        "# def lemmatize_best(x):\n",
        "#   doc = nlp(str(x))\n",
        "#   lem = []\n",
        "#   for token in doc:\n",
        "#     lem.append(token.lemma_)\n",
        "#   STR = ''.join(lem)\n",
        "#   return STR\n",
        "\n",
        "# df['tweet_text']=df['tweet_text'].apply(lambda x: lemmatize_best(x))\n",
        "#df.head()"
      ],
      "execution_count": null,
      "outputs": []
    },
    {
      "cell_type": "markdown",
      "metadata": {
        "id": "YA3mdcH-4NO0"
      },
      "source": [
        "# Advanced text processing and feature extraction"
      ]
    },
    {
      "cell_type": "code",
      "metadata": {
        "id": "R6Uhhbr2jfxB"
      },
      "source": [
        "# #N-Grams\n",
        "# # tb = TextBlob(str(x))\n",
        "# # tb.ngrams(3)\n",
        "# type('tweet_text')\n",
        "# print(df['tweet_text'])"
      ],
      "execution_count": null,
      "outputs": []
    },
    {
      "cell_type": "code",
      "metadata": {
        "id": "FSGcv5STwt-M"
      },
      "source": [
        "# #Bag of Words\n",
        "# from sklearn.feature_extraction.text import CountVectorizer\n",
        "\n",
        "# #tweet_text = np.nan_to_num(tweet_text)\n",
        "\n",
        "\n",
        "# cv = CountVectorizer(ngram_range=(1,1))\n",
        "# x=df2.iloc[:2]\n",
        "# text_counts= cv.fit_transform(x)\n",
        "# #text_counts #sparse matrix\n",
        "# x"
      ],
      "execution_count": null,
      "outputs": []
    },
    {
      "cell_type": "code",
      "metadata": {
        "id": "L_GMiLNl1fLE"
      },
      "source": [
        "# df2.head()"
      ],
      "execution_count": null,
      "outputs": []
    },
    {
      "cell_type": "code",
      "metadata": {
        "id": "Hvt_I-Nw-Z0f"
      },
      "source": [
        "# text_counts.toarray() #to get array"
      ],
      "execution_count": null,
      "outputs": []
    },
    {
      "cell_type": "code",
      "metadata": {
        "id": "rZPwvyMs-b6D"
      },
      "source": [
        "# cv.get_feature_names() #imp names"
      ],
      "execution_count": null,
      "outputs": []
    },
    {
      "cell_type": "code",
      "metadata": {
        "id": "yubzbn8wy1wI"
      },
      "source": [
        "# bow = pd.DataFrame(text_counts.toarray(), columns = cv.get_feature_names())\n",
        "# bow"
      ],
      "execution_count": null,
      "outputs": []
    },
    {
      "cell_type": "code",
      "metadata": {
        "id": "0OTRIELQ10JY"
      },
      "source": [
        "# #Tm Frequency\n",
        "# tf = bow.copy()"
      ],
      "execution_count": null,
      "outputs": []
    },
    {
      "cell_type": "code",
      "metadata": {
        "id": "wXjtaS82ATQJ"
      },
      "source": [
        "# TAKES TIME TO EXECUTE\n",
        "# for index, row in enumerate(tf.iterrows()):\n",
        "#   for col in row[1].index:\n",
        "#     tf.loc[index,col] = tf.loc[index,col]/sum(row[1].values)\n",
        "# tf\n",
        "# #tf is normalised form of bag of words"
      ],
      "execution_count": null,
      "outputs": []
    },
    {
      "cell_type": "code",
      "metadata": {
        "id": "DCES8h1-ETKz"
      },
      "source": [
        "#Inverse Document Frequency\n",
        "\n",
        "# import numpy as np\n",
        "\n",
        "#x_df = pd.DataFrame(df, columns=['words'])  #INSTEAD OF DF X WAS WRITTEN\n",
        "\n",
        "# N = bow.shape[0]\n",
        "\n",
        "# bb = bow.astype('bool')\n",
        "# cols = bb.columns\n",
        "# nz=[]\n",
        "\n",
        "# for col in cols:\n",
        "#   nz.append(bb[col].sum())\n",
        "\n",
        "# idf=[]\n",
        "# for index, col in enumerate(cols):\n",
        "#   idf.append( np.log((N + 1)/(nz[index] + 1)) + 1 )\n",
        "\n",
        "# idf"
      ],
      "execution_count": null,
      "outputs": []
    },
    {
      "cell_type": "code",
      "metadata": {
        "id": "MQxq479XDL7D"
      },
      "source": [
        "#x_df['words'].apply(str)\n",
        "#x_df['words'] = x_df['words'].apply(str)\n",
        "# type(x_df['words'][0])"
      ],
      "execution_count": null,
      "outputs": []
    },
    {
      "cell_type": "code",
      "metadata": {
        "id": "J46lYxY9BLDi",
        "colab": {
          "base_uri": "https://localhost:8080/",
          "height": 551
        },
        "outputId": "a85ffc80-d830-4736-d416-5abe05a0f02b"
      },
      "source": [
        "df2.head()"
      ],
      "execution_count": null,
      "outputs": [
        {
          "output_type": "execute_result",
          "data": {
            "text/html": [
              "<div>\n",
              "<style scoped>\n",
              "    .dataframe tbody tr th:only-of-type {\n",
              "        vertical-align: middle;\n",
              "    }\n",
              "\n",
              "    .dataframe tbody tr th {\n",
              "        vertical-align: top;\n",
              "    }\n",
              "\n",
              "    .dataframe thead th {\n",
              "        text-align: right;\n",
              "    }\n",
              "</style>\n",
              "<table border=\"1\" class=\"dataframe\">\n",
              "  <thead>\n",
              "    <tr style=\"text-align: right;\">\n",
              "      <th></th>\n",
              "      <th>tweet_id</th>\n",
              "      <th>sentiment</th>\n",
              "      <th>tweet_text</th>\n",
              "      <th>word_counts</th>\n",
              "      <th>char_counts</th>\n",
              "      <th>avg_word_len</th>\n",
              "      <th>stop_words_len</th>\n",
              "      <th>hashtags_count</th>\n",
              "      <th>mentions_ count</th>\n",
              "      <th>numeric_count</th>\n",
              "      <th>upper_counts</th>\n",
              "    </tr>\n",
              "  </thead>\n",
              "  <tbody>\n",
              "    <tr>\n",
              "      <th>0</th>\n",
              "      <td>264183816548130816</td>\n",
              "      <td>positive</td>\n",
              "      <td>[gas, house, hit, ium, chapel, hill, sit]</td>\n",
              "      <td>14</td>\n",
              "      <td>70</td>\n",
              "      <td>4.071429</td>\n",
              "      <td>4</td>\n",
              "      <td>0</td>\n",
              "      <td>0</td>\n",
              "      <td>0</td>\n",
              "      <td>0</td>\n",
              "    </tr>\n",
              "    <tr>\n",
              "      <th>1</th>\n",
              "      <td>263405084770172928</td>\n",
              "      <td>negative</td>\n",
              "      <td>[theo, walcott, shituc, rafa, johnny, deal]</td>\n",
              "      <td>14</td>\n",
              "      <td>81</td>\n",
              "      <td>4.857143</td>\n",
              "      <td>6</td>\n",
              "      <td>0</td>\n",
              "      <td>0</td>\n",
              "      <td>0</td>\n",
              "      <td>0</td>\n",
              "    </tr>\n",
              "    <tr>\n",
              "      <th>2</th>\n",
              "      <td>262163168678248449</td>\n",
              "      <td>negative</td>\n",
              "      <td>[ium, gsp, fanuc, hate, nick, diaz, canut, wai...</td>\n",
              "      <td>16</td>\n",
              "      <td>90</td>\n",
              "      <td>4.687500</td>\n",
              "      <td>7</td>\n",
              "      <td>0</td>\n",
              "      <td>0</td>\n",
              "      <td>0</td>\n",
              "      <td>1</td>\n",
              "    </tr>\n",
              "    <tr>\n",
              "      <th>3</th>\n",
              "      <td>264249301910310912</td>\n",
              "      <td>negative</td>\n",
              "      <td>[iranian, general, say, israelus, iron, dome, ...</td>\n",
              "      <td>22</td>\n",
              "      <td>135</td>\n",
              "      <td>5.181818</td>\n",
              "      <td>7</td>\n",
              "      <td>0</td>\n",
              "      <td>0</td>\n",
              "      <td>0</td>\n",
              "      <td>0</td>\n",
              "    </tr>\n",
              "    <tr>\n",
              "      <th>4</th>\n",
              "      <td>262682041215234048</td>\n",
              "      <td>neutral</td>\n",
              "      <td>[tehranuc, mon, amour, obama, try, establish, ...</td>\n",
              "      <td>21</td>\n",
              "      <td>143</td>\n",
              "      <td>5.857143</td>\n",
              "      <td>4</td>\n",
              "      <td>0</td>\n",
              "      <td>1</td>\n",
              "      <td>0</td>\n",
              "      <td>0</td>\n",
              "    </tr>\n",
              "  </tbody>\n",
              "</table>\n",
              "</div>"
            ],
            "text/plain": [
              "             tweet_id sentiment  ... numeric_count  upper_counts\n",
              "0  264183816548130816  positive  ...             0             0\n",
              "1  263405084770172928  negative  ...             0             0\n",
              "2  262163168678248449  negative  ...             0             1\n",
              "3  264249301910310912  negative  ...             0             0\n",
              "4  262682041215234048   neutral  ...             0             0\n",
              "\n",
              "[5 rows x 11 columns]"
            ]
          },
          "metadata": {
            "tags": []
          },
          "execution_count": 72
        }
      ]
    },
    {
      "cell_type": "code",
      "metadata": {
        "id": "9ulvwSH6KVqb"
      },
      "source": [
        "# #TFIDF #direct code\n",
        "from sklearn.feature_extraction.text import TfidfVectorizer\n",
        "# tfidf = TfidfVectorizer()\n",
        "# x_tfidf = tfidf.fit_transform(x_df['words'])\n",
        "# x_tfidf.toarray()"
      ],
      "execution_count": null,
      "outputs": []
    },
    {
      "cell_type": "code",
      "metadata": {
        "id": "ME6y3jGgOBzT"
      },
      "source": [
        "# #Word embeddings\n",
        "# #Spacy 'Word2Vec'\n",
        "# # !python -m spacy download en_core_web_lg\n",
        "# nlp = spacy.load('en_core_web_lg')"
      ],
      "execution_count": null,
      "outputs": []
    },
    {
      "cell_type": "markdown",
      "metadata": {
        "id": "C-Bu4eny4UPu"
      },
      "source": [
        "# ML models for text classification"
      ]
    },
    {
      "cell_type": "code",
      "metadata": {
        "id": "fADLkBVWFLbZ",
        "colab": {
          "base_uri": "https://localhost:8080/",
          "height": 551
        },
        "outputId": "99057f23-9f95-4922-b7be-cc7567181a76"
      },
      "source": [
        "df.head()"
      ],
      "execution_count": null,
      "outputs": [
        {
          "output_type": "execute_result",
          "data": {
            "text/html": [
              "<div>\n",
              "<style scoped>\n",
              "    .dataframe tbody tr th:only-of-type {\n",
              "        vertical-align: middle;\n",
              "    }\n",
              "\n",
              "    .dataframe tbody tr th {\n",
              "        vertical-align: top;\n",
              "    }\n",
              "\n",
              "    .dataframe thead th {\n",
              "        text-align: right;\n",
              "    }\n",
              "</style>\n",
              "<table border=\"1\" class=\"dataframe\">\n",
              "  <thead>\n",
              "    <tr style=\"text-align: right;\">\n",
              "      <th></th>\n",
              "      <th>tweet_id</th>\n",
              "      <th>sentiment</th>\n",
              "      <th>tweet_text</th>\n",
              "      <th>word_counts</th>\n",
              "      <th>char_counts</th>\n",
              "      <th>avg_word_len</th>\n",
              "      <th>stop_words_len</th>\n",
              "      <th>hashtags_count</th>\n",
              "      <th>mentions_ count</th>\n",
              "      <th>numeric_count</th>\n",
              "      <th>upper_counts</th>\n",
              "    </tr>\n",
              "  </thead>\n",
              "  <tbody>\n",
              "    <tr>\n",
              "      <th>0</th>\n",
              "      <td>264183816548130816</td>\n",
              "      <td>positive</td>\n",
              "      <td>[gas, house, hit, ium, chapel, hill, sit]</td>\n",
              "      <td>14</td>\n",
              "      <td>70</td>\n",
              "      <td>4.071429</td>\n",
              "      <td>4</td>\n",
              "      <td>0</td>\n",
              "      <td>0</td>\n",
              "      <td>0</td>\n",
              "      <td>0</td>\n",
              "    </tr>\n",
              "    <tr>\n",
              "      <th>1</th>\n",
              "      <td>263405084770172928</td>\n",
              "      <td>negative</td>\n",
              "      <td>[theo, walcott, shituc, rafa, johnny, deal]</td>\n",
              "      <td>14</td>\n",
              "      <td>81</td>\n",
              "      <td>4.857143</td>\n",
              "      <td>6</td>\n",
              "      <td>0</td>\n",
              "      <td>0</td>\n",
              "      <td>0</td>\n",
              "      <td>0</td>\n",
              "    </tr>\n",
              "    <tr>\n",
              "      <th>2</th>\n",
              "      <td>262163168678248449</td>\n",
              "      <td>negative</td>\n",
              "      <td>[ium, gsp, fanuc, hate, nick, diaz, canut, wai...</td>\n",
              "      <td>16</td>\n",
              "      <td>90</td>\n",
              "      <td>4.687500</td>\n",
              "      <td>7</td>\n",
              "      <td>0</td>\n",
              "      <td>0</td>\n",
              "      <td>0</td>\n",
              "      <td>1</td>\n",
              "    </tr>\n",
              "    <tr>\n",
              "      <th>3</th>\n",
              "      <td>264249301910310912</td>\n",
              "      <td>negative</td>\n",
              "      <td>[iranian, general, say, israelus, iron, dome, ...</td>\n",
              "      <td>22</td>\n",
              "      <td>135</td>\n",
              "      <td>5.181818</td>\n",
              "      <td>7</td>\n",
              "      <td>0</td>\n",
              "      <td>0</td>\n",
              "      <td>0</td>\n",
              "      <td>0</td>\n",
              "    </tr>\n",
              "    <tr>\n",
              "      <th>4</th>\n",
              "      <td>262682041215234048</td>\n",
              "      <td>neutral</td>\n",
              "      <td>[tehranuc, mon, amour, obama, try, establish, ...</td>\n",
              "      <td>21</td>\n",
              "      <td>143</td>\n",
              "      <td>5.857143</td>\n",
              "      <td>4</td>\n",
              "      <td>0</td>\n",
              "      <td>1</td>\n",
              "      <td>0</td>\n",
              "      <td>0</td>\n",
              "    </tr>\n",
              "  </tbody>\n",
              "</table>\n",
              "</div>"
            ],
            "text/plain": [
              "             tweet_id sentiment  ... numeric_count  upper_counts\n",
              "0  264183816548130816  positive  ...             0             0\n",
              "1  263405084770172928  negative  ...             0             0\n",
              "2  262163168678248449  negative  ...             0             1\n",
              "3  264249301910310912  negative  ...             0             0\n",
              "4  262682041215234048   neutral  ...             0             0\n",
              "\n",
              "[5 rows x 11 columns]"
            ]
          },
          "metadata": {
            "tags": []
          },
          "execution_count": 75
        }
      ]
    },
    {
      "cell_type": "code",
      "metadata": {
        "id": "K4NygJkW4Xda",
        "colab": {
          "base_uri": "https://localhost:8080/",
          "height": 34
        },
        "outputId": "d6fb21bf-07d7-47a9-edce-a624b7939abf"
      },
      "source": [
        "df.shape      "
      ],
      "execution_count": null,
      "outputs": [
        {
          "output_type": "execute_result",
          "data": {
            "text/plain": [
              "(21465, 11)"
            ]
          },
          "metadata": {
            "tags": []
          },
          "execution_count": 76
        }
      ]
    },
    {
      "cell_type": "code",
      "metadata": {
        "id": "iMRcrSa-4XqM"
      },
      "source": [
        "df0=df[df['sentiment']=='positive']"
      ],
      "execution_count": null,
      "outputs": []
    },
    {
      "cell_type": "code",
      "metadata": {
        "id": "aAqhifqXGCY1"
      },
      "source": [
        "# df.iloc[0:4000,1]=4\n",
        "df2=df[df['sentiment']=='neutral']"
      ],
      "execution_count": null,
      "outputs": []
    },
    {
      "cell_type": "code",
      "metadata": {
        "id": "8jzboLPL4XuX"
      },
      "source": [
        "df4=df[df['sentiment']=='negative']"
      ],
      "execution_count": null,
      "outputs": []
    },
    {
      "cell_type": "code",
      "metadata": {
        "id": "rHgJZ7WZ7Z16"
      },
      "source": [
        "dfr=df0.append(df4)\n",
        "dfr=dfr.append(df2)"
      ],
      "execution_count": null,
      "outputs": []
    },
    {
      "cell_type": "code",
      "metadata": {
        "id": "7mvpHiBR73wj",
        "colab": {
          "base_uri": "https://localhost:8080/",
          "height": 34
        },
        "outputId": "cfce07b8-4e92-442a-9be5-cefdbb399217"
      },
      "source": [
        "dfr.columns\n",
        "dfr.size"
      ],
      "execution_count": null,
      "outputs": [
        {
          "output_type": "execute_result",
          "data": {
            "text/plain": [
              "236115"
            ]
          },
          "metadata": {
            "tags": []
          },
          "execution_count": 81
        }
      ]
    },
    {
      "cell_type": "code",
      "metadata": {
        "id": "K6bVx4PjImQz",
        "colab": {
          "base_uri": "https://localhost:8080/",
          "height": 567
        },
        "outputId": "1bc7bf57-a23c-49d6-af1c-6b3916bd2cc2"
      },
      "source": [
        "dfr['tweet_text'] = dfr['tweet_text'].apply(lambda x: \" \".join(x)) \n",
        "dfr.head()\n"
      ],
      "execution_count": null,
      "outputs": [
        {
          "output_type": "execute_result",
          "data": {
            "text/html": [
              "<div>\n",
              "<style scoped>\n",
              "    .dataframe tbody tr th:only-of-type {\n",
              "        vertical-align: middle;\n",
              "    }\n",
              "\n",
              "    .dataframe tbody tr th {\n",
              "        vertical-align: top;\n",
              "    }\n",
              "\n",
              "    .dataframe thead th {\n",
              "        text-align: right;\n",
              "    }\n",
              "</style>\n",
              "<table border=\"1\" class=\"dataframe\">\n",
              "  <thead>\n",
              "    <tr style=\"text-align: right;\">\n",
              "      <th></th>\n",
              "      <th>tweet_id</th>\n",
              "      <th>sentiment</th>\n",
              "      <th>tweet_text</th>\n",
              "      <th>word_counts</th>\n",
              "      <th>char_counts</th>\n",
              "      <th>avg_word_len</th>\n",
              "      <th>stop_words_len</th>\n",
              "      <th>hashtags_count</th>\n",
              "      <th>mentions_ count</th>\n",
              "      <th>numeric_count</th>\n",
              "      <th>upper_counts</th>\n",
              "    </tr>\n",
              "  </thead>\n",
              "  <tbody>\n",
              "    <tr>\n",
              "      <th>0</th>\n",
              "      <td>264183816548130816</td>\n",
              "      <td>positive</td>\n",
              "      <td>gas house hit ium chapel hill sit</td>\n",
              "      <td>14</td>\n",
              "      <td>70</td>\n",
              "      <td>4.071429</td>\n",
              "      <td>4</td>\n",
              "      <td>0</td>\n",
              "      <td>0</td>\n",
              "      <td>0</td>\n",
              "      <td>0</td>\n",
              "    </tr>\n",
              "    <tr>\n",
              "      <th>6</th>\n",
              "      <td>264105751826538497</td>\n",
              "      <td>positive</td>\n",
              "      <td>j davlar main rival team poland hopefully succ...</td>\n",
              "      <td>24</td>\n",
              "      <td>127</td>\n",
              "      <td>4.333333</td>\n",
              "      <td>10</td>\n",
              "      <td>0</td>\n",
              "      <td>0</td>\n",
              "      <td>0</td>\n",
              "      <td>1</td>\n",
              "    </tr>\n",
              "    <tr>\n",
              "      <th>12</th>\n",
              "      <td>263398998675693568</td>\n",
              "      <td>positive</td>\n",
              "      <td>oluoch victorotti kunjand sridevius comeback u...</td>\n",
              "      <td>20</td>\n",
              "      <td>129</td>\n",
              "      <td>5.500000</td>\n",
              "      <td>5</td>\n",
              "      <td>0</td>\n",
              "      <td>3</td>\n",
              "      <td>0</td>\n",
              "      <td>3</td>\n",
              "    </tr>\n",
              "    <tr>\n",
              "      <th>13</th>\n",
              "      <td>263650552167157762</td>\n",
              "      <td>positive</td>\n",
              "      <td>grader kory excite touchdown today victor cruzlol</td>\n",
              "      <td>19</td>\n",
              "      <td>120</td>\n",
              "      <td>5.368421</td>\n",
              "      <td>7</td>\n",
              "      <td>0</td>\n",
              "      <td>0</td>\n",
              "      <td>0</td>\n",
              "      <td>0</td>\n",
              "    </tr>\n",
              "    <tr>\n",
              "      <th>15</th>\n",
              "      <td>264087629237202944</td>\n",
              "      <td>positive</td>\n",
              "      <td>msshelahy do want pop yep chapel hill wednesda...</td>\n",
              "      <td>27</td>\n",
              "      <td>140</td>\n",
              "      <td>4.222222</td>\n",
              "      <td>11</td>\n",
              "      <td>0</td>\n",
              "      <td>1</td>\n",
              "      <td>0</td>\n",
              "      <td>1</td>\n",
              "    </tr>\n",
              "  </tbody>\n",
              "</table>\n",
              "</div>"
            ],
            "text/plain": [
              "              tweet_id sentiment  ... numeric_count  upper_counts\n",
              "0   264183816548130816  positive  ...             0             0\n",
              "6   264105751826538497  positive  ...             0             1\n",
              "12  263398998675693568  positive  ...             0             3\n",
              "13  263650552167157762  positive  ...             0             0\n",
              "15  264087629237202944  positive  ...             0             1\n",
              "\n",
              "[5 rows x 11 columns]"
            ]
          },
          "metadata": {
            "tags": []
          },
          "execution_count": 82
        }
      ]
    },
    {
      "cell_type": "code",
      "metadata": {
        "id": "PzHbV64Z76Bq"
      },
      "source": [
        "dfr_feat=dfr.drop(labels=['tweet_text', 'sentiment'], axis=1)\n"
      ],
      "execution_count": null,
      "outputs": []
    },
    {
      "cell_type": "code",
      "metadata": {
        "id": "3o-_pQzNJAEb",
        "colab": {
          "base_uri": "https://localhost:8080/",
          "height": 197
        },
        "outputId": "cf8d8a29-e385-4aed-d0bc-39f7ab37bab5"
      },
      "source": [
        "dfr_feat.head()"
      ],
      "execution_count": null,
      "outputs": [
        {
          "output_type": "execute_result",
          "data": {
            "text/html": [
              "<div>\n",
              "<style scoped>\n",
              "    .dataframe tbody tr th:only-of-type {\n",
              "        vertical-align: middle;\n",
              "    }\n",
              "\n",
              "    .dataframe tbody tr th {\n",
              "        vertical-align: top;\n",
              "    }\n",
              "\n",
              "    .dataframe thead th {\n",
              "        text-align: right;\n",
              "    }\n",
              "</style>\n",
              "<table border=\"1\" class=\"dataframe\">\n",
              "  <thead>\n",
              "    <tr style=\"text-align: right;\">\n",
              "      <th></th>\n",
              "      <th>tweet_id</th>\n",
              "      <th>word_counts</th>\n",
              "      <th>char_counts</th>\n",
              "      <th>avg_word_len</th>\n",
              "      <th>stop_words_len</th>\n",
              "      <th>hashtags_count</th>\n",
              "      <th>mentions_ count</th>\n",
              "      <th>numeric_count</th>\n",
              "      <th>upper_counts</th>\n",
              "    </tr>\n",
              "  </thead>\n",
              "  <tbody>\n",
              "    <tr>\n",
              "      <th>0</th>\n",
              "      <td>264183816548130816</td>\n",
              "      <td>14</td>\n",
              "      <td>70</td>\n",
              "      <td>4.071429</td>\n",
              "      <td>4</td>\n",
              "      <td>0</td>\n",
              "      <td>0</td>\n",
              "      <td>0</td>\n",
              "      <td>0</td>\n",
              "    </tr>\n",
              "    <tr>\n",
              "      <th>6</th>\n",
              "      <td>264105751826538497</td>\n",
              "      <td>24</td>\n",
              "      <td>127</td>\n",
              "      <td>4.333333</td>\n",
              "      <td>10</td>\n",
              "      <td>0</td>\n",
              "      <td>0</td>\n",
              "      <td>0</td>\n",
              "      <td>1</td>\n",
              "    </tr>\n",
              "    <tr>\n",
              "      <th>12</th>\n",
              "      <td>263398998675693568</td>\n",
              "      <td>20</td>\n",
              "      <td>129</td>\n",
              "      <td>5.500000</td>\n",
              "      <td>5</td>\n",
              "      <td>0</td>\n",
              "      <td>3</td>\n",
              "      <td>0</td>\n",
              "      <td>3</td>\n",
              "    </tr>\n",
              "    <tr>\n",
              "      <th>13</th>\n",
              "      <td>263650552167157762</td>\n",
              "      <td>19</td>\n",
              "      <td>120</td>\n",
              "      <td>5.368421</td>\n",
              "      <td>7</td>\n",
              "      <td>0</td>\n",
              "      <td>0</td>\n",
              "      <td>0</td>\n",
              "      <td>0</td>\n",
              "    </tr>\n",
              "    <tr>\n",
              "      <th>15</th>\n",
              "      <td>264087629237202944</td>\n",
              "      <td>27</td>\n",
              "      <td>140</td>\n",
              "      <td>4.222222</td>\n",
              "      <td>11</td>\n",
              "      <td>0</td>\n",
              "      <td>1</td>\n",
              "      <td>0</td>\n",
              "      <td>1</td>\n",
              "    </tr>\n",
              "  </tbody>\n",
              "</table>\n",
              "</div>"
            ],
            "text/plain": [
              "              tweet_id  word_counts  ...  numeric_count  upper_counts\n",
              "0   264183816548130816           14  ...              0             0\n",
              "6   264105751826538497           24  ...              0             1\n",
              "12  263398998675693568           20  ...              0             3\n",
              "13  263650552167157762           19  ...              0             0\n",
              "15  264087629237202944           27  ...              0             1\n",
              "\n",
              "[5 rows x 9 columns]"
            ]
          },
          "metadata": {
            "tags": []
          },
          "execution_count": 84
        }
      ]
    },
    {
      "cell_type": "code",
      "metadata": {
        "id": "fOXphH1c8lZl"
      },
      "source": [
        "y=dfr['sentiment']"
      ],
      "execution_count": null,
      "outputs": []
    },
    {
      "cell_type": "code",
      "metadata": {
        "id": "VPRLGgJx8w4W"
      },
      "source": [
        "# from sklearn.feature_extraction.text import CountVectorizer"
      ],
      "execution_count": null,
      "outputs": []
    },
    {
      "cell_type": "code",
      "metadata": {
        "id": "SNcvjl1E8xO3"
      },
      "source": [
        "# cv=CountVectorizer()\n",
        "# dfr['tweet_text'] = np.nan_to_num(dfr['tweet_text'])\n",
        "# text_counts=cv.fit_transform(str(dfr['tweet_text']))\n",
        "# # type"
      ],
      "execution_count": null,
      "outputs": []
    },
    {
      "cell_type": "code",
      "metadata": {
        "id": "0Q68ynOy8xZ4"
      },
      "source": [
        "# #text.counts.toarray()\n",
        "# dfr_bog=pd.DataFrame(text_counts.toarray(), columns=cv.get_feature_names())\n",
        "# dfr_bog.head()"
      ],
      "execution_count": null,
      "outputs": []
    },
    {
      "cell_type": "code",
      "metadata": {
        "id": "Dg8OAyE68xc-"
      },
      "source": [
        "from sklearn.linear_model import SGDClassifier\n",
        "from sklearn.linear_model import LogisticRegression\n",
        "from sklearn.linear_model import LogisticRegressionCV\n",
        "from sklearn.svm import LinearSVC\n",
        "from sklearn.ensemble import RandomForestClassifier\n",
        "\n",
        "from sklearn.model_selection import train_test_split\n",
        "from sklearn.metrics import confusion_matrix, accuracy_score\n",
        "from sklearn.preprocessing import MinMaxScaler\n",
        "from sklearn.preprocessing import MaxAbsScaler "
      ],
      "execution_count": null,
      "outputs": []
    },
    {
      "cell_type": "code",
      "metadata": {
        "id": "STyEpES68xfx"
      },
      "source": [
        "sgd=SGDClassifier(n_jobs=-1, random_state=42, max_iter=200)\n",
        "lgr=LogisticRegression(random_state=42, max_iter=200)\n",
        "lgrcv=LogisticRegressionCV(cv=2, random_state=42, max_iter=1000)\n",
        "svm=LinearSVC(random_state=42, max_iter=200)\n",
        "rfc=RandomForestClassifier(random_state=42, n_jobs=-1, n_estimators=200)"
      ],
      "execution_count": null,
      "outputs": []
    },
    {
      "cell_type": "code",
      "metadata": {
        "id": "owcKrH2rBhQV"
      },
      "source": [
        "clf={'SGD': sgd, 'LR': lgr, 'LGR-CV': lgrcv, 'SVM': svm, 'RFC':rfc}"
      ],
      "execution_count": null,
      "outputs": []
    },
    {
      "cell_type": "code",
      "metadata": {
        "id": "tujk4zUaBiAF"
      },
      "source": [
        "def classify(X, y):\n",
        "  #scaler=MinMaxScaler(feature_range=(0,1))\n",
        "  scaler=MaxAbsScaler()\n",
        "  X=scaler.fit_transform(X)\n",
        "\n",
        "  X_train, X_test, y_train, y_test= train_test_split(X,y, test_size=0.2, random_state=42, stratify=y)\n",
        "\n",
        "\n",
        "  for key in clf.keys():\n",
        "    clf[key].fit(X_train, y_train)\n",
        "\n",
        "    y_pred=clf[key].predict(X_test)\n",
        "    ac=accuracy_score(y_test, y_pred)\n",
        "\n",
        "    print(key, \"---------->\", ac)"
      ],
      "execution_count": null,
      "outputs": []
    },
    {
      "cell_type": "code",
      "metadata": {
        "id": "8w7V9QDaBiFK"
      },
      "source": [
        "# # %%time\n",
        "# classify(dfr_bog, y)\n"
      ],
      "execution_count": null,
      "outputs": []
    },
    {
      "cell_type": "code",
      "metadata": {
        "id": "RXo1fk0CHC42"
      },
      "source": [
        "# dfr_feat.head()"
      ],
      "execution_count": null,
      "outputs": []
    },
    {
      "cell_type": "code",
      "metadata": {
        "id": "nzUwUHQsHKpJ",
        "colab": {
          "base_uri": "https://localhost:8080/",
          "height": 141
        },
        "outputId": "6e748f39-fcf1-469b-defc-532b13218fa3"
      },
      "source": [
        "%%time\n",
        "classify(dfr_feat, y)"
      ],
      "execution_count": null,
      "outputs": [
        {
          "output_type": "stream",
          "text": [
            "SGD ----------> 0.45236431399953414\n",
            "LR ----------> 0.46820405310971347\n",
            "LGR-CV ----------> 0.46727230375029116\n",
            "SVM ----------> 0.4670393664104356\n",
            "RFC ----------> 0.4630794316328907\n",
            "CPU times: user 20.8 s, sys: 3.33 s, total: 24.2 s\n",
            "Wall time: 16.1 s\n"
          ],
          "name": "stdout"
        }
      ]
    },
    {
      "cell_type": "code",
      "metadata": {
        "id": "4UTxOYqdKZH7",
        "colab": {
          "base_uri": "https://localhost:8080/",
          "height": 197
        },
        "outputId": "60526429-8e72-4384-937b-92b7ed1938d0"
      },
      "source": [
        "dfr_feat.head()"
      ],
      "execution_count": null,
      "outputs": [
        {
          "output_type": "execute_result",
          "data": {
            "text/html": [
              "<div>\n",
              "<style scoped>\n",
              "    .dataframe tbody tr th:only-of-type {\n",
              "        vertical-align: middle;\n",
              "    }\n",
              "\n",
              "    .dataframe tbody tr th {\n",
              "        vertical-align: top;\n",
              "    }\n",
              "\n",
              "    .dataframe thead th {\n",
              "        text-align: right;\n",
              "    }\n",
              "</style>\n",
              "<table border=\"1\" class=\"dataframe\">\n",
              "  <thead>\n",
              "    <tr style=\"text-align: right;\">\n",
              "      <th></th>\n",
              "      <th>tweet_id</th>\n",
              "      <th>word_counts</th>\n",
              "      <th>char_counts</th>\n",
              "      <th>avg_word_len</th>\n",
              "      <th>stop_words_len</th>\n",
              "      <th>hashtags_count</th>\n",
              "      <th>mentions_ count</th>\n",
              "      <th>numeric_count</th>\n",
              "      <th>upper_counts</th>\n",
              "    </tr>\n",
              "  </thead>\n",
              "  <tbody>\n",
              "    <tr>\n",
              "      <th>0</th>\n",
              "      <td>264183816548130816</td>\n",
              "      <td>14</td>\n",
              "      <td>70</td>\n",
              "      <td>4.071429</td>\n",
              "      <td>4</td>\n",
              "      <td>0</td>\n",
              "      <td>0</td>\n",
              "      <td>0</td>\n",
              "      <td>0</td>\n",
              "    </tr>\n",
              "    <tr>\n",
              "      <th>6</th>\n",
              "      <td>264105751826538497</td>\n",
              "      <td>24</td>\n",
              "      <td>127</td>\n",
              "      <td>4.333333</td>\n",
              "      <td>10</td>\n",
              "      <td>0</td>\n",
              "      <td>0</td>\n",
              "      <td>0</td>\n",
              "      <td>1</td>\n",
              "    </tr>\n",
              "    <tr>\n",
              "      <th>12</th>\n",
              "      <td>263398998675693568</td>\n",
              "      <td>20</td>\n",
              "      <td>129</td>\n",
              "      <td>5.500000</td>\n",
              "      <td>5</td>\n",
              "      <td>0</td>\n",
              "      <td>3</td>\n",
              "      <td>0</td>\n",
              "      <td>3</td>\n",
              "    </tr>\n",
              "    <tr>\n",
              "      <th>13</th>\n",
              "      <td>263650552167157762</td>\n",
              "      <td>19</td>\n",
              "      <td>120</td>\n",
              "      <td>5.368421</td>\n",
              "      <td>7</td>\n",
              "      <td>0</td>\n",
              "      <td>0</td>\n",
              "      <td>0</td>\n",
              "      <td>0</td>\n",
              "    </tr>\n",
              "    <tr>\n",
              "      <th>15</th>\n",
              "      <td>264087629237202944</td>\n",
              "      <td>27</td>\n",
              "      <td>140</td>\n",
              "      <td>4.222222</td>\n",
              "      <td>11</td>\n",
              "      <td>0</td>\n",
              "      <td>1</td>\n",
              "      <td>0</td>\n",
              "      <td>1</td>\n",
              "    </tr>\n",
              "  </tbody>\n",
              "</table>\n",
              "</div>"
            ],
            "text/plain": [
              "              tweet_id  word_counts  ...  numeric_count  upper_counts\n",
              "0   264183816548130816           14  ...              0             0\n",
              "6   264105751826538497           24  ...              0             1\n",
              "12  263398998675693568           20  ...              0             3\n",
              "13  263650552167157762           19  ...              0             0\n",
              "15  264087629237202944           27  ...              0             1\n",
              "\n",
              "[5 rows x 9 columns]"
            ]
          },
          "metadata": {
            "tags": []
          },
          "execution_count": 96
        }
      ]
    },
    {
      "cell_type": "code",
      "metadata": {
        "id": "IxTWXow1KbdU"
      },
      "source": [
        "# dfr_bog.head()"
      ],
      "execution_count": null,
      "outputs": []
    },
    {
      "cell_type": "code",
      "metadata": {
        "id": "1xd95cv3HS4G"
      },
      "source": [
        "# X=dfr_feat.join(dfr_bog)"
      ],
      "execution_count": null,
      "outputs": []
    },
    {
      "cell_type": "code",
      "metadata": {
        "id": "F1j14L1WHx9B"
      },
      "source": [
        "# # %%time\n",
        "# X = np.nan_to_num(X)\n",
        "# #X.replace({\"?\": np.nan, \"--\": np.nan}, inplace = True)\n",
        "# classify(X, y)\n",
        "# #X.describe"
      ],
      "execution_count": null,
      "outputs": []
    },
    {
      "cell_type": "code",
      "metadata": {
        "id": "YiWkVJ1xH99_",
        "colab": {
          "base_uri": "https://localhost:8080/",
          "height": 34
        },
        "outputId": "f94e8731-398e-494a-bfe5-676c32c1926c"
      },
      "source": [
        "from sklearn.feature_extraction.text import TfidfVectorizer\n",
        "\n",
        "tfidf = TfidfVectorizer()\n",
        "\n",
        "X=tfidf.fit_transform(dfr['tweet_text'])\n",
        "\n",
        "X.shape\n",
        "\n"
      ],
      "execution_count": null,
      "outputs": [
        {
          "output_type": "execute_result",
          "data": {
            "text/plain": [
              "(21465, 36048)"
            ]
          },
          "metadata": {
            "tags": []
          },
          "execution_count": 100
        }
      ]
    },
    {
      "cell_type": "code",
      "metadata": {
        "id": "5iH2M9kXPpp0",
        "colab": {
          "base_uri": "https://localhost:8080/",
          "height": 52
        },
        "outputId": "4970ad97-9053-4107-e60a-e4c60ca62b94"
      },
      "source": [
        "%%time\n",
        "#classify(X, y)"
      ],
      "execution_count": null,
      "outputs": [
        {
          "output_type": "stream",
          "text": [
            "CPU times: user 4 µs, sys: 0 ns, total: 4 µs\n",
            "Wall time: 7.39 µs\n"
          ],
          "name": "stdout"
        }
      ]
    },
    {
      "cell_type": "code",
      "metadata": {
        "id": "nLboLXT_6Po6",
        "colab": {
          "base_uri": "https://localhost:8080/",
          "height": 105
        },
        "outputId": "f7614488-33b8-4c3e-90cf-6923172e4b28"
      },
      "source": [
        "#scaler=MinMaxScaler(feature_range=(0,1))\n",
        "scaler=MaxAbsScaler()\n",
        "X=scaler.fit_transform(X)\n",
        "\n",
        "X_train, X_test, y_train, y_test= train_test_split(X,y, test_size=0.2, random_state=42, stratify=y)\n",
        "\n",
        "\n",
        "for key in clf.keys():\n",
        "  clf[key].fit(X_train, y_train)\n",
        "\n",
        "  y_pred=clf[key].predict(X_test)\n",
        "  ac=accuracy_score(y_test, y_pred)\n",
        "\n",
        "  print(key, \"---------->\", ac)"
      ],
      "execution_count": null,
      "outputs": [
        {
          "output_type": "stream",
          "text": [
            "SGD ----------> 0.6030747728860937\n",
            "LR ----------> 0.6077335196832052\n",
            "LGR-CV ----------> 0.618914511996273\n",
            "SVM ----------> 0.5828092243186582\n",
            "RFC ----------> 0.6186815746564174\n"
          ],
          "name": "stdout"
        }
      ]
    },
    {
      "cell_type": "code",
      "metadata": {
        "id": "K4lIKlLtJpp2"
      },
      "source": [
        "# #8 mins\n",
        "# def get_vec(x):\n",
        "#   doc = nlp(x)\n",
        "#   return doc.vector.reshape(1, -1)\n",
        "\n",
        "\n",
        "# # %%time\n",
        "# dfr['vec']=dfr['tweet_text'].apply(lambda x: get_vec(x))\n",
        "\n",
        "# X=np.concatenate(dfr['vec'].to_numpy(), axis=0)\n",
        "# classify(pd.DataFrame(X), y)"
      ],
      "execution_count": null,
      "outputs": []
    },
    {
      "cell_type": "code",
      "metadata": {
        "id": "Nfmhhtk97mlB"
      },
      "source": [
        "# X.shape"
      ],
      "execution_count": null,
      "outputs": []
    },
    {
      "cell_type": "code",
      "metadata": {
        "id": "nEnXTTMX-OXy"
      },
      "source": [
        "# df.head()"
      ],
      "execution_count": null,
      "outputs": []
    },
    {
      "cell_type": "code",
      "metadata": {
        "id": "TiEpj0XAJptB"
      },
      "source": [
        "# def predict_w2v(x):\n",
        "#   for key in clf.keys():\n",
        "#     y_pred=clf[key].predict(get_vec(x)\n",
        "#     print(key, \"---->\", y_pred)"
      ],
      "execution_count": null,
      "outputs": []
    },
    {
      "cell_type": "code",
      "metadata": {
        "id": "e8Tc7AbNqaKN"
      },
      "source": [
        "# df['tweet_text'].head()"
      ],
      "execution_count": null,
      "outputs": []
    },
    {
      "cell_type": "code",
      "metadata": {
        "id": "6ubQxCZf7HKW"
      },
      "source": [
        "\n",
        "# predict_w2v(str(df['tweet_text'][1]))"
      ],
      "execution_count": null,
      "outputs": []
    },
    {
      "cell_type": "code",
      "metadata": {
        "id": "18xPWY_S7zpB"
      },
      "source": [
        "# predict_w2v(str(X))"
      ],
      "execution_count": null,
      "outputs": []
    },
    {
      "cell_type": "code",
      "metadata": {
        "id": "X3vndJTh7uuW"
      },
      "source": [
        "df_test['word_counts']=df_test['tweet_text'].apply(lambda x: len(str(x).split()))"
      ],
      "execution_count": null,
      "outputs": []
    },
    {
      "cell_type": "code",
      "metadata": {
        "id": "SguFNZu2_lQ5",
        "colab": {
          "base_uri": "https://localhost:8080/",
          "height": 197
        },
        "outputId": "09b55144-a5bf-4f60-c3f2-a384c1760f6f"
      },
      "source": [
        "df_test.head()"
      ],
      "execution_count": null,
      "outputs": [
        {
          "output_type": "execute_result",
          "data": {
            "text/html": [
              "<div>\n",
              "<style scoped>\n",
              "    .dataframe tbody tr th:only-of-type {\n",
              "        vertical-align: middle;\n",
              "    }\n",
              "\n",
              "    .dataframe tbody tr th {\n",
              "        vertical-align: top;\n",
              "    }\n",
              "\n",
              "    .dataframe thead th {\n",
              "        text-align: right;\n",
              "    }\n",
              "</style>\n",
              "<table border=\"1\" class=\"dataframe\">\n",
              "  <thead>\n",
              "    <tr style=\"text-align: right;\">\n",
              "      <th></th>\n",
              "      <th>tweet_id</th>\n",
              "      <th>tweet_text</th>\n",
              "      <th>word_counts</th>\n",
              "    </tr>\n",
              "  </thead>\n",
              "  <tbody>\n",
              "    <tr>\n",
              "      <th>0</th>\n",
              "      <td>264238274963451904</td>\n",
              "      <td>@jjuueellzz down in the Atlantic city, ventnor...</td>\n",
              "      <td>22</td>\n",
              "    </tr>\n",
              "    <tr>\n",
              "      <th>1</th>\n",
              "      <td>218775148495515649</td>\n",
              "      <td>Musical awareness: Great Big Beautiful Tomorro...</td>\n",
              "      <td>15</td>\n",
              "    </tr>\n",
              "    <tr>\n",
              "      <th>2</th>\n",
              "      <td>258965201766998017</td>\n",
              "      <td>On Radio786 100.4fm 7:10 Fri Oct 19 Labour ana...</td>\n",
              "      <td>22</td>\n",
              "    </tr>\n",
              "    <tr>\n",
              "      <th>3</th>\n",
              "      <td>262926411352903682</td>\n",
              "      <td>Kapan sih lo ngebuktiin,jan ngomong doang Susa...</td>\n",
              "      <td>21</td>\n",
              "    </tr>\n",
              "    <tr>\n",
              "      <th>4</th>\n",
              "      <td>171874368908050432</td>\n",
              "      <td>Excuse the connectivity of this live stream, f...</td>\n",
              "      <td>21</td>\n",
              "    </tr>\n",
              "  </tbody>\n",
              "</table>\n",
              "</div>"
            ],
            "text/plain": [
              "             tweet_id  ... word_counts\n",
              "0  264238274963451904  ...          22\n",
              "1  218775148495515649  ...          15\n",
              "2  258965201766998017  ...          22\n",
              "3  262926411352903682  ...          21\n",
              "4  171874368908050432  ...          21\n",
              "\n",
              "[5 rows x 3 columns]"
            ]
          },
          "metadata": {
            "tags": []
          },
          "execution_count": 111
        }
      ]
    },
    {
      "cell_type": "code",
      "metadata": {
        "id": "bicuB3rZ8Fep",
        "colab": {
          "base_uri": "https://localhost:8080/",
          "height": 197
        },
        "outputId": "b439684e-cb48-4bd0-b039-e4abc8058df0"
      },
      "source": [
        "df_test['char_counts']=df_test['tweet_text'].apply(lambda x: len(x))\n",
        "df_test.head()"
      ],
      "execution_count": null,
      "outputs": [
        {
          "output_type": "execute_result",
          "data": {
            "text/html": [
              "<div>\n",
              "<style scoped>\n",
              "    .dataframe tbody tr th:only-of-type {\n",
              "        vertical-align: middle;\n",
              "    }\n",
              "\n",
              "    .dataframe tbody tr th {\n",
              "        vertical-align: top;\n",
              "    }\n",
              "\n",
              "    .dataframe thead th {\n",
              "        text-align: right;\n",
              "    }\n",
              "</style>\n",
              "<table border=\"1\" class=\"dataframe\">\n",
              "  <thead>\n",
              "    <tr style=\"text-align: right;\">\n",
              "      <th></th>\n",
              "      <th>tweet_id</th>\n",
              "      <th>tweet_text</th>\n",
              "      <th>word_counts</th>\n",
              "      <th>char_counts</th>\n",
              "    </tr>\n",
              "  </thead>\n",
              "  <tbody>\n",
              "    <tr>\n",
              "      <th>0</th>\n",
              "      <td>264238274963451904</td>\n",
              "      <td>@jjuueellzz down in the Atlantic city, ventnor...</td>\n",
              "      <td>22</td>\n",
              "      <td>140</td>\n",
              "    </tr>\n",
              "    <tr>\n",
              "      <th>1</th>\n",
              "      <td>218775148495515649</td>\n",
              "      <td>Musical awareness: Great Big Beautiful Tomorro...</td>\n",
              "      <td>15</td>\n",
              "      <td>87</td>\n",
              "    </tr>\n",
              "    <tr>\n",
              "      <th>2</th>\n",
              "      <td>258965201766998017</td>\n",
              "      <td>On Radio786 100.4fm 7:10 Fri Oct 19 Labour ana...</td>\n",
              "      <td>22</td>\n",
              "      <td>140</td>\n",
              "    </tr>\n",
              "    <tr>\n",
              "      <th>3</th>\n",
              "      <td>262926411352903682</td>\n",
              "      <td>Kapan sih lo ngebuktiin,jan ngomong doang Susa...</td>\n",
              "      <td>21</td>\n",
              "      <td>140</td>\n",
              "    </tr>\n",
              "    <tr>\n",
              "      <th>4</th>\n",
              "      <td>171874368908050432</td>\n",
              "      <td>Excuse the connectivity of this live stream, f...</td>\n",
              "      <td>21</td>\n",
              "      <td>135</td>\n",
              "    </tr>\n",
              "  </tbody>\n",
              "</table>\n",
              "</div>"
            ],
            "text/plain": [
              "             tweet_id  ... char_counts\n",
              "0  264238274963451904  ...         140\n",
              "1  218775148495515649  ...          87\n",
              "2  258965201766998017  ...         140\n",
              "3  262926411352903682  ...         140\n",
              "4  171874368908050432  ...         135\n",
              "\n",
              "[5 rows x 4 columns]"
            ]
          },
          "metadata": {
            "tags": []
          },
          "execution_count": 112
        }
      ]
    },
    {
      "cell_type": "code",
      "metadata": {
        "id": "vYxr6S7h8HKA",
        "colab": {
          "base_uri": "https://localhost:8080/",
          "height": 197
        },
        "outputId": "839cc33b-72f8-49ed-fac1-8aa40931280d"
      },
      "source": [
        "df_test['avg_word_len']=df_test['tweet_text'].apply(lambda x: get_avg_word_len(x))\n",
        "df_test.head()"
      ],
      "execution_count": null,
      "outputs": [
        {
          "output_type": "execute_result",
          "data": {
            "text/html": [
              "<div>\n",
              "<style scoped>\n",
              "    .dataframe tbody tr th:only-of-type {\n",
              "        vertical-align: middle;\n",
              "    }\n",
              "\n",
              "    .dataframe tbody tr th {\n",
              "        vertical-align: top;\n",
              "    }\n",
              "\n",
              "    .dataframe thead th {\n",
              "        text-align: right;\n",
              "    }\n",
              "</style>\n",
              "<table border=\"1\" class=\"dataframe\">\n",
              "  <thead>\n",
              "    <tr style=\"text-align: right;\">\n",
              "      <th></th>\n",
              "      <th>tweet_id</th>\n",
              "      <th>tweet_text</th>\n",
              "      <th>word_counts</th>\n",
              "      <th>char_counts</th>\n",
              "      <th>avg_word_len</th>\n",
              "    </tr>\n",
              "  </thead>\n",
              "  <tbody>\n",
              "    <tr>\n",
              "      <th>0</th>\n",
              "      <td>264238274963451904</td>\n",
              "      <td>@jjuueellzz down in the Atlantic city, ventnor...</td>\n",
              "      <td>22</td>\n",
              "      <td>140</td>\n",
              "      <td>5.409091</td>\n",
              "    </tr>\n",
              "    <tr>\n",
              "      <th>1</th>\n",
              "      <td>218775148495515649</td>\n",
              "      <td>Musical awareness: Great Big Beautiful Tomorro...</td>\n",
              "      <td>15</td>\n",
              "      <td>87</td>\n",
              "      <td>4.866667</td>\n",
              "    </tr>\n",
              "    <tr>\n",
              "      <th>2</th>\n",
              "      <td>258965201766998017</td>\n",
              "      <td>On Radio786 100.4fm 7:10 Fri Oct 19 Labour ana...</td>\n",
              "      <td>22</td>\n",
              "      <td>140</td>\n",
              "      <td>5.409091</td>\n",
              "    </tr>\n",
              "    <tr>\n",
              "      <th>3</th>\n",
              "      <td>262926411352903682</td>\n",
              "      <td>Kapan sih lo ngebuktiin,jan ngomong doang Susa...</td>\n",
              "      <td>21</td>\n",
              "      <td>140</td>\n",
              "      <td>5.714286</td>\n",
              "    </tr>\n",
              "    <tr>\n",
              "      <th>4</th>\n",
              "      <td>171874368908050432</td>\n",
              "      <td>Excuse the connectivity of this live stream, f...</td>\n",
              "      <td>21</td>\n",
              "      <td>135</td>\n",
              "      <td>5.476190</td>\n",
              "    </tr>\n",
              "  </tbody>\n",
              "</table>\n",
              "</div>"
            ],
            "text/plain": [
              "             tweet_id  ... avg_word_len\n",
              "0  264238274963451904  ...     5.409091\n",
              "1  218775148495515649  ...     4.866667\n",
              "2  258965201766998017  ...     5.409091\n",
              "3  262926411352903682  ...     5.714286\n",
              "4  171874368908050432  ...     5.476190\n",
              "\n",
              "[5 rows x 5 columns]"
            ]
          },
          "metadata": {
            "tags": []
          },
          "execution_count": 113
        }
      ]
    },
    {
      "cell_type": "code",
      "metadata": {
        "id": "6b1fJIB88JW9",
        "colab": {
          "base_uri": "https://localhost:8080/",
          "height": 197
        },
        "outputId": "1f2de649-4ed0-4ee8-9f81-9f20fdf3a06b"
      },
      "source": [
        "df_test['stop_words_len'] =df_test['tweet_text'].apply(lambda x: len([t for t in x.split() if t in STOP_WORDS]))\n",
        "df_test.head()"
      ],
      "execution_count": null,
      "outputs": [
        {
          "output_type": "execute_result",
          "data": {
            "text/html": [
              "<div>\n",
              "<style scoped>\n",
              "    .dataframe tbody tr th:only-of-type {\n",
              "        vertical-align: middle;\n",
              "    }\n",
              "\n",
              "    .dataframe tbody tr th {\n",
              "        vertical-align: top;\n",
              "    }\n",
              "\n",
              "    .dataframe thead th {\n",
              "        text-align: right;\n",
              "    }\n",
              "</style>\n",
              "<table border=\"1\" class=\"dataframe\">\n",
              "  <thead>\n",
              "    <tr style=\"text-align: right;\">\n",
              "      <th></th>\n",
              "      <th>tweet_id</th>\n",
              "      <th>tweet_text</th>\n",
              "      <th>word_counts</th>\n",
              "      <th>char_counts</th>\n",
              "      <th>avg_word_len</th>\n",
              "      <th>stop_words_len</th>\n",
              "    </tr>\n",
              "  </thead>\n",
              "  <tbody>\n",
              "    <tr>\n",
              "      <th>0</th>\n",
              "      <td>264238274963451904</td>\n",
              "      <td>@jjuueellzz down in the Atlantic city, ventnor...</td>\n",
              "      <td>22</td>\n",
              "      <td>140</td>\n",
              "      <td>5.409091</td>\n",
              "      <td>9</td>\n",
              "    </tr>\n",
              "    <tr>\n",
              "      <th>1</th>\n",
              "      <td>218775148495515649</td>\n",
              "      <td>Musical awareness: Great Big Beautiful Tomorro...</td>\n",
              "      <td>15</td>\n",
              "      <td>87</td>\n",
              "      <td>4.866667</td>\n",
              "      <td>6</td>\n",
              "    </tr>\n",
              "    <tr>\n",
              "      <th>2</th>\n",
              "      <td>258965201766998017</td>\n",
              "      <td>On Radio786 100.4fm 7:10 Fri Oct 19 Labour ana...</td>\n",
              "      <td>22</td>\n",
              "      <td>140</td>\n",
              "      <td>5.409091</td>\n",
              "      <td>5</td>\n",
              "    </tr>\n",
              "    <tr>\n",
              "      <th>3</th>\n",
              "      <td>262926411352903682</td>\n",
              "      <td>Kapan sih lo ngebuktiin,jan ngomong doang Susa...</td>\n",
              "      <td>21</td>\n",
              "      <td>140</td>\n",
              "      <td>5.714286</td>\n",
              "      <td>3</td>\n",
              "    </tr>\n",
              "    <tr>\n",
              "      <th>4</th>\n",
              "      <td>171874368908050432</td>\n",
              "      <td>Excuse the connectivity of this live stream, f...</td>\n",
              "      <td>21</td>\n",
              "      <td>135</td>\n",
              "      <td>5.476190</td>\n",
              "      <td>9</td>\n",
              "    </tr>\n",
              "  </tbody>\n",
              "</table>\n",
              "</div>"
            ],
            "text/plain": [
              "             tweet_id  ... stop_words_len\n",
              "0  264238274963451904  ...              9\n",
              "1  218775148495515649  ...              6\n",
              "2  258965201766998017  ...              5\n",
              "3  262926411352903682  ...              3\n",
              "4  171874368908050432  ...              9\n",
              "\n",
              "[5 rows x 6 columns]"
            ]
          },
          "metadata": {
            "tags": []
          },
          "execution_count": 114
        }
      ]
    },
    {
      "cell_type": "code",
      "metadata": {
        "id": "DY6wZj3q8M_K",
        "colab": {
          "base_uri": "https://localhost:8080/",
          "height": 297
        },
        "outputId": "14f32bfa-93c6-4549-a339-e712ac474027"
      },
      "source": [
        "df_test['hashtags_count'] = df_test['tweet_text'].apply(lambda x: len([t for t in x.split() if t.startswith('#')]))\n",
        "df_test['mentions_ count'] = df_test['tweet_text'].apply(lambda x: len([t for t in x.split() if t.startswith('@')]))\n",
        "df_test.head()"
      ],
      "execution_count": null,
      "outputs": [
        {
          "output_type": "execute_result",
          "data": {
            "text/html": [
              "<div>\n",
              "<style scoped>\n",
              "    .dataframe tbody tr th:only-of-type {\n",
              "        vertical-align: middle;\n",
              "    }\n",
              "\n",
              "    .dataframe tbody tr th {\n",
              "        vertical-align: top;\n",
              "    }\n",
              "\n",
              "    .dataframe thead th {\n",
              "        text-align: right;\n",
              "    }\n",
              "</style>\n",
              "<table border=\"1\" class=\"dataframe\">\n",
              "  <thead>\n",
              "    <tr style=\"text-align: right;\">\n",
              "      <th></th>\n",
              "      <th>tweet_id</th>\n",
              "      <th>tweet_text</th>\n",
              "      <th>word_counts</th>\n",
              "      <th>char_counts</th>\n",
              "      <th>avg_word_len</th>\n",
              "      <th>stop_words_len</th>\n",
              "      <th>hashtags_count</th>\n",
              "      <th>mentions_ count</th>\n",
              "    </tr>\n",
              "  </thead>\n",
              "  <tbody>\n",
              "    <tr>\n",
              "      <th>0</th>\n",
              "      <td>264238274963451904</td>\n",
              "      <td>@jjuueellzz down in the Atlantic city, ventnor...</td>\n",
              "      <td>22</td>\n",
              "      <td>140</td>\n",
              "      <td>5.409091</td>\n",
              "      <td>9</td>\n",
              "      <td>0</td>\n",
              "      <td>1</td>\n",
              "    </tr>\n",
              "    <tr>\n",
              "      <th>1</th>\n",
              "      <td>218775148495515649</td>\n",
              "      <td>Musical awareness: Great Big Beautiful Tomorro...</td>\n",
              "      <td>15</td>\n",
              "      <td>87</td>\n",
              "      <td>4.866667</td>\n",
              "      <td>6</td>\n",
              "      <td>0</td>\n",
              "      <td>0</td>\n",
              "    </tr>\n",
              "    <tr>\n",
              "      <th>2</th>\n",
              "      <td>258965201766998017</td>\n",
              "      <td>On Radio786 100.4fm 7:10 Fri Oct 19 Labour ana...</td>\n",
              "      <td>22</td>\n",
              "      <td>140</td>\n",
              "      <td>5.409091</td>\n",
              "      <td>5</td>\n",
              "      <td>0</td>\n",
              "      <td>0</td>\n",
              "    </tr>\n",
              "    <tr>\n",
              "      <th>3</th>\n",
              "      <td>262926411352903682</td>\n",
              "      <td>Kapan sih lo ngebuktiin,jan ngomong doang Susa...</td>\n",
              "      <td>21</td>\n",
              "      <td>140</td>\n",
              "      <td>5.714286</td>\n",
              "      <td>3</td>\n",
              "      <td>0</td>\n",
              "      <td>0</td>\n",
              "    </tr>\n",
              "    <tr>\n",
              "      <th>4</th>\n",
              "      <td>171874368908050432</td>\n",
              "      <td>Excuse the connectivity of this live stream, f...</td>\n",
              "      <td>21</td>\n",
              "      <td>135</td>\n",
              "      <td>5.476190</td>\n",
              "      <td>9</td>\n",
              "      <td>1</td>\n",
              "      <td>0</td>\n",
              "    </tr>\n",
              "  </tbody>\n",
              "</table>\n",
              "</div>"
            ],
            "text/plain": [
              "             tweet_id  ... mentions_ count\n",
              "0  264238274963451904  ...               1\n",
              "1  218775148495515649  ...               0\n",
              "2  258965201766998017  ...               0\n",
              "3  262926411352903682  ...               0\n",
              "4  171874368908050432  ...               0\n",
              "\n",
              "[5 rows x 8 columns]"
            ]
          },
          "metadata": {
            "tags": []
          },
          "execution_count": 115
        }
      ]
    },
    {
      "cell_type": "code",
      "metadata": {
        "id": "NGIEbhsu8PMV",
        "colab": {
          "base_uri": "https://localhost:8080/",
          "height": 347
        },
        "outputId": "1cb78033-6a0b-46a5-b239-b806ff8069f5"
      },
      "source": [
        "df_test['numeric_count']=df_test['tweet_text'].apply(lambda x: len([t for t in x.split() if t.isdigit()]))\n",
        "df_test.head()"
      ],
      "execution_count": null,
      "outputs": [
        {
          "output_type": "execute_result",
          "data": {
            "text/html": [
              "<div>\n",
              "<style scoped>\n",
              "    .dataframe tbody tr th:only-of-type {\n",
              "        vertical-align: middle;\n",
              "    }\n",
              "\n",
              "    .dataframe tbody tr th {\n",
              "        vertical-align: top;\n",
              "    }\n",
              "\n",
              "    .dataframe thead th {\n",
              "        text-align: right;\n",
              "    }\n",
              "</style>\n",
              "<table border=\"1\" class=\"dataframe\">\n",
              "  <thead>\n",
              "    <tr style=\"text-align: right;\">\n",
              "      <th></th>\n",
              "      <th>tweet_id</th>\n",
              "      <th>tweet_text</th>\n",
              "      <th>word_counts</th>\n",
              "      <th>char_counts</th>\n",
              "      <th>avg_word_len</th>\n",
              "      <th>stop_words_len</th>\n",
              "      <th>hashtags_count</th>\n",
              "      <th>mentions_ count</th>\n",
              "      <th>numeric_count</th>\n",
              "    </tr>\n",
              "  </thead>\n",
              "  <tbody>\n",
              "    <tr>\n",
              "      <th>0</th>\n",
              "      <td>264238274963451904</td>\n",
              "      <td>@jjuueellzz down in the Atlantic city, ventnor...</td>\n",
              "      <td>22</td>\n",
              "      <td>140</td>\n",
              "      <td>5.409091</td>\n",
              "      <td>9</td>\n",
              "      <td>0</td>\n",
              "      <td>1</td>\n",
              "      <td>0</td>\n",
              "    </tr>\n",
              "    <tr>\n",
              "      <th>1</th>\n",
              "      <td>218775148495515649</td>\n",
              "      <td>Musical awareness: Great Big Beautiful Tomorro...</td>\n",
              "      <td>15</td>\n",
              "      <td>87</td>\n",
              "      <td>4.866667</td>\n",
              "      <td>6</td>\n",
              "      <td>0</td>\n",
              "      <td>0</td>\n",
              "      <td>0</td>\n",
              "    </tr>\n",
              "    <tr>\n",
              "      <th>2</th>\n",
              "      <td>258965201766998017</td>\n",
              "      <td>On Radio786 100.4fm 7:10 Fri Oct 19 Labour ana...</td>\n",
              "      <td>22</td>\n",
              "      <td>140</td>\n",
              "      <td>5.409091</td>\n",
              "      <td>5</td>\n",
              "      <td>0</td>\n",
              "      <td>0</td>\n",
              "      <td>1</td>\n",
              "    </tr>\n",
              "    <tr>\n",
              "      <th>3</th>\n",
              "      <td>262926411352903682</td>\n",
              "      <td>Kapan sih lo ngebuktiin,jan ngomong doang Susa...</td>\n",
              "      <td>21</td>\n",
              "      <td>140</td>\n",
              "      <td>5.714286</td>\n",
              "      <td>3</td>\n",
              "      <td>0</td>\n",
              "      <td>0</td>\n",
              "      <td>0</td>\n",
              "    </tr>\n",
              "    <tr>\n",
              "      <th>4</th>\n",
              "      <td>171874368908050432</td>\n",
              "      <td>Excuse the connectivity of this live stream, f...</td>\n",
              "      <td>21</td>\n",
              "      <td>135</td>\n",
              "      <td>5.476190</td>\n",
              "      <td>9</td>\n",
              "      <td>1</td>\n",
              "      <td>0</td>\n",
              "      <td>0</td>\n",
              "    </tr>\n",
              "  </tbody>\n",
              "</table>\n",
              "</div>"
            ],
            "text/plain": [
              "             tweet_id  ... numeric_count\n",
              "0  264238274963451904  ...             0\n",
              "1  218775148495515649  ...             0\n",
              "2  258965201766998017  ...             1\n",
              "3  262926411352903682  ...             0\n",
              "4  171874368908050432  ...             0\n",
              "\n",
              "[5 rows x 9 columns]"
            ]
          },
          "metadata": {
            "tags": []
          },
          "execution_count": 116
        }
      ]
    },
    {
      "cell_type": "code",
      "metadata": {
        "id": "PmdOT9458Qvo",
        "colab": {
          "base_uri": "https://localhost:8080/",
          "height": 501
        },
        "outputId": "1a204051-a20a-4606-a208-00a5225bd6c2"
      },
      "source": [
        "df_test['upper_counts'] = df_test['tweet_text'].apply(lambda x: len([t for t in x.split() if t.isupper()]))\n",
        "df_test.head()"
      ],
      "execution_count": null,
      "outputs": [
        {
          "output_type": "execute_result",
          "data": {
            "text/html": [
              "<div>\n",
              "<style scoped>\n",
              "    .dataframe tbody tr th:only-of-type {\n",
              "        vertical-align: middle;\n",
              "    }\n",
              "\n",
              "    .dataframe tbody tr th {\n",
              "        vertical-align: top;\n",
              "    }\n",
              "\n",
              "    .dataframe thead th {\n",
              "        text-align: right;\n",
              "    }\n",
              "</style>\n",
              "<table border=\"1\" class=\"dataframe\">\n",
              "  <thead>\n",
              "    <tr style=\"text-align: right;\">\n",
              "      <th></th>\n",
              "      <th>tweet_id</th>\n",
              "      <th>tweet_text</th>\n",
              "      <th>word_counts</th>\n",
              "      <th>char_counts</th>\n",
              "      <th>avg_word_len</th>\n",
              "      <th>stop_words_len</th>\n",
              "      <th>hashtags_count</th>\n",
              "      <th>mentions_ count</th>\n",
              "      <th>numeric_count</th>\n",
              "      <th>upper_counts</th>\n",
              "    </tr>\n",
              "  </thead>\n",
              "  <tbody>\n",
              "    <tr>\n",
              "      <th>0</th>\n",
              "      <td>264238274963451904</td>\n",
              "      <td>@jjuueellzz down in the Atlantic city, ventnor...</td>\n",
              "      <td>22</td>\n",
              "      <td>140</td>\n",
              "      <td>5.409091</td>\n",
              "      <td>9</td>\n",
              "      <td>0</td>\n",
              "      <td>1</td>\n",
              "      <td>0</td>\n",
              "      <td>0</td>\n",
              "    </tr>\n",
              "    <tr>\n",
              "      <th>1</th>\n",
              "      <td>218775148495515649</td>\n",
              "      <td>Musical awareness: Great Big Beautiful Tomorro...</td>\n",
              "      <td>15</td>\n",
              "      <td>87</td>\n",
              "      <td>4.866667</td>\n",
              "      <td>6</td>\n",
              "      <td>0</td>\n",
              "      <td>0</td>\n",
              "      <td>0</td>\n",
              "      <td>0</td>\n",
              "    </tr>\n",
              "    <tr>\n",
              "      <th>2</th>\n",
              "      <td>258965201766998017</td>\n",
              "      <td>On Radio786 100.4fm 7:10 Fri Oct 19 Labour ana...</td>\n",
              "      <td>22</td>\n",
              "      <td>140</td>\n",
              "      <td>5.409091</td>\n",
              "      <td>5</td>\n",
              "      <td>0</td>\n",
              "      <td>0</td>\n",
              "      <td>1</td>\n",
              "      <td>0</td>\n",
              "    </tr>\n",
              "    <tr>\n",
              "      <th>3</th>\n",
              "      <td>262926411352903682</td>\n",
              "      <td>Kapan sih lo ngebuktiin,jan ngomong doang Susa...</td>\n",
              "      <td>21</td>\n",
              "      <td>140</td>\n",
              "      <td>5.714286</td>\n",
              "      <td>3</td>\n",
              "      <td>0</td>\n",
              "      <td>0</td>\n",
              "      <td>0</td>\n",
              "      <td>0</td>\n",
              "    </tr>\n",
              "    <tr>\n",
              "      <th>4</th>\n",
              "      <td>171874368908050432</td>\n",
              "      <td>Excuse the connectivity of this live stream, f...</td>\n",
              "      <td>21</td>\n",
              "      <td>135</td>\n",
              "      <td>5.476190</td>\n",
              "      <td>9</td>\n",
              "      <td>1</td>\n",
              "      <td>0</td>\n",
              "      <td>0</td>\n",
              "      <td>1</td>\n",
              "    </tr>\n",
              "  </tbody>\n",
              "</table>\n",
              "</div>"
            ],
            "text/plain": [
              "             tweet_id  ... upper_counts\n",
              "0  264238274963451904  ...            0\n",
              "1  218775148495515649  ...            0\n",
              "2  258965201766998017  ...            0\n",
              "3  262926411352903682  ...            0\n",
              "4  171874368908050432  ...            1\n",
              "\n",
              "[5 rows x 10 columns]"
            ]
          },
          "metadata": {
            "tags": []
          },
          "execution_count": 117
        }
      ]
    },
    {
      "cell_type": "code",
      "metadata": {
        "id": "VYOrcvs38RJS",
        "colab": {
          "base_uri": "https://localhost:8080/",
          "height": 501
        },
        "outputId": "da1ebd60-5657-4994-9cf4-b8d609c320cd"
      },
      "source": [
        "df_test['tweet_text'] = df_test['tweet_text'].apply(lambda x: x.lower())\n",
        "df_test.head()"
      ],
      "execution_count": null,
      "outputs": [
        {
          "output_type": "execute_result",
          "data": {
            "text/html": [
              "<div>\n",
              "<style scoped>\n",
              "    .dataframe tbody tr th:only-of-type {\n",
              "        vertical-align: middle;\n",
              "    }\n",
              "\n",
              "    .dataframe tbody tr th {\n",
              "        vertical-align: top;\n",
              "    }\n",
              "\n",
              "    .dataframe thead th {\n",
              "        text-align: right;\n",
              "    }\n",
              "</style>\n",
              "<table border=\"1\" class=\"dataframe\">\n",
              "  <thead>\n",
              "    <tr style=\"text-align: right;\">\n",
              "      <th></th>\n",
              "      <th>tweet_id</th>\n",
              "      <th>tweet_text</th>\n",
              "      <th>word_counts</th>\n",
              "      <th>char_counts</th>\n",
              "      <th>avg_word_len</th>\n",
              "      <th>stop_words_len</th>\n",
              "      <th>hashtags_count</th>\n",
              "      <th>mentions_ count</th>\n",
              "      <th>numeric_count</th>\n",
              "      <th>upper_counts</th>\n",
              "    </tr>\n",
              "  </thead>\n",
              "  <tbody>\n",
              "    <tr>\n",
              "      <th>0</th>\n",
              "      <td>264238274963451904</td>\n",
              "      <td>@jjuueellzz down in the atlantic city, ventnor...</td>\n",
              "      <td>22</td>\n",
              "      <td>140</td>\n",
              "      <td>5.409091</td>\n",
              "      <td>9</td>\n",
              "      <td>0</td>\n",
              "      <td>1</td>\n",
              "      <td>0</td>\n",
              "      <td>0</td>\n",
              "    </tr>\n",
              "    <tr>\n",
              "      <th>1</th>\n",
              "      <td>218775148495515649</td>\n",
              "      <td>musical awareness: great big beautiful tomorro...</td>\n",
              "      <td>15</td>\n",
              "      <td>87</td>\n",
              "      <td>4.866667</td>\n",
              "      <td>6</td>\n",
              "      <td>0</td>\n",
              "      <td>0</td>\n",
              "      <td>0</td>\n",
              "      <td>0</td>\n",
              "    </tr>\n",
              "    <tr>\n",
              "      <th>2</th>\n",
              "      <td>258965201766998017</td>\n",
              "      <td>on radio786 100.4fm 7:10 fri oct 19 labour ana...</td>\n",
              "      <td>22</td>\n",
              "      <td>140</td>\n",
              "      <td>5.409091</td>\n",
              "      <td>5</td>\n",
              "      <td>0</td>\n",
              "      <td>0</td>\n",
              "      <td>1</td>\n",
              "      <td>0</td>\n",
              "    </tr>\n",
              "    <tr>\n",
              "      <th>3</th>\n",
              "      <td>262926411352903682</td>\n",
              "      <td>kapan sih lo ngebuktiin,jan ngomong doang susa...</td>\n",
              "      <td>21</td>\n",
              "      <td>140</td>\n",
              "      <td>5.714286</td>\n",
              "      <td>3</td>\n",
              "      <td>0</td>\n",
              "      <td>0</td>\n",
              "      <td>0</td>\n",
              "      <td>0</td>\n",
              "    </tr>\n",
              "    <tr>\n",
              "      <th>4</th>\n",
              "      <td>171874368908050432</td>\n",
              "      <td>excuse the connectivity of this live stream, f...</td>\n",
              "      <td>21</td>\n",
              "      <td>135</td>\n",
              "      <td>5.476190</td>\n",
              "      <td>9</td>\n",
              "      <td>1</td>\n",
              "      <td>0</td>\n",
              "      <td>0</td>\n",
              "      <td>1</td>\n",
              "    </tr>\n",
              "  </tbody>\n",
              "</table>\n",
              "</div>"
            ],
            "text/plain": [
              "             tweet_id  ... upper_counts\n",
              "0  264238274963451904  ...            0\n",
              "1  218775148495515649  ...            0\n",
              "2  258965201766998017  ...            0\n",
              "3  262926411352903682  ...            0\n",
              "4  171874368908050432  ...            1\n",
              "\n",
              "[5 rows x 10 columns]"
            ]
          },
          "metadata": {
            "tags": []
          },
          "execution_count": 118
        }
      ]
    },
    {
      "cell_type": "code",
      "metadata": {
        "id": "ZtrPGmqP8TPX",
        "colab": {
          "base_uri": "https://localhost:8080/",
          "height": 501
        },
        "outputId": "bba4cb4b-de59-4c26-9650-f8bacf25cde2"
      },
      "source": [
        "df_test['tweet_text'] = df_test['tweet_text'].apply(lambda x: re.sub(r'([a-zA-Z0-9+._-]+@[a-zA-Z0-9+._-]+\\.[a-zA-Z0-9+._-]+)',\"\",x))\n",
        "df_test.head()"
      ],
      "execution_count": null,
      "outputs": [
        {
          "output_type": "execute_result",
          "data": {
            "text/html": [
              "<div>\n",
              "<style scoped>\n",
              "    .dataframe tbody tr th:only-of-type {\n",
              "        vertical-align: middle;\n",
              "    }\n",
              "\n",
              "    .dataframe tbody tr th {\n",
              "        vertical-align: top;\n",
              "    }\n",
              "\n",
              "    .dataframe thead th {\n",
              "        text-align: right;\n",
              "    }\n",
              "</style>\n",
              "<table border=\"1\" class=\"dataframe\">\n",
              "  <thead>\n",
              "    <tr style=\"text-align: right;\">\n",
              "      <th></th>\n",
              "      <th>tweet_id</th>\n",
              "      <th>tweet_text</th>\n",
              "      <th>word_counts</th>\n",
              "      <th>char_counts</th>\n",
              "      <th>avg_word_len</th>\n",
              "      <th>stop_words_len</th>\n",
              "      <th>hashtags_count</th>\n",
              "      <th>mentions_ count</th>\n",
              "      <th>numeric_count</th>\n",
              "      <th>upper_counts</th>\n",
              "    </tr>\n",
              "  </thead>\n",
              "  <tbody>\n",
              "    <tr>\n",
              "      <th>0</th>\n",
              "      <td>264238274963451904</td>\n",
              "      <td>@jjuueellzz down in the atlantic city, ventnor...</td>\n",
              "      <td>22</td>\n",
              "      <td>140</td>\n",
              "      <td>5.409091</td>\n",
              "      <td>9</td>\n",
              "      <td>0</td>\n",
              "      <td>1</td>\n",
              "      <td>0</td>\n",
              "      <td>0</td>\n",
              "    </tr>\n",
              "    <tr>\n",
              "      <th>1</th>\n",
              "      <td>218775148495515649</td>\n",
              "      <td>musical awareness: great big beautiful tomorro...</td>\n",
              "      <td>15</td>\n",
              "      <td>87</td>\n",
              "      <td>4.866667</td>\n",
              "      <td>6</td>\n",
              "      <td>0</td>\n",
              "      <td>0</td>\n",
              "      <td>0</td>\n",
              "      <td>0</td>\n",
              "    </tr>\n",
              "    <tr>\n",
              "      <th>2</th>\n",
              "      <td>258965201766998017</td>\n",
              "      <td>on radio786 100.4fm 7:10 fri oct 19 labour ana...</td>\n",
              "      <td>22</td>\n",
              "      <td>140</td>\n",
              "      <td>5.409091</td>\n",
              "      <td>5</td>\n",
              "      <td>0</td>\n",
              "      <td>0</td>\n",
              "      <td>1</td>\n",
              "      <td>0</td>\n",
              "    </tr>\n",
              "    <tr>\n",
              "      <th>3</th>\n",
              "      <td>262926411352903682</td>\n",
              "      <td>kapan sih lo ngebuktiin,jan ngomong doang susa...</td>\n",
              "      <td>21</td>\n",
              "      <td>140</td>\n",
              "      <td>5.714286</td>\n",
              "      <td>3</td>\n",
              "      <td>0</td>\n",
              "      <td>0</td>\n",
              "      <td>0</td>\n",
              "      <td>0</td>\n",
              "    </tr>\n",
              "    <tr>\n",
              "      <th>4</th>\n",
              "      <td>171874368908050432</td>\n",
              "      <td>excuse the connectivity of this live stream, f...</td>\n",
              "      <td>21</td>\n",
              "      <td>135</td>\n",
              "      <td>5.476190</td>\n",
              "      <td>9</td>\n",
              "      <td>1</td>\n",
              "      <td>0</td>\n",
              "      <td>0</td>\n",
              "      <td>1</td>\n",
              "    </tr>\n",
              "  </tbody>\n",
              "</table>\n",
              "</div>"
            ],
            "text/plain": [
              "             tweet_id  ... upper_counts\n",
              "0  264238274963451904  ...            0\n",
              "1  218775148495515649  ...            0\n",
              "2  258965201766998017  ...            0\n",
              "3  262926411352903682  ...            0\n",
              "4  171874368908050432  ...            1\n",
              "\n",
              "[5 rows x 10 columns]"
            ]
          },
          "metadata": {
            "tags": []
          },
          "execution_count": 119
        }
      ]
    },
    {
      "cell_type": "code",
      "metadata": {
        "id": "DCsh_2pd8XRa",
        "colab": {
          "base_uri": "https://localhost:8080/",
          "height": 501
        },
        "outputId": "1fc3dd10-66ed-430c-d62f-410f245aa43e"
      },
      "source": [
        "df_test['tweet_text'] = df_test['tweet_text'].apply(lambda x: re.sub(r'(http|ftp|https)://([\\w_-]+(?:(?:\\.[\\w_-]+)+))([\\w.,@?^=%&:/~+#-]*[\\w@?^=%&/~+#-])?',\"\", x))\n",
        "df_test.head() "
      ],
      "execution_count": null,
      "outputs": [
        {
          "output_type": "execute_result",
          "data": {
            "text/html": [
              "<div>\n",
              "<style scoped>\n",
              "    .dataframe tbody tr th:only-of-type {\n",
              "        vertical-align: middle;\n",
              "    }\n",
              "\n",
              "    .dataframe tbody tr th {\n",
              "        vertical-align: top;\n",
              "    }\n",
              "\n",
              "    .dataframe thead th {\n",
              "        text-align: right;\n",
              "    }\n",
              "</style>\n",
              "<table border=\"1\" class=\"dataframe\">\n",
              "  <thead>\n",
              "    <tr style=\"text-align: right;\">\n",
              "      <th></th>\n",
              "      <th>tweet_id</th>\n",
              "      <th>tweet_text</th>\n",
              "      <th>word_counts</th>\n",
              "      <th>char_counts</th>\n",
              "      <th>avg_word_len</th>\n",
              "      <th>stop_words_len</th>\n",
              "      <th>hashtags_count</th>\n",
              "      <th>mentions_ count</th>\n",
              "      <th>numeric_count</th>\n",
              "      <th>upper_counts</th>\n",
              "    </tr>\n",
              "  </thead>\n",
              "  <tbody>\n",
              "    <tr>\n",
              "      <th>0</th>\n",
              "      <td>264238274963451904</td>\n",
              "      <td>@jjuueellzz down in the atlantic city, ventnor...</td>\n",
              "      <td>22</td>\n",
              "      <td>140</td>\n",
              "      <td>5.409091</td>\n",
              "      <td>9</td>\n",
              "      <td>0</td>\n",
              "      <td>1</td>\n",
              "      <td>0</td>\n",
              "      <td>0</td>\n",
              "    </tr>\n",
              "    <tr>\n",
              "      <th>1</th>\n",
              "      <td>218775148495515649</td>\n",
              "      <td>musical awareness: great big beautiful tomorro...</td>\n",
              "      <td>15</td>\n",
              "      <td>87</td>\n",
              "      <td>4.866667</td>\n",
              "      <td>6</td>\n",
              "      <td>0</td>\n",
              "      <td>0</td>\n",
              "      <td>0</td>\n",
              "      <td>0</td>\n",
              "    </tr>\n",
              "    <tr>\n",
              "      <th>2</th>\n",
              "      <td>258965201766998017</td>\n",
              "      <td>on radio786 100.4fm 7:10 fri oct 19 labour ana...</td>\n",
              "      <td>22</td>\n",
              "      <td>140</td>\n",
              "      <td>5.409091</td>\n",
              "      <td>5</td>\n",
              "      <td>0</td>\n",
              "      <td>0</td>\n",
              "      <td>1</td>\n",
              "      <td>0</td>\n",
              "    </tr>\n",
              "    <tr>\n",
              "      <th>3</th>\n",
              "      <td>262926411352903682</td>\n",
              "      <td>kapan sih lo ngebuktiin,jan ngomong doang susa...</td>\n",
              "      <td>21</td>\n",
              "      <td>140</td>\n",
              "      <td>5.714286</td>\n",
              "      <td>3</td>\n",
              "      <td>0</td>\n",
              "      <td>0</td>\n",
              "      <td>0</td>\n",
              "      <td>0</td>\n",
              "    </tr>\n",
              "    <tr>\n",
              "      <th>4</th>\n",
              "      <td>171874368908050432</td>\n",
              "      <td>excuse the connectivity of this live stream, f...</td>\n",
              "      <td>21</td>\n",
              "      <td>135</td>\n",
              "      <td>5.476190</td>\n",
              "      <td>9</td>\n",
              "      <td>1</td>\n",
              "      <td>0</td>\n",
              "      <td>0</td>\n",
              "      <td>1</td>\n",
              "    </tr>\n",
              "  </tbody>\n",
              "</table>\n",
              "</div>"
            ],
            "text/plain": [
              "             tweet_id  ... upper_counts\n",
              "0  264238274963451904  ...            0\n",
              "1  218775148495515649  ...            0\n",
              "2  258965201766998017  ...            0\n",
              "3  262926411352903682  ...            0\n",
              "4  171874368908050432  ...            1\n",
              "\n",
              "[5 rows x 10 columns]"
            ]
          },
          "metadata": {
            "tags": []
          },
          "execution_count": 120
        }
      ]
    },
    {
      "cell_type": "code",
      "metadata": {
        "id": "brpq6Tku8ZIW",
        "colab": {
          "base_uri": "https://localhost:8080/",
          "height": 501
        },
        "outputId": "3559aa6c-5099-4b7e-d05d-8fa76f031845"
      },
      "source": [
        "df_test['tweet_text']=df_test['tweet_text'].apply(lambda x: re.sub('RT',\"\",x))\n",
        "df_test.head()"
      ],
      "execution_count": null,
      "outputs": [
        {
          "output_type": "execute_result",
          "data": {
            "text/html": [
              "<div>\n",
              "<style scoped>\n",
              "    .dataframe tbody tr th:only-of-type {\n",
              "        vertical-align: middle;\n",
              "    }\n",
              "\n",
              "    .dataframe tbody tr th {\n",
              "        vertical-align: top;\n",
              "    }\n",
              "\n",
              "    .dataframe thead th {\n",
              "        text-align: right;\n",
              "    }\n",
              "</style>\n",
              "<table border=\"1\" class=\"dataframe\">\n",
              "  <thead>\n",
              "    <tr style=\"text-align: right;\">\n",
              "      <th></th>\n",
              "      <th>tweet_id</th>\n",
              "      <th>tweet_text</th>\n",
              "      <th>word_counts</th>\n",
              "      <th>char_counts</th>\n",
              "      <th>avg_word_len</th>\n",
              "      <th>stop_words_len</th>\n",
              "      <th>hashtags_count</th>\n",
              "      <th>mentions_ count</th>\n",
              "      <th>numeric_count</th>\n",
              "      <th>upper_counts</th>\n",
              "    </tr>\n",
              "  </thead>\n",
              "  <tbody>\n",
              "    <tr>\n",
              "      <th>0</th>\n",
              "      <td>264238274963451904</td>\n",
              "      <td>@jjuueellzz down in the atlantic city, ventnor...</td>\n",
              "      <td>22</td>\n",
              "      <td>140</td>\n",
              "      <td>5.409091</td>\n",
              "      <td>9</td>\n",
              "      <td>0</td>\n",
              "      <td>1</td>\n",
              "      <td>0</td>\n",
              "      <td>0</td>\n",
              "    </tr>\n",
              "    <tr>\n",
              "      <th>1</th>\n",
              "      <td>218775148495515649</td>\n",
              "      <td>musical awareness: great big beautiful tomorro...</td>\n",
              "      <td>15</td>\n",
              "      <td>87</td>\n",
              "      <td>4.866667</td>\n",
              "      <td>6</td>\n",
              "      <td>0</td>\n",
              "      <td>0</td>\n",
              "      <td>0</td>\n",
              "      <td>0</td>\n",
              "    </tr>\n",
              "    <tr>\n",
              "      <th>2</th>\n",
              "      <td>258965201766998017</td>\n",
              "      <td>on radio786 100.4fm 7:10 fri oct 19 labour ana...</td>\n",
              "      <td>22</td>\n",
              "      <td>140</td>\n",
              "      <td>5.409091</td>\n",
              "      <td>5</td>\n",
              "      <td>0</td>\n",
              "      <td>0</td>\n",
              "      <td>1</td>\n",
              "      <td>0</td>\n",
              "    </tr>\n",
              "    <tr>\n",
              "      <th>3</th>\n",
              "      <td>262926411352903682</td>\n",
              "      <td>kapan sih lo ngebuktiin,jan ngomong doang susa...</td>\n",
              "      <td>21</td>\n",
              "      <td>140</td>\n",
              "      <td>5.714286</td>\n",
              "      <td>3</td>\n",
              "      <td>0</td>\n",
              "      <td>0</td>\n",
              "      <td>0</td>\n",
              "      <td>0</td>\n",
              "    </tr>\n",
              "    <tr>\n",
              "      <th>4</th>\n",
              "      <td>171874368908050432</td>\n",
              "      <td>excuse the connectivity of this live stream, f...</td>\n",
              "      <td>21</td>\n",
              "      <td>135</td>\n",
              "      <td>5.476190</td>\n",
              "      <td>9</td>\n",
              "      <td>1</td>\n",
              "      <td>0</td>\n",
              "      <td>0</td>\n",
              "      <td>1</td>\n",
              "    </tr>\n",
              "  </tbody>\n",
              "</table>\n",
              "</div>"
            ],
            "text/plain": [
              "             tweet_id  ... upper_counts\n",
              "0  264238274963451904  ...            0\n",
              "1  218775148495515649  ...            0\n",
              "2  258965201766998017  ...            0\n",
              "3  262926411352903682  ...            0\n",
              "4  171874368908050432  ...            1\n",
              "\n",
              "[5 rows x 10 columns]"
            ]
          },
          "metadata": {
            "tags": []
          },
          "execution_count": 121
        }
      ]
    },
    {
      "cell_type": "code",
      "metadata": {
        "id": "g_RoLs2y8ahP",
        "colab": {
          "base_uri": "https://localhost:8080/",
          "height": 517
        },
        "outputId": "d21e9b7f-0f8c-4077-bcce-de59e7fbc33c"
      },
      "source": [
        "df_test['tweet_text']=df_test['tweet_text'].apply(lambda x: re.sub('[^A-Z a-z 0-9-]+', '', x))\n",
        "df_test['tweet_text']=df_test['tweet_text'].apply(lambda x: re.sub('[0-9]', '', x))\n",
        "df_test.head()"
      ],
      "execution_count": null,
      "outputs": [
        {
          "output_type": "execute_result",
          "data": {
            "text/html": [
              "<div>\n",
              "<style scoped>\n",
              "    .dataframe tbody tr th:only-of-type {\n",
              "        vertical-align: middle;\n",
              "    }\n",
              "\n",
              "    .dataframe tbody tr th {\n",
              "        vertical-align: top;\n",
              "    }\n",
              "\n",
              "    .dataframe thead th {\n",
              "        text-align: right;\n",
              "    }\n",
              "</style>\n",
              "<table border=\"1\" class=\"dataframe\">\n",
              "  <thead>\n",
              "    <tr style=\"text-align: right;\">\n",
              "      <th></th>\n",
              "      <th>tweet_id</th>\n",
              "      <th>tweet_text</th>\n",
              "      <th>word_counts</th>\n",
              "      <th>char_counts</th>\n",
              "      <th>avg_word_len</th>\n",
              "      <th>stop_words_len</th>\n",
              "      <th>hashtags_count</th>\n",
              "      <th>mentions_ count</th>\n",
              "      <th>numeric_count</th>\n",
              "      <th>upper_counts</th>\n",
              "    </tr>\n",
              "  </thead>\n",
              "  <tbody>\n",
              "    <tr>\n",
              "      <th>0</th>\n",
              "      <td>264238274963451904</td>\n",
              "      <td>jjuueellzz down in the atlantic city ventnor m...</td>\n",
              "      <td>22</td>\n",
              "      <td>140</td>\n",
              "      <td>5.409091</td>\n",
              "      <td>9</td>\n",
              "      <td>0</td>\n",
              "      <td>1</td>\n",
              "      <td>0</td>\n",
              "      <td>0</td>\n",
              "    </tr>\n",
              "    <tr>\n",
              "      <th>1</th>\n",
              "      <td>218775148495515649</td>\n",
              "      <td>musical awareness great big beautiful tomorrow...</td>\n",
              "      <td>15</td>\n",
              "      <td>87</td>\n",
              "      <td>4.866667</td>\n",
              "      <td>6</td>\n",
              "      <td>0</td>\n",
              "      <td>0</td>\n",
              "      <td>0</td>\n",
              "      <td>0</td>\n",
              "    </tr>\n",
              "    <tr>\n",
              "      <th>2</th>\n",
              "      <td>258965201766998017</td>\n",
              "      <td>on radio fm  fri oct  labour analyst shawn hat...</td>\n",
              "      <td>22</td>\n",
              "      <td>140</td>\n",
              "      <td>5.409091</td>\n",
              "      <td>5</td>\n",
              "      <td>0</td>\n",
              "      <td>0</td>\n",
              "      <td>1</td>\n",
              "      <td>0</td>\n",
              "    </tr>\n",
              "    <tr>\n",
              "      <th>3</th>\n",
              "      <td>262926411352903682</td>\n",
              "      <td>kapan sih lo ngebuktiinjan ngomong doang susah...</td>\n",
              "      <td>21</td>\n",
              "      <td>140</td>\n",
              "      <td>5.714286</td>\n",
              "      <td>3</td>\n",
              "      <td>0</td>\n",
              "      <td>0</td>\n",
              "      <td>0</td>\n",
              "      <td>0</td>\n",
              "    </tr>\n",
              "    <tr>\n",
              "      <th>4</th>\n",
              "      <td>171874368908050432</td>\n",
              "      <td>excuse the connectivity of this live stream fr...</td>\n",
              "      <td>21</td>\n",
              "      <td>135</td>\n",
              "      <td>5.476190</td>\n",
              "      <td>9</td>\n",
              "      <td>1</td>\n",
              "      <td>0</td>\n",
              "      <td>0</td>\n",
              "      <td>1</td>\n",
              "    </tr>\n",
              "  </tbody>\n",
              "</table>\n",
              "</div>"
            ],
            "text/plain": [
              "             tweet_id  ... upper_counts\n",
              "0  264238274963451904  ...            0\n",
              "1  218775148495515649  ...            0\n",
              "2  258965201766998017  ...            0\n",
              "3  262926411352903682  ...            0\n",
              "4  171874368908050432  ...            1\n",
              "\n",
              "[5 rows x 10 columns]"
            ]
          },
          "metadata": {
            "tags": []
          },
          "execution_count": 122
        }
      ]
    },
    {
      "cell_type": "code",
      "metadata": {
        "id": "8hHahMIY8dH4",
        "colab": {
          "base_uri": "https://localhost:8080/",
          "height": 517
        },
        "outputId": "fc1d0650-77ed-44a8-eb07-a8e45db278b2"
      },
      "source": [
        "df_test['tweet_text']=df_test['tweet_text'].apply(lambda x: \" \".join(x.split()))\n",
        "df_test.head()"
      ],
      "execution_count": null,
      "outputs": [
        {
          "output_type": "execute_result",
          "data": {
            "text/html": [
              "<div>\n",
              "<style scoped>\n",
              "    .dataframe tbody tr th:only-of-type {\n",
              "        vertical-align: middle;\n",
              "    }\n",
              "\n",
              "    .dataframe tbody tr th {\n",
              "        vertical-align: top;\n",
              "    }\n",
              "\n",
              "    .dataframe thead th {\n",
              "        text-align: right;\n",
              "    }\n",
              "</style>\n",
              "<table border=\"1\" class=\"dataframe\">\n",
              "  <thead>\n",
              "    <tr style=\"text-align: right;\">\n",
              "      <th></th>\n",
              "      <th>tweet_id</th>\n",
              "      <th>tweet_text</th>\n",
              "      <th>word_counts</th>\n",
              "      <th>char_counts</th>\n",
              "      <th>avg_word_len</th>\n",
              "      <th>stop_words_len</th>\n",
              "      <th>hashtags_count</th>\n",
              "      <th>mentions_ count</th>\n",
              "      <th>numeric_count</th>\n",
              "      <th>upper_counts</th>\n",
              "    </tr>\n",
              "  </thead>\n",
              "  <tbody>\n",
              "    <tr>\n",
              "      <th>0</th>\n",
              "      <td>264238274963451904</td>\n",
              "      <td>jjuueellzz down in the atlantic city ventnor m...</td>\n",
              "      <td>22</td>\n",
              "      <td>140</td>\n",
              "      <td>5.409091</td>\n",
              "      <td>9</td>\n",
              "      <td>0</td>\n",
              "      <td>1</td>\n",
              "      <td>0</td>\n",
              "      <td>0</td>\n",
              "    </tr>\n",
              "    <tr>\n",
              "      <th>1</th>\n",
              "      <td>218775148495515649</td>\n",
              "      <td>musical awareness great big beautiful tomorrow...</td>\n",
              "      <td>15</td>\n",
              "      <td>87</td>\n",
              "      <td>4.866667</td>\n",
              "      <td>6</td>\n",
              "      <td>0</td>\n",
              "      <td>0</td>\n",
              "      <td>0</td>\n",
              "      <td>0</td>\n",
              "    </tr>\n",
              "    <tr>\n",
              "      <th>2</th>\n",
              "      <td>258965201766998017</td>\n",
              "      <td>on radio fm fri oct labour analyst shawn hatti...</td>\n",
              "      <td>22</td>\n",
              "      <td>140</td>\n",
              "      <td>5.409091</td>\n",
              "      <td>5</td>\n",
              "      <td>0</td>\n",
              "      <td>0</td>\n",
              "      <td>1</td>\n",
              "      <td>0</td>\n",
              "    </tr>\n",
              "    <tr>\n",
              "      <th>3</th>\n",
              "      <td>262926411352903682</td>\n",
              "      <td>kapan sih lo ngebuktiinjan ngomong doang susah...</td>\n",
              "      <td>21</td>\n",
              "      <td>140</td>\n",
              "      <td>5.714286</td>\n",
              "      <td>3</td>\n",
              "      <td>0</td>\n",
              "      <td>0</td>\n",
              "      <td>0</td>\n",
              "      <td>0</td>\n",
              "    </tr>\n",
              "    <tr>\n",
              "      <th>4</th>\n",
              "      <td>171874368908050432</td>\n",
              "      <td>excuse the connectivity of this live stream fr...</td>\n",
              "      <td>21</td>\n",
              "      <td>135</td>\n",
              "      <td>5.476190</td>\n",
              "      <td>9</td>\n",
              "      <td>1</td>\n",
              "      <td>0</td>\n",
              "      <td>0</td>\n",
              "      <td>1</td>\n",
              "    </tr>\n",
              "  </tbody>\n",
              "</table>\n",
              "</div>"
            ],
            "text/plain": [
              "             tweet_id  ... upper_counts\n",
              "0  264238274963451904  ...            0\n",
              "1  218775148495515649  ...            0\n",
              "2  258965201766998017  ...            0\n",
              "3  262926411352903682  ...            0\n",
              "4  171874368908050432  ...            1\n",
              "\n",
              "[5 rows x 10 columns]"
            ]
          },
          "metadata": {
            "tags": []
          },
          "execution_count": 123
        }
      ]
    },
    {
      "cell_type": "code",
      "metadata": {
        "id": "9E8cVw3d8fQB",
        "colab": {
          "base_uri": "https://localhost:8080/",
          "height": 517
        },
        "outputId": "586bc054-1da1-45a2-aa63-033b30a59c53"
      },
      "source": [
        "df_test['tweet_text']=df_test['tweet_text'].apply(lambda x: BeautifulSoup(x, 'lxml').get_text())\n",
        "df_test.head()"
      ],
      "execution_count": null,
      "outputs": [
        {
          "output_type": "execute_result",
          "data": {
            "text/html": [
              "<div>\n",
              "<style scoped>\n",
              "    .dataframe tbody tr th:only-of-type {\n",
              "        vertical-align: middle;\n",
              "    }\n",
              "\n",
              "    .dataframe tbody tr th {\n",
              "        vertical-align: top;\n",
              "    }\n",
              "\n",
              "    .dataframe thead th {\n",
              "        text-align: right;\n",
              "    }\n",
              "</style>\n",
              "<table border=\"1\" class=\"dataframe\">\n",
              "  <thead>\n",
              "    <tr style=\"text-align: right;\">\n",
              "      <th></th>\n",
              "      <th>tweet_id</th>\n",
              "      <th>tweet_text</th>\n",
              "      <th>word_counts</th>\n",
              "      <th>char_counts</th>\n",
              "      <th>avg_word_len</th>\n",
              "      <th>stop_words_len</th>\n",
              "      <th>hashtags_count</th>\n",
              "      <th>mentions_ count</th>\n",
              "      <th>numeric_count</th>\n",
              "      <th>upper_counts</th>\n",
              "    </tr>\n",
              "  </thead>\n",
              "  <tbody>\n",
              "    <tr>\n",
              "      <th>0</th>\n",
              "      <td>264238274963451904</td>\n",
              "      <td>jjuueellzz down in the atlantic city ventnor m...</td>\n",
              "      <td>22</td>\n",
              "      <td>140</td>\n",
              "      <td>5.409091</td>\n",
              "      <td>9</td>\n",
              "      <td>0</td>\n",
              "      <td>1</td>\n",
              "      <td>0</td>\n",
              "      <td>0</td>\n",
              "    </tr>\n",
              "    <tr>\n",
              "      <th>1</th>\n",
              "      <td>218775148495515649</td>\n",
              "      <td>musical awareness great big beautiful tomorrow...</td>\n",
              "      <td>15</td>\n",
              "      <td>87</td>\n",
              "      <td>4.866667</td>\n",
              "      <td>6</td>\n",
              "      <td>0</td>\n",
              "      <td>0</td>\n",
              "      <td>0</td>\n",
              "      <td>0</td>\n",
              "    </tr>\n",
              "    <tr>\n",
              "      <th>2</th>\n",
              "      <td>258965201766998017</td>\n",
              "      <td>on radio fm fri oct labour analyst shawn hatti...</td>\n",
              "      <td>22</td>\n",
              "      <td>140</td>\n",
              "      <td>5.409091</td>\n",
              "      <td>5</td>\n",
              "      <td>0</td>\n",
              "      <td>0</td>\n",
              "      <td>1</td>\n",
              "      <td>0</td>\n",
              "    </tr>\n",
              "    <tr>\n",
              "      <th>3</th>\n",
              "      <td>262926411352903682</td>\n",
              "      <td>kapan sih lo ngebuktiinjan ngomong doang susah...</td>\n",
              "      <td>21</td>\n",
              "      <td>140</td>\n",
              "      <td>5.714286</td>\n",
              "      <td>3</td>\n",
              "      <td>0</td>\n",
              "      <td>0</td>\n",
              "      <td>0</td>\n",
              "      <td>0</td>\n",
              "    </tr>\n",
              "    <tr>\n",
              "      <th>4</th>\n",
              "      <td>171874368908050432</td>\n",
              "      <td>excuse the connectivity of this live stream fr...</td>\n",
              "      <td>21</td>\n",
              "      <td>135</td>\n",
              "      <td>5.476190</td>\n",
              "      <td>9</td>\n",
              "      <td>1</td>\n",
              "      <td>0</td>\n",
              "      <td>0</td>\n",
              "      <td>1</td>\n",
              "    </tr>\n",
              "  </tbody>\n",
              "</table>\n",
              "</div>"
            ],
            "text/plain": [
              "             tweet_id  ... upper_counts\n",
              "0  264238274963451904  ...            0\n",
              "1  218775148495515649  ...            0\n",
              "2  258965201766998017  ...            0\n",
              "3  262926411352903682  ...            0\n",
              "4  171874368908050432  ...            1\n",
              "\n",
              "[5 rows x 10 columns]"
            ]
          },
          "metadata": {
            "tags": []
          },
          "execution_count": 124
        }
      ]
    },
    {
      "cell_type": "code",
      "metadata": {
        "id": "_G4KnkDU8hg8",
        "colab": {
          "base_uri": "https://localhost:8080/",
          "height": 567
        },
        "outputId": "3e4514d7-c2af-41e4-dd29-36f67a99f517"
      },
      "source": [
        "df_test['tweet_text']=df_test['tweet_text'].apply(lambda x: \" \".join([t for t in x.split() if t not in STOP_WORDS]))\n",
        "df_test.head()"
      ],
      "execution_count": null,
      "outputs": [
        {
          "output_type": "execute_result",
          "data": {
            "text/html": [
              "<div>\n",
              "<style scoped>\n",
              "    .dataframe tbody tr th:only-of-type {\n",
              "        vertical-align: middle;\n",
              "    }\n",
              "\n",
              "    .dataframe tbody tr th {\n",
              "        vertical-align: top;\n",
              "    }\n",
              "\n",
              "    .dataframe thead th {\n",
              "        text-align: right;\n",
              "    }\n",
              "</style>\n",
              "<table border=\"1\" class=\"dataframe\">\n",
              "  <thead>\n",
              "    <tr style=\"text-align: right;\">\n",
              "      <th></th>\n",
              "      <th>tweet_id</th>\n",
              "      <th>tweet_text</th>\n",
              "      <th>word_counts</th>\n",
              "      <th>char_counts</th>\n",
              "      <th>avg_word_len</th>\n",
              "      <th>stop_words_len</th>\n",
              "      <th>hashtags_count</th>\n",
              "      <th>mentions_ count</th>\n",
              "      <th>numeric_count</th>\n",
              "      <th>upper_counts</th>\n",
              "    </tr>\n",
              "  </thead>\n",
              "  <tbody>\n",
              "    <tr>\n",
              "      <th>0</th>\n",
              "      <td>264238274963451904</td>\n",
              "      <td>jjuueellzz atlantic city ventnor margate ocean...</td>\n",
              "      <td>22</td>\n",
              "      <td>140</td>\n",
              "      <td>5.409091</td>\n",
              "      <td>9</td>\n",
              "      <td>0</td>\n",
              "      <td>1</td>\n",
              "      <td>0</td>\n",
              "      <td>0</td>\n",
              "    </tr>\n",
              "    <tr>\n",
              "      <th>1</th>\n",
              "      <td>218775148495515649</td>\n",
              "      <td>musical awareness great big beautiful tomorrow...</td>\n",
              "      <td>15</td>\n",
              "      <td>87</td>\n",
              "      <td>4.866667</td>\n",
              "      <td>6</td>\n",
              "      <td>0</td>\n",
              "      <td>0</td>\n",
              "      <td>0</td>\n",
              "      <td>0</td>\n",
              "    </tr>\n",
              "    <tr>\n",
              "      <th>2</th>\n",
              "      <td>258965201766998017</td>\n",
              "      <td>radio fm fri oct labour analyst shawn hattingh...</td>\n",
              "      <td>22</td>\n",
              "      <td>140</td>\n",
              "      <td>5.409091</td>\n",
              "      <td>5</td>\n",
              "      <td>0</td>\n",
              "      <td>0</td>\n",
              "      <td>1</td>\n",
              "      <td>0</td>\n",
              "    </tr>\n",
              "    <tr>\n",
              "      <th>3</th>\n",
              "      <td>262926411352903682</td>\n",
              "      <td>kapan sih lo ngebuktiinjan ngomong doang susah...</td>\n",
              "      <td>21</td>\n",
              "      <td>140</td>\n",
              "      <td>5.714286</td>\n",
              "      <td>3</td>\n",
              "      <td>0</td>\n",
              "      <td>0</td>\n",
              "      <td>0</td>\n",
              "      <td>0</td>\n",
              "    </tr>\n",
              "    <tr>\n",
              "      <th>4</th>\n",
              "      <td>171874368908050432</td>\n",
              "      <td>excuse connectivity live stream baba amr activ...</td>\n",
              "      <td>21</td>\n",
              "      <td>135</td>\n",
              "      <td>5.476190</td>\n",
              "      <td>9</td>\n",
              "      <td>1</td>\n",
              "      <td>0</td>\n",
              "      <td>0</td>\n",
              "      <td>1</td>\n",
              "    </tr>\n",
              "  </tbody>\n",
              "</table>\n",
              "</div>"
            ],
            "text/plain": [
              "             tweet_id  ... upper_counts\n",
              "0  264238274963451904  ...            0\n",
              "1  218775148495515649  ...            0\n",
              "2  258965201766998017  ...            0\n",
              "3  262926411352903682  ...            0\n",
              "4  171874368908050432  ...            1\n",
              "\n",
              "[5 rows x 10 columns]"
            ]
          },
          "metadata": {
            "tags": []
          },
          "execution_count": 125
        }
      ]
    },
    {
      "cell_type": "code",
      "metadata": {
        "id": "jQoHjaqS8mKo",
        "colab": {
          "base_uri": "https://localhost:8080/",
          "height": 567
        },
        "outputId": "e0123952-4dca-42ea-db81-25d3569b07c8"
      },
      "source": [
        "df_test['tweet_text']=df_test['tweet_text'].apply(lambda x: make_to_base(x))\n",
        "df_test.head()"
      ],
      "execution_count": null,
      "outputs": [
        {
          "output_type": "execute_result",
          "data": {
            "text/html": [
              "<div>\n",
              "<style scoped>\n",
              "    .dataframe tbody tr th:only-of-type {\n",
              "        vertical-align: middle;\n",
              "    }\n",
              "\n",
              "    .dataframe tbody tr th {\n",
              "        vertical-align: top;\n",
              "    }\n",
              "\n",
              "    .dataframe thead th {\n",
              "        text-align: right;\n",
              "    }\n",
              "</style>\n",
              "<table border=\"1\" class=\"dataframe\">\n",
              "  <thead>\n",
              "    <tr style=\"text-align: right;\">\n",
              "      <th></th>\n",
              "      <th>tweet_id</th>\n",
              "      <th>tweet_text</th>\n",
              "      <th>word_counts</th>\n",
              "      <th>char_counts</th>\n",
              "      <th>avg_word_len</th>\n",
              "      <th>stop_words_len</th>\n",
              "      <th>hashtags_count</th>\n",
              "      <th>mentions_ count</th>\n",
              "      <th>numeric_count</th>\n",
              "      <th>upper_counts</th>\n",
              "    </tr>\n",
              "  </thead>\n",
              "  <tbody>\n",
              "    <tr>\n",
              "      <th>0</th>\n",
              "      <td>264238274963451904</td>\n",
              "      <td>jjuueellzz atlantic city ventnor margate ocean...</td>\n",
              "      <td>22</td>\n",
              "      <td>140</td>\n",
              "      <td>5.409091</td>\n",
              "      <td>9</td>\n",
              "      <td>0</td>\n",
              "      <td>1</td>\n",
              "      <td>0</td>\n",
              "      <td>0</td>\n",
              "    </tr>\n",
              "    <tr>\n",
              "      <th>1</th>\n",
              "      <td>218775148495515649</td>\n",
              "      <td>musical awareness great big beautiful tomorrow...</td>\n",
              "      <td>15</td>\n",
              "      <td>87</td>\n",
              "      <td>4.866667</td>\n",
              "      <td>6</td>\n",
              "      <td>0</td>\n",
              "      <td>0</td>\n",
              "      <td>0</td>\n",
              "      <td>0</td>\n",
              "    </tr>\n",
              "    <tr>\n",
              "      <th>2</th>\n",
              "      <td>258965201766998017</td>\n",
              "      <td>radio fm fri oct labour analyst shawn hattingh...</td>\n",
              "      <td>22</td>\n",
              "      <td>140</td>\n",
              "      <td>5.409091</td>\n",
              "      <td>5</td>\n",
              "      <td>0</td>\n",
              "      <td>0</td>\n",
              "      <td>1</td>\n",
              "      <td>0</td>\n",
              "    </tr>\n",
              "    <tr>\n",
              "      <th>3</th>\n",
              "      <td>262926411352903682</td>\n",
              "      <td>kapan sih lo ngebuktiinjan ngomong doang susah...</td>\n",
              "      <td>21</td>\n",
              "      <td>140</td>\n",
              "      <td>5.714286</td>\n",
              "      <td>3</td>\n",
              "      <td>0</td>\n",
              "      <td>0</td>\n",
              "      <td>0</td>\n",
              "      <td>0</td>\n",
              "    </tr>\n",
              "    <tr>\n",
              "      <th>4</th>\n",
              "      <td>171874368908050432</td>\n",
              "      <td>excuse connectivity live stream baba amr activ...</td>\n",
              "      <td>21</td>\n",
              "      <td>135</td>\n",
              "      <td>5.476190</td>\n",
              "      <td>9</td>\n",
              "      <td>1</td>\n",
              "      <td>0</td>\n",
              "      <td>0</td>\n",
              "      <td>1</td>\n",
              "    </tr>\n",
              "  </tbody>\n",
              "</table>\n",
              "</div>"
            ],
            "text/plain": [
              "             tweet_id  ... upper_counts\n",
              "0  264238274963451904  ...            0\n",
              "1  218775148495515649  ...            0\n",
              "2  258965201766998017  ...            0\n",
              "3  262926411352903682  ...            0\n",
              "4  171874368908050432  ...            1\n",
              "\n",
              "[5 rows x 10 columns]"
            ]
          },
          "metadata": {
            "tags": []
          },
          "execution_count": 126
        }
      ]
    },
    {
      "cell_type": "code",
      "metadata": {
        "id": "iYRxMxFF8pDf",
        "colab": {
          "base_uri": "https://localhost:8080/",
          "height": 567
        },
        "outputId": "e47eaeb8-877b-4405-eff6-ad9c4be695b6"
      },
      "source": [
        "text_test = ' '.join(df_test['tweet_text'])\n",
        "df_test.head()"
      ],
      "execution_count": null,
      "outputs": [
        {
          "output_type": "execute_result",
          "data": {
            "text/html": [
              "<div>\n",
              "<style scoped>\n",
              "    .dataframe tbody tr th:only-of-type {\n",
              "        vertical-align: middle;\n",
              "    }\n",
              "\n",
              "    .dataframe tbody tr th {\n",
              "        vertical-align: top;\n",
              "    }\n",
              "\n",
              "    .dataframe thead th {\n",
              "        text-align: right;\n",
              "    }\n",
              "</style>\n",
              "<table border=\"1\" class=\"dataframe\">\n",
              "  <thead>\n",
              "    <tr style=\"text-align: right;\">\n",
              "      <th></th>\n",
              "      <th>tweet_id</th>\n",
              "      <th>tweet_text</th>\n",
              "      <th>word_counts</th>\n",
              "      <th>char_counts</th>\n",
              "      <th>avg_word_len</th>\n",
              "      <th>stop_words_len</th>\n",
              "      <th>hashtags_count</th>\n",
              "      <th>mentions_ count</th>\n",
              "      <th>numeric_count</th>\n",
              "      <th>upper_counts</th>\n",
              "    </tr>\n",
              "  </thead>\n",
              "  <tbody>\n",
              "    <tr>\n",
              "      <th>0</th>\n",
              "      <td>264238274963451904</td>\n",
              "      <td>jjuueellzz atlantic city ventnor margate ocean...</td>\n",
              "      <td>22</td>\n",
              "      <td>140</td>\n",
              "      <td>5.409091</td>\n",
              "      <td>9</td>\n",
              "      <td>0</td>\n",
              "      <td>1</td>\n",
              "      <td>0</td>\n",
              "      <td>0</td>\n",
              "    </tr>\n",
              "    <tr>\n",
              "      <th>1</th>\n",
              "      <td>218775148495515649</td>\n",
              "      <td>musical awareness great big beautiful tomorrow...</td>\n",
              "      <td>15</td>\n",
              "      <td>87</td>\n",
              "      <td>4.866667</td>\n",
              "      <td>6</td>\n",
              "      <td>0</td>\n",
              "      <td>0</td>\n",
              "      <td>0</td>\n",
              "      <td>0</td>\n",
              "    </tr>\n",
              "    <tr>\n",
              "      <th>2</th>\n",
              "      <td>258965201766998017</td>\n",
              "      <td>radio fm fri oct labour analyst shawn hattingh...</td>\n",
              "      <td>22</td>\n",
              "      <td>140</td>\n",
              "      <td>5.409091</td>\n",
              "      <td>5</td>\n",
              "      <td>0</td>\n",
              "      <td>0</td>\n",
              "      <td>1</td>\n",
              "      <td>0</td>\n",
              "    </tr>\n",
              "    <tr>\n",
              "      <th>3</th>\n",
              "      <td>262926411352903682</td>\n",
              "      <td>kapan sih lo ngebuktiinjan ngomong doang susah...</td>\n",
              "      <td>21</td>\n",
              "      <td>140</td>\n",
              "      <td>5.714286</td>\n",
              "      <td>3</td>\n",
              "      <td>0</td>\n",
              "      <td>0</td>\n",
              "      <td>0</td>\n",
              "      <td>0</td>\n",
              "    </tr>\n",
              "    <tr>\n",
              "      <th>4</th>\n",
              "      <td>171874368908050432</td>\n",
              "      <td>excuse connectivity live stream baba amr activ...</td>\n",
              "      <td>21</td>\n",
              "      <td>135</td>\n",
              "      <td>5.476190</td>\n",
              "      <td>9</td>\n",
              "      <td>1</td>\n",
              "      <td>0</td>\n",
              "      <td>0</td>\n",
              "      <td>1</td>\n",
              "    </tr>\n",
              "  </tbody>\n",
              "</table>\n",
              "</div>"
            ],
            "text/plain": [
              "             tweet_id  ... upper_counts\n",
              "0  264238274963451904  ...            0\n",
              "1  218775148495515649  ...            0\n",
              "2  258965201766998017  ...            0\n",
              "3  262926411352903682  ...            0\n",
              "4  171874368908050432  ...            1\n",
              "\n",
              "[5 rows x 10 columns]"
            ]
          },
          "metadata": {
            "tags": []
          },
          "execution_count": 127
        }
      ]
    },
    {
      "cell_type": "code",
      "metadata": {
        "id": "s3nvHcls8rI2",
        "colab": {
          "base_uri": "https://localhost:8080/",
          "height": 567
        },
        "outputId": "8922414f-3918-422d-ce19-e5a838a4840b"
      },
      "source": [
        "text_test = text_test.split()\n",
        "df_test.head()"
      ],
      "execution_count": null,
      "outputs": [
        {
          "output_type": "execute_result",
          "data": {
            "text/html": [
              "<div>\n",
              "<style scoped>\n",
              "    .dataframe tbody tr th:only-of-type {\n",
              "        vertical-align: middle;\n",
              "    }\n",
              "\n",
              "    .dataframe tbody tr th {\n",
              "        vertical-align: top;\n",
              "    }\n",
              "\n",
              "    .dataframe thead th {\n",
              "        text-align: right;\n",
              "    }\n",
              "</style>\n",
              "<table border=\"1\" class=\"dataframe\">\n",
              "  <thead>\n",
              "    <tr style=\"text-align: right;\">\n",
              "      <th></th>\n",
              "      <th>tweet_id</th>\n",
              "      <th>tweet_text</th>\n",
              "      <th>word_counts</th>\n",
              "      <th>char_counts</th>\n",
              "      <th>avg_word_len</th>\n",
              "      <th>stop_words_len</th>\n",
              "      <th>hashtags_count</th>\n",
              "      <th>mentions_ count</th>\n",
              "      <th>numeric_count</th>\n",
              "      <th>upper_counts</th>\n",
              "    </tr>\n",
              "  </thead>\n",
              "  <tbody>\n",
              "    <tr>\n",
              "      <th>0</th>\n",
              "      <td>264238274963451904</td>\n",
              "      <td>jjuueellzz atlantic city ventnor margate ocean...</td>\n",
              "      <td>22</td>\n",
              "      <td>140</td>\n",
              "      <td>5.409091</td>\n",
              "      <td>9</td>\n",
              "      <td>0</td>\n",
              "      <td>1</td>\n",
              "      <td>0</td>\n",
              "      <td>0</td>\n",
              "    </tr>\n",
              "    <tr>\n",
              "      <th>1</th>\n",
              "      <td>218775148495515649</td>\n",
              "      <td>musical awareness great big beautiful tomorrow...</td>\n",
              "      <td>15</td>\n",
              "      <td>87</td>\n",
              "      <td>4.866667</td>\n",
              "      <td>6</td>\n",
              "      <td>0</td>\n",
              "      <td>0</td>\n",
              "      <td>0</td>\n",
              "      <td>0</td>\n",
              "    </tr>\n",
              "    <tr>\n",
              "      <th>2</th>\n",
              "      <td>258965201766998017</td>\n",
              "      <td>radio fm fri oct labour analyst shawn hattingh...</td>\n",
              "      <td>22</td>\n",
              "      <td>140</td>\n",
              "      <td>5.409091</td>\n",
              "      <td>5</td>\n",
              "      <td>0</td>\n",
              "      <td>0</td>\n",
              "      <td>1</td>\n",
              "      <td>0</td>\n",
              "    </tr>\n",
              "    <tr>\n",
              "      <th>3</th>\n",
              "      <td>262926411352903682</td>\n",
              "      <td>kapan sih lo ngebuktiinjan ngomong doang susah...</td>\n",
              "      <td>21</td>\n",
              "      <td>140</td>\n",
              "      <td>5.714286</td>\n",
              "      <td>3</td>\n",
              "      <td>0</td>\n",
              "      <td>0</td>\n",
              "      <td>0</td>\n",
              "      <td>0</td>\n",
              "    </tr>\n",
              "    <tr>\n",
              "      <th>4</th>\n",
              "      <td>171874368908050432</td>\n",
              "      <td>excuse connectivity live stream baba amr activ...</td>\n",
              "      <td>21</td>\n",
              "      <td>135</td>\n",
              "      <td>5.476190</td>\n",
              "      <td>9</td>\n",
              "      <td>1</td>\n",
              "      <td>0</td>\n",
              "      <td>0</td>\n",
              "      <td>1</td>\n",
              "    </tr>\n",
              "  </tbody>\n",
              "</table>\n",
              "</div>"
            ],
            "text/plain": [
              "             tweet_id  ... upper_counts\n",
              "0  264238274963451904  ...            0\n",
              "1  218775148495515649  ...            0\n",
              "2  258965201766998017  ...            0\n",
              "3  262926411352903682  ...            0\n",
              "4  171874368908050432  ...            1\n",
              "\n",
              "[5 rows x 10 columns]"
            ]
          },
          "metadata": {
            "tags": []
          },
          "execution_count": 128
        }
      ]
    },
    {
      "cell_type": "code",
      "metadata": {
        "id": "labhpHlg8sab",
        "colab": {
          "base_uri": "https://localhost:8080/",
          "height": 567
        },
        "outputId": "6d2abce2-a782-4735-d6bf-1a9b97308fc5"
      },
      "source": [
        "freq_comm = pd.Series(text_test).value_counts()\n",
        "df_test.head()"
      ],
      "execution_count": null,
      "outputs": [
        {
          "output_type": "execute_result",
          "data": {
            "text/html": [
              "<div>\n",
              "<style scoped>\n",
              "    .dataframe tbody tr th:only-of-type {\n",
              "        vertical-align: middle;\n",
              "    }\n",
              "\n",
              "    .dataframe tbody tr th {\n",
              "        vertical-align: top;\n",
              "    }\n",
              "\n",
              "    .dataframe thead th {\n",
              "        text-align: right;\n",
              "    }\n",
              "</style>\n",
              "<table border=\"1\" class=\"dataframe\">\n",
              "  <thead>\n",
              "    <tr style=\"text-align: right;\">\n",
              "      <th></th>\n",
              "      <th>tweet_id</th>\n",
              "      <th>tweet_text</th>\n",
              "      <th>word_counts</th>\n",
              "      <th>char_counts</th>\n",
              "      <th>avg_word_len</th>\n",
              "      <th>stop_words_len</th>\n",
              "      <th>hashtags_count</th>\n",
              "      <th>mentions_ count</th>\n",
              "      <th>numeric_count</th>\n",
              "      <th>upper_counts</th>\n",
              "    </tr>\n",
              "  </thead>\n",
              "  <tbody>\n",
              "    <tr>\n",
              "      <th>0</th>\n",
              "      <td>264238274963451904</td>\n",
              "      <td>jjuueellzz atlantic city ventnor margate ocean...</td>\n",
              "      <td>22</td>\n",
              "      <td>140</td>\n",
              "      <td>5.409091</td>\n",
              "      <td>9</td>\n",
              "      <td>0</td>\n",
              "      <td>1</td>\n",
              "      <td>0</td>\n",
              "      <td>0</td>\n",
              "    </tr>\n",
              "    <tr>\n",
              "      <th>1</th>\n",
              "      <td>218775148495515649</td>\n",
              "      <td>musical awareness great big beautiful tomorrow...</td>\n",
              "      <td>15</td>\n",
              "      <td>87</td>\n",
              "      <td>4.866667</td>\n",
              "      <td>6</td>\n",
              "      <td>0</td>\n",
              "      <td>0</td>\n",
              "      <td>0</td>\n",
              "      <td>0</td>\n",
              "    </tr>\n",
              "    <tr>\n",
              "      <th>2</th>\n",
              "      <td>258965201766998017</td>\n",
              "      <td>radio fm fri oct labour analyst shawn hattingh...</td>\n",
              "      <td>22</td>\n",
              "      <td>140</td>\n",
              "      <td>5.409091</td>\n",
              "      <td>5</td>\n",
              "      <td>0</td>\n",
              "      <td>0</td>\n",
              "      <td>1</td>\n",
              "      <td>0</td>\n",
              "    </tr>\n",
              "    <tr>\n",
              "      <th>3</th>\n",
              "      <td>262926411352903682</td>\n",
              "      <td>kapan sih lo ngebuktiinjan ngomong doang susah...</td>\n",
              "      <td>21</td>\n",
              "      <td>140</td>\n",
              "      <td>5.714286</td>\n",
              "      <td>3</td>\n",
              "      <td>0</td>\n",
              "      <td>0</td>\n",
              "      <td>0</td>\n",
              "      <td>0</td>\n",
              "    </tr>\n",
              "    <tr>\n",
              "      <th>4</th>\n",
              "      <td>171874368908050432</td>\n",
              "      <td>excuse connectivity live stream baba amr activ...</td>\n",
              "      <td>21</td>\n",
              "      <td>135</td>\n",
              "      <td>5.476190</td>\n",
              "      <td>9</td>\n",
              "      <td>1</td>\n",
              "      <td>0</td>\n",
              "      <td>0</td>\n",
              "      <td>1</td>\n",
              "    </tr>\n",
              "  </tbody>\n",
              "</table>\n",
              "</div>"
            ],
            "text/plain": [
              "             tweet_id  ... upper_counts\n",
              "0  264238274963451904  ...            0\n",
              "1  218775148495515649  ...            0\n",
              "2  258965201766998017  ...            0\n",
              "3  262926411352903682  ...            0\n",
              "4  171874368908050432  ...            1\n",
              "\n",
              "[5 rows x 10 columns]"
            ]
          },
          "metadata": {
            "tags": []
          },
          "execution_count": 129
        }
      ]
    },
    {
      "cell_type": "code",
      "metadata": {
        "id": "ZUTgR_3k8twp"
      },
      "source": [
        "f20 = freq_comm[:20] #CHECK THIS PART ONCE AGAIN"
      ],
      "execution_count": null,
      "outputs": []
    },
    {
      "cell_type": "code",
      "metadata": {
        "id": "IPpVRdmH8vV7",
        "colab": {
          "base_uri": "https://localhost:8080/",
          "height": 551
        },
        "outputId": "0c0d619f-1bb4-422e-b090-2692667390d4"
      },
      "source": [
        "df_test['tweet_text']=df_test['tweet_text'].apply(lambda x: \" \".join([t for t in x.split() if t not in f20]))\n",
        "df_test.head()"
      ],
      "execution_count": null,
      "outputs": [
        {
          "output_type": "execute_result",
          "data": {
            "text/html": [
              "<div>\n",
              "<style scoped>\n",
              "    .dataframe tbody tr th:only-of-type {\n",
              "        vertical-align: middle;\n",
              "    }\n",
              "\n",
              "    .dataframe tbody tr th {\n",
              "        vertical-align: top;\n",
              "    }\n",
              "\n",
              "    .dataframe thead th {\n",
              "        text-align: right;\n",
              "    }\n",
              "</style>\n",
              "<table border=\"1\" class=\"dataframe\">\n",
              "  <thead>\n",
              "    <tr style=\"text-align: right;\">\n",
              "      <th></th>\n",
              "      <th>tweet_id</th>\n",
              "      <th>tweet_text</th>\n",
              "      <th>word_counts</th>\n",
              "      <th>char_counts</th>\n",
              "      <th>avg_word_len</th>\n",
              "      <th>stop_words_len</th>\n",
              "      <th>hashtags_count</th>\n",
              "      <th>mentions_ count</th>\n",
              "      <th>numeric_count</th>\n",
              "      <th>upper_counts</th>\n",
              "    </tr>\n",
              "  </thead>\n",
              "  <tbody>\n",
              "    <tr>\n",
              "      <th>0</th>\n",
              "      <td>264238274963451904</td>\n",
              "      <td>jjuueellzz atlantic city ventnor margate ocean...</td>\n",
              "      <td>22</td>\n",
              "      <td>140</td>\n",
              "      <td>5.409091</td>\n",
              "      <td>9</td>\n",
              "      <td>0</td>\n",
              "      <td>1</td>\n",
              "      <td>0</td>\n",
              "      <td>0</td>\n",
              "    </tr>\n",
              "    <tr>\n",
              "      <th>1</th>\n",
              "      <td>218775148495515649</td>\n",
              "      <td>musical awareness great big beautiful end</td>\n",
              "      <td>15</td>\n",
              "      <td>87</td>\n",
              "      <td>4.866667</td>\n",
              "      <td>6</td>\n",
              "      <td>0</td>\n",
              "      <td>0</td>\n",
              "      <td>0</td>\n",
              "      <td>0</td>\n",
              "    </tr>\n",
              "    <tr>\n",
              "      <th>2</th>\n",
              "      <td>258965201766998017</td>\n",
              "      <td>radio fm fri oct labour analyst shawn hattingh...</td>\n",
              "      <td>22</td>\n",
              "      <td>140</td>\n",
              "      <td>5.409091</td>\n",
              "      <td>5</td>\n",
              "      <td>0</td>\n",
              "      <td>0</td>\n",
              "      <td>1</td>\n",
              "      <td>0</td>\n",
              "    </tr>\n",
              "    <tr>\n",
              "      <th>3</th>\n",
              "      <td>262926411352903682</td>\n",
              "      <td>kapan sih lo ngebuktiinjan ngomong doang susah...</td>\n",
              "      <td>21</td>\n",
              "      <td>140</td>\n",
              "      <td>5.714286</td>\n",
              "      <td>3</td>\n",
              "      <td>0</td>\n",
              "      <td>0</td>\n",
              "      <td>0</td>\n",
              "      <td>0</td>\n",
              "    </tr>\n",
              "    <tr>\n",
              "      <th>4</th>\n",
              "      <td>171874368908050432</td>\n",
              "      <td>excuse connectivity live stream baba amr activ...</td>\n",
              "      <td>21</td>\n",
              "      <td>135</td>\n",
              "      <td>5.476190</td>\n",
              "      <td>9</td>\n",
              "      <td>1</td>\n",
              "      <td>0</td>\n",
              "      <td>0</td>\n",
              "      <td>1</td>\n",
              "    </tr>\n",
              "  </tbody>\n",
              "</table>\n",
              "</div>"
            ],
            "text/plain": [
              "             tweet_id  ... upper_counts\n",
              "0  264238274963451904  ...            0\n",
              "1  218775148495515649  ...            0\n",
              "2  258965201766998017  ...            0\n",
              "3  262926411352903682  ...            0\n",
              "4  171874368908050432  ...            1\n",
              "\n",
              "[5 rows x 10 columns]"
            ]
          },
          "metadata": {
            "tags": []
          },
          "execution_count": 131
        }
      ]
    },
    {
      "cell_type": "code",
      "metadata": {
        "id": "FM2EORh_8xKm"
      },
      "source": [
        "rare20 = freq_comm[-20:]"
      ],
      "execution_count": null,
      "outputs": []
    },
    {
      "cell_type": "code",
      "metadata": {
        "id": "gMaFH64F8zal",
        "colab": {
          "base_uri": "https://localhost:8080/",
          "height": 551
        },
        "outputId": "b2d37ea6-42b9-4cef-ef79-f0851df679f4"
      },
      "source": [
        "df_test['tweet_text']=df_test['tweet_text'].apply(lambda x: \" \".join([t for t in x.split() if t not in rare20]))\n",
        "df_test.head()"
      ],
      "execution_count": null,
      "outputs": [
        {
          "output_type": "execute_result",
          "data": {
            "text/html": [
              "<div>\n",
              "<style scoped>\n",
              "    .dataframe tbody tr th:only-of-type {\n",
              "        vertical-align: middle;\n",
              "    }\n",
              "\n",
              "    .dataframe tbody tr th {\n",
              "        vertical-align: top;\n",
              "    }\n",
              "\n",
              "    .dataframe thead th {\n",
              "        text-align: right;\n",
              "    }\n",
              "</style>\n",
              "<table border=\"1\" class=\"dataframe\">\n",
              "  <thead>\n",
              "    <tr style=\"text-align: right;\">\n",
              "      <th></th>\n",
              "      <th>tweet_id</th>\n",
              "      <th>tweet_text</th>\n",
              "      <th>word_counts</th>\n",
              "      <th>char_counts</th>\n",
              "      <th>avg_word_len</th>\n",
              "      <th>stop_words_len</th>\n",
              "      <th>hashtags_count</th>\n",
              "      <th>mentions_ count</th>\n",
              "      <th>numeric_count</th>\n",
              "      <th>upper_counts</th>\n",
              "    </tr>\n",
              "  </thead>\n",
              "  <tbody>\n",
              "    <tr>\n",
              "      <th>0</th>\n",
              "      <td>264238274963451904</td>\n",
              "      <td>jjuueellzz atlantic city ventnor margate ocean...</td>\n",
              "      <td>22</td>\n",
              "      <td>140</td>\n",
              "      <td>5.409091</td>\n",
              "      <td>9</td>\n",
              "      <td>0</td>\n",
              "      <td>1</td>\n",
              "      <td>0</td>\n",
              "      <td>0</td>\n",
              "    </tr>\n",
              "    <tr>\n",
              "      <th>1</th>\n",
              "      <td>218775148495515649</td>\n",
              "      <td>musical awareness great big beautiful end</td>\n",
              "      <td>15</td>\n",
              "      <td>87</td>\n",
              "      <td>4.866667</td>\n",
              "      <td>6</td>\n",
              "      <td>0</td>\n",
              "      <td>0</td>\n",
              "      <td>0</td>\n",
              "      <td>0</td>\n",
              "    </tr>\n",
              "    <tr>\n",
              "      <th>2</th>\n",
              "      <td>258965201766998017</td>\n",
              "      <td>radio fm fri oct labour analyst shawn hattingh...</td>\n",
              "      <td>22</td>\n",
              "      <td>140</td>\n",
              "      <td>5.409091</td>\n",
              "      <td>5</td>\n",
              "      <td>0</td>\n",
              "      <td>0</td>\n",
              "      <td>1</td>\n",
              "      <td>0</td>\n",
              "    </tr>\n",
              "    <tr>\n",
              "      <th>3</th>\n",
              "      <td>262926411352903682</td>\n",
              "      <td>kapan sih lo ngebuktiinjan ngomong doang susah...</td>\n",
              "      <td>21</td>\n",
              "      <td>140</td>\n",
              "      <td>5.714286</td>\n",
              "      <td>3</td>\n",
              "      <td>0</td>\n",
              "      <td>0</td>\n",
              "      <td>0</td>\n",
              "      <td>0</td>\n",
              "    </tr>\n",
              "    <tr>\n",
              "      <th>4</th>\n",
              "      <td>171874368908050432</td>\n",
              "      <td>excuse connectivity live stream baba amr activ...</td>\n",
              "      <td>21</td>\n",
              "      <td>135</td>\n",
              "      <td>5.476190</td>\n",
              "      <td>9</td>\n",
              "      <td>1</td>\n",
              "      <td>0</td>\n",
              "      <td>0</td>\n",
              "      <td>1</td>\n",
              "    </tr>\n",
              "  </tbody>\n",
              "</table>\n",
              "</div>"
            ],
            "text/plain": [
              "             tweet_id  ... upper_counts\n",
              "0  264238274963451904  ...            0\n",
              "1  218775148495515649  ...            0\n",
              "2  258965201766998017  ...            0\n",
              "3  262926411352903682  ...            0\n",
              "4  171874368908050432  ...            1\n",
              "\n",
              "[5 rows x 10 columns]"
            ]
          },
          "metadata": {
            "tags": []
          },
          "execution_count": 133
        }
      ]
    },
    {
      "cell_type": "code",
      "metadata": {
        "id": "F9QZNS3y81Zo",
        "colab": {
          "base_uri": "https://localhost:8080/",
          "height": 551
        },
        "outputId": "0b07e536-7d2c-4799-c1aa-4666946242ee"
      },
      "source": [
        "x = ' '.join(text_test)\n",
        "df_test.head()"
      ],
      "execution_count": null,
      "outputs": [
        {
          "output_type": "execute_result",
          "data": {
            "text/html": [
              "<div>\n",
              "<style scoped>\n",
              "    .dataframe tbody tr th:only-of-type {\n",
              "        vertical-align: middle;\n",
              "    }\n",
              "\n",
              "    .dataframe tbody tr th {\n",
              "        vertical-align: top;\n",
              "    }\n",
              "\n",
              "    .dataframe thead th {\n",
              "        text-align: right;\n",
              "    }\n",
              "</style>\n",
              "<table border=\"1\" class=\"dataframe\">\n",
              "  <thead>\n",
              "    <tr style=\"text-align: right;\">\n",
              "      <th></th>\n",
              "      <th>tweet_id</th>\n",
              "      <th>tweet_text</th>\n",
              "      <th>word_counts</th>\n",
              "      <th>char_counts</th>\n",
              "      <th>avg_word_len</th>\n",
              "      <th>stop_words_len</th>\n",
              "      <th>hashtags_count</th>\n",
              "      <th>mentions_ count</th>\n",
              "      <th>numeric_count</th>\n",
              "      <th>upper_counts</th>\n",
              "    </tr>\n",
              "  </thead>\n",
              "  <tbody>\n",
              "    <tr>\n",
              "      <th>0</th>\n",
              "      <td>264238274963451904</td>\n",
              "      <td>jjuueellzz atlantic city ventnor margate ocean...</td>\n",
              "      <td>22</td>\n",
              "      <td>140</td>\n",
              "      <td>5.409091</td>\n",
              "      <td>9</td>\n",
              "      <td>0</td>\n",
              "      <td>1</td>\n",
              "      <td>0</td>\n",
              "      <td>0</td>\n",
              "    </tr>\n",
              "    <tr>\n",
              "      <th>1</th>\n",
              "      <td>218775148495515649</td>\n",
              "      <td>musical awareness great big beautiful end</td>\n",
              "      <td>15</td>\n",
              "      <td>87</td>\n",
              "      <td>4.866667</td>\n",
              "      <td>6</td>\n",
              "      <td>0</td>\n",
              "      <td>0</td>\n",
              "      <td>0</td>\n",
              "      <td>0</td>\n",
              "    </tr>\n",
              "    <tr>\n",
              "      <th>2</th>\n",
              "      <td>258965201766998017</td>\n",
              "      <td>radio fm fri oct labour analyst shawn hattingh...</td>\n",
              "      <td>22</td>\n",
              "      <td>140</td>\n",
              "      <td>5.409091</td>\n",
              "      <td>5</td>\n",
              "      <td>0</td>\n",
              "      <td>0</td>\n",
              "      <td>1</td>\n",
              "      <td>0</td>\n",
              "    </tr>\n",
              "    <tr>\n",
              "      <th>3</th>\n",
              "      <td>262926411352903682</td>\n",
              "      <td>kapan sih lo ngebuktiinjan ngomong doang susah...</td>\n",
              "      <td>21</td>\n",
              "      <td>140</td>\n",
              "      <td>5.714286</td>\n",
              "      <td>3</td>\n",
              "      <td>0</td>\n",
              "      <td>0</td>\n",
              "      <td>0</td>\n",
              "      <td>0</td>\n",
              "    </tr>\n",
              "    <tr>\n",
              "      <th>4</th>\n",
              "      <td>171874368908050432</td>\n",
              "      <td>excuse connectivity live stream baba amr activ...</td>\n",
              "      <td>21</td>\n",
              "      <td>135</td>\n",
              "      <td>5.476190</td>\n",
              "      <td>9</td>\n",
              "      <td>1</td>\n",
              "      <td>0</td>\n",
              "      <td>0</td>\n",
              "      <td>1</td>\n",
              "    </tr>\n",
              "  </tbody>\n",
              "</table>\n",
              "</div>"
            ],
            "text/plain": [
              "             tweet_id  ... upper_counts\n",
              "0  264238274963451904  ...            0\n",
              "1  218775148495515649  ...            0\n",
              "2  258965201766998017  ...            0\n",
              "3  262926411352903682  ...            0\n",
              "4  171874368908050432  ...            1\n",
              "\n",
              "[5 rows x 10 columns]"
            ]
          },
          "metadata": {
            "tags": []
          },
          "execution_count": 134
        }
      ]
    },
    {
      "cell_type": "code",
      "metadata": {
        "id": "jjOFPn_883vt",
        "colab": {
          "base_uri": "https://localhost:8080/",
          "height": 517
        },
        "outputId": "cc209f65-e00c-4b0e-9073-15b7099730f5"
      },
      "source": [
        "df_test['tweet_text']=df_test['tweet_text'].apply(lambda x: TextBlob(str(x)).words)\n",
        "df_test.head()"
      ],
      "execution_count": null,
      "outputs": [
        {
          "output_type": "execute_result",
          "data": {
            "text/html": [
              "<div>\n",
              "<style scoped>\n",
              "    .dataframe tbody tr th:only-of-type {\n",
              "        vertical-align: middle;\n",
              "    }\n",
              "\n",
              "    .dataframe tbody tr th {\n",
              "        vertical-align: top;\n",
              "    }\n",
              "\n",
              "    .dataframe thead th {\n",
              "        text-align: right;\n",
              "    }\n",
              "</style>\n",
              "<table border=\"1\" class=\"dataframe\">\n",
              "  <thead>\n",
              "    <tr style=\"text-align: right;\">\n",
              "      <th></th>\n",
              "      <th>tweet_id</th>\n",
              "      <th>tweet_text</th>\n",
              "      <th>word_counts</th>\n",
              "      <th>char_counts</th>\n",
              "      <th>avg_word_len</th>\n",
              "      <th>stop_words_len</th>\n",
              "      <th>hashtags_count</th>\n",
              "      <th>mentions_ count</th>\n",
              "      <th>numeric_count</th>\n",
              "      <th>upper_counts</th>\n",
              "    </tr>\n",
              "  </thead>\n",
              "  <tbody>\n",
              "    <tr>\n",
              "      <th>0</th>\n",
              "      <td>264238274963451904</td>\n",
              "      <td>[jjuueellzz, atlantic, city, ventnor, margate,...</td>\n",
              "      <td>22</td>\n",
              "      <td>140</td>\n",
              "      <td>5.409091</td>\n",
              "      <td>9</td>\n",
              "      <td>0</td>\n",
              "      <td>1</td>\n",
              "      <td>0</td>\n",
              "      <td>0</td>\n",
              "    </tr>\n",
              "    <tr>\n",
              "      <th>1</th>\n",
              "      <td>218775148495515649</td>\n",
              "      <td>[musical, awareness, great, big, beautiful, end]</td>\n",
              "      <td>15</td>\n",
              "      <td>87</td>\n",
              "      <td>4.866667</td>\n",
              "      <td>6</td>\n",
              "      <td>0</td>\n",
              "      <td>0</td>\n",
              "      <td>0</td>\n",
              "      <td>0</td>\n",
              "    </tr>\n",
              "    <tr>\n",
              "      <th>2</th>\n",
              "      <td>258965201766998017</td>\n",
              "      <td>[radio, fm, fri, oct, labour, analyst, shawn, ...</td>\n",
              "      <td>22</td>\n",
              "      <td>140</td>\n",
              "      <td>5.409091</td>\n",
              "      <td>5</td>\n",
              "      <td>0</td>\n",
              "      <td>0</td>\n",
              "      <td>1</td>\n",
              "      <td>0</td>\n",
              "    </tr>\n",
              "    <tr>\n",
              "      <th>3</th>\n",
              "      <td>262926411352903682</td>\n",
              "      <td>[kapan, sih, lo, ngebuktiinjan, ngomong, doang...</td>\n",
              "      <td>21</td>\n",
              "      <td>140</td>\n",
              "      <td>5.714286</td>\n",
              "      <td>3</td>\n",
              "      <td>0</td>\n",
              "      <td>0</td>\n",
              "      <td>0</td>\n",
              "      <td>0</td>\n",
              "    </tr>\n",
              "    <tr>\n",
              "      <th>4</th>\n",
              "      <td>171874368908050432</td>\n",
              "      <td>[excuse, connectivity, live, stream, baba, amr...</td>\n",
              "      <td>21</td>\n",
              "      <td>135</td>\n",
              "      <td>5.476190</td>\n",
              "      <td>9</td>\n",
              "      <td>1</td>\n",
              "      <td>0</td>\n",
              "      <td>0</td>\n",
              "      <td>1</td>\n",
              "    </tr>\n",
              "  </tbody>\n",
              "</table>\n",
              "</div>"
            ],
            "text/plain": [
              "             tweet_id  ... upper_counts\n",
              "0  264238274963451904  ...            0\n",
              "1  218775148495515649  ...            0\n",
              "2  258965201766998017  ...            0\n",
              "3  262926411352903682  ...            0\n",
              "4  171874368908050432  ...            1\n",
              "\n",
              "[5 rows x 10 columns]"
            ]
          },
          "metadata": {
            "tags": []
          },
          "execution_count": 135
        }
      ]
    },
    {
      "cell_type": "code",
      "metadata": {
        "id": "vq82RbVw87lZ",
        "colab": {
          "base_uri": "https://localhost:8080/",
          "height": 551
        },
        "outputId": "76d2db2a-96b5-47a6-c0cc-f917fd3c883a"
      },
      "source": [
        "df_test['tweet_text'] = df_test['tweet_text'].apply(lambda x: \" \".join(x)) \n",
        "df_test.head()"
      ],
      "execution_count": null,
      "outputs": [
        {
          "output_type": "execute_result",
          "data": {
            "text/html": [
              "<div>\n",
              "<style scoped>\n",
              "    .dataframe tbody tr th:only-of-type {\n",
              "        vertical-align: middle;\n",
              "    }\n",
              "\n",
              "    .dataframe tbody tr th {\n",
              "        vertical-align: top;\n",
              "    }\n",
              "\n",
              "    .dataframe thead th {\n",
              "        text-align: right;\n",
              "    }\n",
              "</style>\n",
              "<table border=\"1\" class=\"dataframe\">\n",
              "  <thead>\n",
              "    <tr style=\"text-align: right;\">\n",
              "      <th></th>\n",
              "      <th>tweet_id</th>\n",
              "      <th>tweet_text</th>\n",
              "      <th>word_counts</th>\n",
              "      <th>char_counts</th>\n",
              "      <th>avg_word_len</th>\n",
              "      <th>stop_words_len</th>\n",
              "      <th>hashtags_count</th>\n",
              "      <th>mentions_ count</th>\n",
              "      <th>numeric_count</th>\n",
              "      <th>upper_counts</th>\n",
              "    </tr>\n",
              "  </thead>\n",
              "  <tbody>\n",
              "    <tr>\n",
              "      <th>0</th>\n",
              "      <td>264238274963451904</td>\n",
              "      <td>jjuueellzz atlantic city ventnor margate ocean...</td>\n",
              "      <td>22</td>\n",
              "      <td>140</td>\n",
              "      <td>5.409091</td>\n",
              "      <td>9</td>\n",
              "      <td>0</td>\n",
              "      <td>1</td>\n",
              "      <td>0</td>\n",
              "      <td>0</td>\n",
              "    </tr>\n",
              "    <tr>\n",
              "      <th>1</th>\n",
              "      <td>218775148495515649</td>\n",
              "      <td>musical awareness great big beautiful end</td>\n",
              "      <td>15</td>\n",
              "      <td>87</td>\n",
              "      <td>4.866667</td>\n",
              "      <td>6</td>\n",
              "      <td>0</td>\n",
              "      <td>0</td>\n",
              "      <td>0</td>\n",
              "      <td>0</td>\n",
              "    </tr>\n",
              "    <tr>\n",
              "      <th>2</th>\n",
              "      <td>258965201766998017</td>\n",
              "      <td>radio fm fri oct labour analyst shawn hattingh...</td>\n",
              "      <td>22</td>\n",
              "      <td>140</td>\n",
              "      <td>5.409091</td>\n",
              "      <td>5</td>\n",
              "      <td>0</td>\n",
              "      <td>0</td>\n",
              "      <td>1</td>\n",
              "      <td>0</td>\n",
              "    </tr>\n",
              "    <tr>\n",
              "      <th>3</th>\n",
              "      <td>262926411352903682</td>\n",
              "      <td>kapan sih lo ngebuktiinjan ngomong doang susah...</td>\n",
              "      <td>21</td>\n",
              "      <td>140</td>\n",
              "      <td>5.714286</td>\n",
              "      <td>3</td>\n",
              "      <td>0</td>\n",
              "      <td>0</td>\n",
              "      <td>0</td>\n",
              "      <td>0</td>\n",
              "    </tr>\n",
              "    <tr>\n",
              "      <th>4</th>\n",
              "      <td>171874368908050432</td>\n",
              "      <td>excuse connectivity live stream baba amr activ...</td>\n",
              "      <td>21</td>\n",
              "      <td>135</td>\n",
              "      <td>5.476190</td>\n",
              "      <td>9</td>\n",
              "      <td>1</td>\n",
              "      <td>0</td>\n",
              "      <td>0</td>\n",
              "      <td>1</td>\n",
              "    </tr>\n",
              "  </tbody>\n",
              "</table>\n",
              "</div>"
            ],
            "text/plain": [
              "             tweet_id  ... upper_counts\n",
              "0  264238274963451904  ...            0\n",
              "1  218775148495515649  ...            0\n",
              "2  258965201766998017  ...            0\n",
              "3  262926411352903682  ...            0\n",
              "4  171874368908050432  ...            1\n",
              "\n",
              "[5 rows x 10 columns]"
            ]
          },
          "metadata": {
            "tags": []
          },
          "execution_count": 136
        }
      ]
    },
    {
      "cell_type": "code",
      "metadata": {
        "id": "PsrDqHQT9KOw",
        "colab": {
          "base_uri": "https://localhost:8080/",
          "height": 551
        },
        "outputId": "0f6a1ed4-b284-41f2-d54d-1a4570519bf9"
      },
      "source": [
        "dfr_feat=df_test.drop(labels=['tweet_text'], axis=1)\n",
        "df_test.head()"
      ],
      "execution_count": null,
      "outputs": [
        {
          "output_type": "execute_result",
          "data": {
            "text/html": [
              "<div>\n",
              "<style scoped>\n",
              "    .dataframe tbody tr th:only-of-type {\n",
              "        vertical-align: middle;\n",
              "    }\n",
              "\n",
              "    .dataframe tbody tr th {\n",
              "        vertical-align: top;\n",
              "    }\n",
              "\n",
              "    .dataframe thead th {\n",
              "        text-align: right;\n",
              "    }\n",
              "</style>\n",
              "<table border=\"1\" class=\"dataframe\">\n",
              "  <thead>\n",
              "    <tr style=\"text-align: right;\">\n",
              "      <th></th>\n",
              "      <th>tweet_id</th>\n",
              "      <th>tweet_text</th>\n",
              "      <th>word_counts</th>\n",
              "      <th>char_counts</th>\n",
              "      <th>avg_word_len</th>\n",
              "      <th>stop_words_len</th>\n",
              "      <th>hashtags_count</th>\n",
              "      <th>mentions_ count</th>\n",
              "      <th>numeric_count</th>\n",
              "      <th>upper_counts</th>\n",
              "    </tr>\n",
              "  </thead>\n",
              "  <tbody>\n",
              "    <tr>\n",
              "      <th>0</th>\n",
              "      <td>264238274963451904</td>\n",
              "      <td>jjuueellzz atlantic city ventnor margate ocean...</td>\n",
              "      <td>22</td>\n",
              "      <td>140</td>\n",
              "      <td>5.409091</td>\n",
              "      <td>9</td>\n",
              "      <td>0</td>\n",
              "      <td>1</td>\n",
              "      <td>0</td>\n",
              "      <td>0</td>\n",
              "    </tr>\n",
              "    <tr>\n",
              "      <th>1</th>\n",
              "      <td>218775148495515649</td>\n",
              "      <td>musical awareness great big beautiful end</td>\n",
              "      <td>15</td>\n",
              "      <td>87</td>\n",
              "      <td>4.866667</td>\n",
              "      <td>6</td>\n",
              "      <td>0</td>\n",
              "      <td>0</td>\n",
              "      <td>0</td>\n",
              "      <td>0</td>\n",
              "    </tr>\n",
              "    <tr>\n",
              "      <th>2</th>\n",
              "      <td>258965201766998017</td>\n",
              "      <td>radio fm fri oct labour analyst shawn hattingh...</td>\n",
              "      <td>22</td>\n",
              "      <td>140</td>\n",
              "      <td>5.409091</td>\n",
              "      <td>5</td>\n",
              "      <td>0</td>\n",
              "      <td>0</td>\n",
              "      <td>1</td>\n",
              "      <td>0</td>\n",
              "    </tr>\n",
              "    <tr>\n",
              "      <th>3</th>\n",
              "      <td>262926411352903682</td>\n",
              "      <td>kapan sih lo ngebuktiinjan ngomong doang susah...</td>\n",
              "      <td>21</td>\n",
              "      <td>140</td>\n",
              "      <td>5.714286</td>\n",
              "      <td>3</td>\n",
              "      <td>0</td>\n",
              "      <td>0</td>\n",
              "      <td>0</td>\n",
              "      <td>0</td>\n",
              "    </tr>\n",
              "    <tr>\n",
              "      <th>4</th>\n",
              "      <td>171874368908050432</td>\n",
              "      <td>excuse connectivity live stream baba amr activ...</td>\n",
              "      <td>21</td>\n",
              "      <td>135</td>\n",
              "      <td>5.476190</td>\n",
              "      <td>9</td>\n",
              "      <td>1</td>\n",
              "      <td>0</td>\n",
              "      <td>0</td>\n",
              "      <td>1</td>\n",
              "    </tr>\n",
              "  </tbody>\n",
              "</table>\n",
              "</div>"
            ],
            "text/plain": [
              "             tweet_id  ... upper_counts\n",
              "0  264238274963451904  ...            0\n",
              "1  218775148495515649  ...            0\n",
              "2  258965201766998017  ...            0\n",
              "3  262926411352903682  ...            0\n",
              "4  171874368908050432  ...            1\n",
              "\n",
              "[5 rows x 10 columns]"
            ]
          },
          "metadata": {
            "tags": []
          },
          "execution_count": 137
        }
      ]
    },
    {
      "cell_type": "code",
      "metadata": {
        "id": "FCrzY3Wu_QWj"
      },
      "source": [
        "# tfidf = TfidfVectorizer()\n",
        "\n",
        "#X_train=tfidf.fit_transform(df_test['tweet_text'])"
      ],
      "execution_count": null,
      "outputs": []
    },
    {
      "cell_type": "code",
      "metadata": {
        "id": "Gf68z39f_1ZX"
      },
      "source": [
        "#X_train.shape\n",
        "# df_test.head()"
      ],
      "execution_count": null,
      "outputs": []
    },
    {
      "cell_type": "code",
      "metadata": {
        "id": "KY_jrWYpD9yU",
        "colab": {
          "base_uri": "https://localhost:8080/",
          "height": 87
        },
        "outputId": "6d4aade5-5451-4730-a4e8-a115a2ca450f"
      },
      "source": [
        "df_test.columns"
      ],
      "execution_count": null,
      "outputs": [
        {
          "output_type": "execute_result",
          "data": {
            "text/plain": [
              "Index(['tweet_id', 'tweet_text', 'word_counts', 'char_counts', 'avg_word_len',\n",
              "       'stop_words_len', 'hashtags_count', 'mentions_ count', 'numeric_count',\n",
              "       'upper_counts'],\n",
              "      dtype='object')"
            ]
          },
          "metadata": {
            "tags": []
          },
          "execution_count": 140
        }
      ]
    },
    {
      "cell_type": "code",
      "metadata": {
        "id": "jJDoEYqiEE-B",
        "colab": {
          "base_uri": "https://localhost:8080/",
          "height": 87
        },
        "outputId": "13dedec9-2a1c-4de8-830e-1aabd9f52340"
      },
      "source": [
        "dfr.columns"
      ],
      "execution_count": null,
      "outputs": [
        {
          "output_type": "execute_result",
          "data": {
            "text/plain": [
              "Index(['tweet_id', 'sentiment', 'tweet_text', 'word_counts', 'char_counts',\n",
              "       'avg_word_len', 'stop_words_len', 'hashtags_count', 'mentions_ count',\n",
              "       'numeric_count', 'upper_counts'],\n",
              "      dtype='object')"
            ]
          },
          "metadata": {
            "tags": []
          },
          "execution_count": 141
        }
      ]
    },
    {
      "cell_type": "code",
      "metadata": {
        "id": "gwjvJmctFZB8"
      },
      "source": [
        "# clf_temp={'SGD': sgd, 'LR': lgr, 'LGR-CV': lgrcv, 'SVM': svm, 'RFC':rfc}"
      ],
      "execution_count": null,
      "outputs": []
    },
    {
      "cell_type": "code",
      "metadata": {
        "id": "ibZBJrAZAVkO"
      },
      "source": [
        "##scaler=MaxAbsScaler()\n",
        "#X_train=scaler.fit_transform(X_train)\n",
        "X_train = df_test['tweet_text']\n",
        "X_train = tfidf.transform(X_train)\n",
        "X_train = scaler.transform(X_train)\n",
        "# X_train, X_test, y_train, y_test= train_test_split(X,y, test_size=0.2, random_state=42, stratify=y)\n",
        "\n",
        "                                                                                                                                                                                                                                                                                                                                                                                                                                                                                                                                                                                                                                                                                                                                                                                                                                                                                                                                                                                                                                                                                                                                                                                                                                                                                                                                                                                                                                                                                                                                                                                                                                                                                                                                                                                                                                                                                                                                                                                                                                                                                                                                                                                                                                                                                                                                                                                                                                                                                                                                                                                                                                                                                                                                                                                                                                                                                                                                                                                                                                                                                                                                                                                                                                                                                                                                                                                                                                                                                                                                                                                                                                                                                                                                                                                                                                                                                                                                                                                                                                                                                                                                                                                                                                                                                                                                                                                                                                                                                                                                                                                                                                                                                                                                                                                                                                                                                                                                                                                                                                                                                                                                                                                                                                                                                                                                                                                                                                                                                                                                                                                                                                                                                                                                                                                                                                                                                                                                                                                                                                                                                                                                                                                                                                                                                                                                                                                                                                                                                                                                                                                                                                                                                                                                                                                                                                                                                                                                                                                                                                                                                                                                                                                                                                                                                                                                                                                                                                                                                                                                                                                                                                                                                                                                                                                                                                                                                                                                                                                                                                                                                                                                                                                                                                                                                                                                                                                                                                                                                                                                                                                                                                                                                                                                                                                                                                                                                                                                                                                                                                                                                                                                                                                                                                                                                                                                                                                                                                                                                                                                                                                                                                                                                                                                                                                                                                                                                                                                                                                                                                                                                                                                                                                                                                                                                                                                                                                                                                                                                                                                                                                                                                                                                                                                                                                                                                                                                                                                                                                                                                                                                                                                                                                                                                                                                                                                                                                                                                                                                                                                                                                                                                                                                                                                                                                                                                                                                                                                                                                                                                                                                                                                                                                                                                                                                                                                                                                                                                                                                                                                                                                                                                                                                                                                                                                                                                                                                                                                                                                                                                                                                                                                                                                                                                                                                                                                                                                                                                                                                                                                                                                                                                                                                                                                                                                                                                                                                                                                                                                                                                                                                                                                                                                                                                                                                                                                                                                                                                                                                                                                                                                                                                                                                                                                                                                                                                                                                                                                                                                                                                                                                                                                                                                                                                                                                                                                                                                                                                                                                                                                                                                                                                                                                                                                                                                                                                                                                                                                                                                                                                                                                                                                                                                                                                                                                                                                                                                            "
      ],
      "execution_count": null,
      "outputs": []
    },
    {
      "cell_type": "code",
      "metadata": {
        "id": "Fo4Df9hqVTPr",
        "colab": {
          "base_uri": "https://localhost:8080/",
          "height": 194
        },
        "outputId": "facfe20c-6387-4e95-c9b1-a88cc9af47f9"
      },
      "source": [
        "#clf_temp={'SGD': sgd, 'LR': lgr, 'SVM': svm, 'RFC':rfc}\n",
        "pred_list=[]\n",
        "\n",
        "for key in clf.keys():\n",
        "  print(key)\n",
        "  y_pred=clf[key].predict(X_train)\n",
        "  pred_list.append(y_pred)\n",
        "  \n",
        "  print(y_pred)"
      ],
      "execution_count": null,
      "outputs": [
        {
          "output_type": "stream",
          "text": [
            "SGD\n",
            "['positive' 'positive' 'neutral' ... 'positive' 'positive' 'neutral']\n",
            "LR\n",
            "['positive' 'positive' 'neutral' ... 'positive' 'neutral' 'positive']\n",
            "LGR-CV\n",
            "['positive' 'positive' 'neutral' ... 'positive' 'positive' 'neutral']\n",
            "SVM\n",
            "['positive' 'positive' 'neutral' ... 'positive' 'neutral' 'positive']\n",
            "RFC\n",
            "['neutral' 'positive' 'neutral' ... 'neutral' 'positive' 'neutral']\n"
          ],
          "name": "stdout"
        }
      ]
    },
    {
      "cell_type": "code",
      "metadata": {
        "id": "M7_ZdSjIXzoZ",
        "colab": {
          "base_uri": "https://localhost:8080/",
          "height": 16
        },
        "outputId": "4636c7d5-95aa-4236-df50-fc34c65b54ed"
      },
      "source": [
        "#df_test.head()\n",
        "#pred_list\n",
        "from google.colab import files\n",
        "df_SGD = pd.DataFrame(df_test.iloc[:,0])\n",
        "df_SGD['sentiment']=pred_list[0]\n",
        "df_SGD.to_csv('output_SGD.csv',index=False)\n",
        "files.download('output_SGD.csv')\n",
        "\n",
        "df_LR = pd.DataFrame(df_test.iloc[:,0])\n",
        "df_LR['sentiment']=pred_list[1]\n",
        "df_LR.to_csv('output_LR.csv',index=False)\n",
        "files.download('output_LR.csv')\n",
        "\n",
        "df_LGRCV = pd.DataFrame(df_test.iloc[:,0])\n",
        "df_LGRCV['sentiment']=pred_list[2]\n",
        "df_LGRCV.to_csv('output_LGRCV.csv',index=False)\n",
        "files.download('output_LGRCV.csv')\n",
        "\n",
        "df_SVM = pd.DataFrame(df_test.iloc[:,0])\n",
        "df_SVM['sentiment']=pred_list[3]\n",
        "df_SVM.to_csv('output_SVM.csv',index=False)\n",
        "files.download('output_SVM.csv')\n",
        "\n",
        "df_RFC = pd.DataFrame(df_test.iloc[:,0])\n",
        "df_RFC['sentiment']=pred_list[4]\n",
        "df_RFC.to_csv('output_RFC.csv',index=False)\n",
        "files.download('output_RFC.csv')\n"
      ],
      "execution_count": null,
      "outputs": [
        {
          "output_type": "display_data",
          "data": {
            "application/javascript": [
              "\n",
              "    async function download(id, filename, size) {\n",
              "      if (!google.colab.kernel.accessAllowed) {\n",
              "        return;\n",
              "      }\n",
              "      const div = document.createElement('div');\n",
              "      const label = document.createElement('label');\n",
              "      label.textContent = `Downloading \"${filename}\": `;\n",
              "      div.appendChild(label);\n",
              "      const progress = document.createElement('progress');\n",
              "      progress.max = size;\n",
              "      div.appendChild(progress);\n",
              "      document.body.appendChild(div);\n",
              "\n",
              "      const buffers = [];\n",
              "      let downloaded = 0;\n",
              "\n",
              "      const channel = await google.colab.kernel.comms.open(id);\n",
              "      // Send a message to notify the kernel that we're ready.\n",
              "      channel.send({})\n",
              "\n",
              "      for await (const message of channel.messages) {\n",
              "        // Send a message to notify the kernel that we're ready.\n",
              "        channel.send({})\n",
              "        if (message.buffers) {\n",
              "          for (const buffer of message.buffers) {\n",
              "            buffers.push(buffer);\n",
              "            downloaded += buffer.byteLength;\n",
              "            progress.value = downloaded;\n",
              "          }\n",
              "        }\n",
              "      }\n",
              "      const blob = new Blob(buffers, {type: 'application/binary'});\n",
              "      const a = document.createElement('a');\n",
              "      a.href = window.URL.createObjectURL(blob);\n",
              "      a.download = filename;\n",
              "      div.appendChild(a);\n",
              "      a.click();\n",
              "      div.remove();\n",
              "    }\n",
              "  "
            ],
            "text/plain": [
              "<IPython.core.display.Javascript object>"
            ]
          },
          "metadata": {
            "tags": []
          }
        },
        {
          "output_type": "display_data",
          "data": {
            "application/javascript": [
              "download(\"download_d5f03b5c-07b4-4b6b-9242-79e5fac398fe\", \"output_SGD.csv\", 148631)"
            ],
            "text/plain": [
              "<IPython.core.display.Javascript object>"
            ]
          },
          "metadata": {
            "tags": []
          }
        },
        {
          "output_type": "display_data",
          "data": {
            "application/javascript": [
              "\n",
              "    async function download(id, filename, size) {\n",
              "      if (!google.colab.kernel.accessAllowed) {\n",
              "        return;\n",
              "      }\n",
              "      const div = document.createElement('div');\n",
              "      const label = document.createElement('label');\n",
              "      label.textContent = `Downloading \"${filename}\": `;\n",
              "      div.appendChild(label);\n",
              "      const progress = document.createElement('progress');\n",
              "      progress.max = size;\n",
              "      div.appendChild(progress);\n",
              "      document.body.appendChild(div);\n",
              "\n",
              "      const buffers = [];\n",
              "      let downloaded = 0;\n",
              "\n",
              "      const channel = await google.colab.kernel.comms.open(id);\n",
              "      // Send a message to notify the kernel that we're ready.\n",
              "      channel.send({})\n",
              "\n",
              "      for await (const message of channel.messages) {\n",
              "        // Send a message to notify the kernel that we're ready.\n",
              "        channel.send({})\n",
              "        if (message.buffers) {\n",
              "          for (const buffer of message.buffers) {\n",
              "            buffers.push(buffer);\n",
              "            downloaded += buffer.byteLength;\n",
              "            progress.value = downloaded;\n",
              "          }\n",
              "        }\n",
              "      }\n",
              "      const blob = new Blob(buffers, {type: 'application/binary'});\n",
              "      const a = document.createElement('a');\n",
              "      a.href = window.URL.createObjectURL(blob);\n",
              "      a.download = filename;\n",
              "      div.appendChild(a);\n",
              "      a.click();\n",
              "      div.remove();\n",
              "    }\n",
              "  "
            ],
            "text/plain": [
              "<IPython.core.display.Javascript object>"
            ]
          },
          "metadata": {
            "tags": []
          }
        },
        {
          "output_type": "display_data",
          "data": {
            "application/javascript": [
              "download(\"download_d35320fd-9841-450f-97e8-44dc1dcc8c93\", \"output_LR.csv\", 148439)"
            ],
            "text/plain": [
              "<IPython.core.display.Javascript object>"
            ]
          },
          "metadata": {
            "tags": []
          }
        },
        {
          "output_type": "display_data",
          "data": {
            "application/javascript": [
              "\n",
              "    async function download(id, filename, size) {\n",
              "      if (!google.colab.kernel.accessAllowed) {\n",
              "        return;\n",
              "      }\n",
              "      const div = document.createElement('div');\n",
              "      const label = document.createElement('label');\n",
              "      label.textContent = `Downloading \"${filename}\": `;\n",
              "      div.appendChild(label);\n",
              "      const progress = document.createElement('progress');\n",
              "      progress.max = size;\n",
              "      div.appendChild(progress);\n",
              "      document.body.appendChild(div);\n",
              "\n",
              "      const buffers = [];\n",
              "      let downloaded = 0;\n",
              "\n",
              "      const channel = await google.colab.kernel.comms.open(id);\n",
              "      // Send a message to notify the kernel that we're ready.\n",
              "      channel.send({})\n",
              "\n",
              "      for await (const message of channel.messages) {\n",
              "        // Send a message to notify the kernel that we're ready.\n",
              "        channel.send({})\n",
              "        if (message.buffers) {\n",
              "          for (const buffer of message.buffers) {\n",
              "            buffers.push(buffer);\n",
              "            downloaded += buffer.byteLength;\n",
              "            progress.value = downloaded;\n",
              "          }\n",
              "        }\n",
              "      }\n",
              "      const blob = new Blob(buffers, {type: 'application/binary'});\n",
              "      const a = document.createElement('a');\n",
              "      a.href = window.URL.createObjectURL(blob);\n",
              "      a.download = filename;\n",
              "      div.appendChild(a);\n",
              "      a.click();\n",
              "      div.remove();\n",
              "    }\n",
              "  "
            ],
            "text/plain": [
              "<IPython.core.display.Javascript object>"
            ]
          },
          "metadata": {
            "tags": []
          }
        },
        {
          "output_type": "display_data",
          "data": {
            "application/javascript": [
              "download(\"download_53406c08-ac21-427a-abd3-1d48c17ae73b\", \"output_LGRCV.csv\", 148333)"
            ],
            "text/plain": [
              "<IPython.core.display.Javascript object>"
            ]
          },
          "metadata": {
            "tags": []
          }
        },
        {
          "output_type": "display_data",
          "data": {
            "application/javascript": [
              "\n",
              "    async function download(id, filename, size) {\n",
              "      if (!google.colab.kernel.accessAllowed) {\n",
              "        return;\n",
              "      }\n",
              "      const div = document.createElement('div');\n",
              "      const label = document.createElement('label');\n",
              "      label.textContent = `Downloading \"${filename}\": `;\n",
              "      div.appendChild(label);\n",
              "      const progress = document.createElement('progress');\n",
              "      progress.max = size;\n",
              "      div.appendChild(progress);\n",
              "      document.body.appendChild(div);\n",
              "\n",
              "      const buffers = [];\n",
              "      let downloaded = 0;\n",
              "\n",
              "      const channel = await google.colab.kernel.comms.open(id);\n",
              "      // Send a message to notify the kernel that we're ready.\n",
              "      channel.send({})\n",
              "\n",
              "      for await (const message of channel.messages) {\n",
              "        // Send a message to notify the kernel that we're ready.\n",
              "        channel.send({})\n",
              "        if (message.buffers) {\n",
              "          for (const buffer of message.buffers) {\n",
              "            buffers.push(buffer);\n",
              "            downloaded += buffer.byteLength;\n",
              "            progress.value = downloaded;\n",
              "          }\n",
              "        }\n",
              "      }\n",
              "      const blob = new Blob(buffers, {type: 'application/binary'});\n",
              "      const a = document.createElement('a');\n",
              "      a.href = window.URL.createObjectURL(blob);\n",
              "      a.download = filename;\n",
              "      div.appendChild(a);\n",
              "      a.click();\n",
              "      div.remove();\n",
              "    }\n",
              "  "
            ],
            "text/plain": [
              "<IPython.core.display.Javascript object>"
            ]
          },
          "metadata": {
            "tags": []
          }
        },
        {
          "output_type": "display_data",
          "data": {
            "application/javascript": [
              "download(\"download_080805cf-56c5-4054-a405-2ff86c0846c6\", \"output_SVM.csv\", 148656)"
            ],
            "text/plain": [
              "<IPython.core.display.Javascript object>"
            ]
          },
          "metadata": {
            "tags": []
          }
        },
        {
          "output_type": "display_data",
          "data": {
            "application/javascript": [
              "\n",
              "    async function download(id, filename, size) {\n",
              "      if (!google.colab.kernel.accessAllowed) {\n",
              "        return;\n",
              "      }\n",
              "      const div = document.createElement('div');\n",
              "      const label = document.createElement('label');\n",
              "      label.textContent = `Downloading \"${filename}\": `;\n",
              "      div.appendChild(label);\n",
              "      const progress = document.createElement('progress');\n",
              "      progress.max = size;\n",
              "      div.appendChild(progress);\n",
              "      document.body.appendChild(div);\n",
              "\n",
              "      const buffers = [];\n",
              "      let downloaded = 0;\n",
              "\n",
              "      const channel = await google.colab.kernel.comms.open(id);\n",
              "      // Send a message to notify the kernel that we're ready.\n",
              "      channel.send({})\n",
              "\n",
              "      for await (const message of channel.messages) {\n",
              "        // Send a message to notify the kernel that we're ready.\n",
              "        channel.send({})\n",
              "        if (message.buffers) {\n",
              "          for (const buffer of message.buffers) {\n",
              "            buffers.push(buffer);\n",
              "            downloaded += buffer.byteLength;\n",
              "            progress.value = downloaded;\n",
              "          }\n",
              "        }\n",
              "      }\n",
              "      const blob = new Blob(buffers, {type: 'application/binary'});\n",
              "      const a = document.createElement('a');\n",
              "      a.href = window.URL.createObjectURL(blob);\n",
              "      a.download = filename;\n",
              "      div.appendChild(a);\n",
              "      a.click();\n",
              "      div.remove();\n",
              "    }\n",
              "  "
            ],
            "text/plain": [
              "<IPython.core.display.Javascript object>"
            ]
          },
          "metadata": {
            "tags": []
          }
        },
        {
          "output_type": "display_data",
          "data": {
            "application/javascript": [
              "download(\"download_c3acaf5c-1c84-4813-b396-5cd29ba02723\", \"output_RFC.csv\", 148255)"
            ],
            "text/plain": [
              "<IPython.core.display.Javascript object>"
            ]
          },
          "metadata": {
            "tags": []
          }
        }
      ]
    }
  ]
}